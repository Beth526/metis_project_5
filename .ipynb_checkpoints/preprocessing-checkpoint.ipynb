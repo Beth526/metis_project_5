{
 "cells": [
  {
   "cell_type": "code",
   "execution_count": 67,
   "metadata": {},
   "outputs": [],
   "source": [
    "import pandas as pd\n",
    "import numpy as np\n",
    "import os\n",
    "import pickle\n",
    "import matplotlib.pyplot as plt"
   ]
  },
  {
   "cell_type": "code",
   "execution_count": 3,
   "metadata": {},
   "outputs": [],
   "source": [
    "os.chdir('/Users/beth/Desktop/MetisProject5data_2/')"
   ]
  },
  {
   "cell_type": "markdown",
   "metadata": {},
   "source": [
    "### Exploration of dataset, how many patients in each tumor type, distributions of mutation counts, and percent of normal reads that had normal variation added\n",
    "\n",
    "One row was created for each mutation in the MAF file\n",
    "\n",
    "Just looking at normal files here\n",
    "\n",
    "Tumor files will be the same length, unless an insertion was added before the tumor mutation and the mutation was no longer in the 100bp window - then that sequence was excluded from the tumor file.\n",
    "\n",
    "If a tumor mutation was added to a region where a deletion was previously added, it will be added on top of it. This should be corrected in next iteration of the project."
   ]
  },
  {
   "cell_type": "code",
   "execution_count": 4,
   "metadata": {},
   "outputs": [],
   "source": [
    "bladder = pd.read_csv('bladder_normal.csv',header=None)"
   ]
  },
  {
   "cell_type": "code",
   "execution_count": 24,
   "metadata": {},
   "outputs": [
    {
     "data": {
      "text/html": [
       "<div>\n",
       "<style scoped>\n",
       "    .dataframe tbody tr th:only-of-type {\n",
       "        vertical-align: middle;\n",
       "    }\n",
       "\n",
       "    .dataframe tbody tr th {\n",
       "        vertical-align: top;\n",
       "    }\n",
       "\n",
       "    .dataframe thead th {\n",
       "        text-align: right;\n",
       "    }\n",
       "</style>\n",
       "<table border=\"1\" class=\"dataframe\">\n",
       "  <thead>\n",
       "    <tr style=\"text-align: right;\">\n",
       "      <th></th>\n",
       "      <th>0</th>\n",
       "      <th>1</th>\n",
       "      <th>2</th>\n",
       "    </tr>\n",
       "  </thead>\n",
       "  <tbody>\n",
       "    <tr>\n",
       "      <th>0</th>\n",
       "      <td>TCGA-DK-A1AE-01A-11D-A13W-08</td>\n",
       "      <td>GCGGGCTCCACGGGACTGCCTCTACTAGTGCCTTGCTGGTCCACTG...</td>\n",
       "      <td>GCGGGCTCCACGGGACTGCCTCTACTAGTGCCTCGCTGGTCCACCG...</td>\n",
       "    </tr>\n",
       "    <tr>\n",
       "      <th>1</th>\n",
       "      <td>TCGA-DK-A1AE-01A-11D-A13W-08</td>\n",
       "      <td>TCTTGGTGGGAGGCTGAGAAGAGCAGCAGCAGCAACAGAGAGAGAA...</td>\n",
       "      <td>TCTTGGTGGGAGGCTGAGAAGAGCAGCAGCAGCAACAGAGAGAGAA...</td>\n",
       "    </tr>\n",
       "    <tr>\n",
       "      <th>2</th>\n",
       "      <td>TCGA-DK-A1AE-01A-11D-A13W-08</td>\n",
       "      <td>GACCCCCTTCCGCAGCCTGCCGGGAGATGTAGTTCGTTCCGCAGCA...</td>\n",
       "      <td>GACCCCCTTCCGCAGCCTGCCGGGAGATGTAGTTCGTTCCGCAGCA...</td>\n",
       "    </tr>\n",
       "    <tr>\n",
       "      <th>3</th>\n",
       "      <td>TCGA-DK-A1AE-01A-11D-A13W-08</td>\n",
       "      <td>GTTTGGAGTCCCCAATCCCACAGTCCACTAAGAAGAGGGTCTGAAG...</td>\n",
       "      <td>GTTTGGAGTCCCCAATCCCACAGTCCACTAAGAAGAGGGTCTGAAG...</td>\n",
       "    </tr>\n",
       "    <tr>\n",
       "      <th>4</th>\n",
       "      <td>TCGA-DK-A1AE-01A-11D-A13W-08</td>\n",
       "      <td>tggaaggcggggcaggagcaagcggcctgggcagggcaaggGGGCC...</td>\n",
       "      <td>tggaaggcggggcaggagcaagcggcctgggcagggcaaggGGGCC...</td>\n",
       "    </tr>\n",
       "  </tbody>\n",
       "</table>\n",
       "</div>"
      ],
      "text/plain": [
       "                              0  \\\n",
       "0  TCGA-DK-A1AE-01A-11D-A13W-08   \n",
       "1  TCGA-DK-A1AE-01A-11D-A13W-08   \n",
       "2  TCGA-DK-A1AE-01A-11D-A13W-08   \n",
       "3  TCGA-DK-A1AE-01A-11D-A13W-08   \n",
       "4  TCGA-DK-A1AE-01A-11D-A13W-08   \n",
       "\n",
       "                                                   1  \\\n",
       "0  GCGGGCTCCACGGGACTGCCTCTACTAGTGCCTTGCTGGTCCACTG...   \n",
       "1  TCTTGGTGGGAGGCTGAGAAGAGCAGCAGCAGCAACAGAGAGAGAA...   \n",
       "2  GACCCCCTTCCGCAGCCTGCCGGGAGATGTAGTTCGTTCCGCAGCA...   \n",
       "3  GTTTGGAGTCCCCAATCCCACAGTCCACTAAGAAGAGGGTCTGAAG...   \n",
       "4  tggaaggcggggcaggagcaagcggcctgggcagggcaaggGGGCC...   \n",
       "\n",
       "                                                   2  \n",
       "0  GCGGGCTCCACGGGACTGCCTCTACTAGTGCCTCGCTGGTCCACCG...  \n",
       "1  TCTTGGTGGGAGGCTGAGAAGAGCAGCAGCAGCAACAGAGAGAGAA...  \n",
       "2  GACCCCCTTCCGCAGCCTGCCGGGAGATGTAGTTCGTTCCGCAGCA...  \n",
       "3  GTTTGGAGTCCCCAATCCCACAGTCCACTAAGAAGAGGGTCTGAAG...  \n",
       "4  tggaaggcggggcaggagcaagcggcctgggcagggcaaggGGGCC...  "
      ]
     },
     "execution_count": 24,
     "metadata": {},
     "output_type": "execute_result"
    }
   ],
   "source": [
    "bladder.head()"
   ]
  },
  {
   "cell_type": "code",
   "execution_count": 6,
   "metadata": {},
   "outputs": [
    {
     "data": {
      "text/plain": [
       "109195"
      ]
     },
     "execution_count": 6,
     "metadata": {},
     "output_type": "execute_result"
    }
   ],
   "source": [
    "len(bladder)"
   ]
  },
  {
   "cell_type": "code",
   "execution_count": 7,
   "metadata": {},
   "outputs": [
    {
     "data": {
      "text/plain": [
       "TCGA-DK-A6AW-01A-11D-A30E-08    4985\n",
       "TCGA-YC-A89H-01A-11D-A364-08    2219\n",
       "TCGA-MV-A51V-01A-11D-A26M-08    2068\n",
       "TCGA-DK-A3WW-01A-22D-A23M-08    1815\n",
       "TCGA-ZF-A9RC-01A-11D-A38G-08    1283\n",
       "                                ... \n",
       "TCGA-DK-A6B0-01A-11D-A31L-08      30\n",
       "TCGA-XF-AAME-01A-12D-A42E-08      20\n",
       "TCGA-DK-A3WY-01A-11D-A22Z-08      19\n",
       "TCGA-XF-AAN8-01A-11D-A42E-08       2\n",
       "TCGA-FD-A43S-01A-21D-A23U-08       2\n",
       "Name: 0, Length: 317, dtype: int64"
      ]
     },
     "execution_count": 7,
     "metadata": {},
     "output_type": "execute_result"
    }
   ],
   "source": [
    "bladder[0].value_counts()"
   ]
  },
  {
   "cell_type": "code",
   "execution_count": 77,
   "metadata": {},
   "outputs": [
    {
     "data": {
      "image/png": "[encoded data removed]",
      "text/plain": [
       "<Figure size 432x288 with 1 Axes>"
      ]
     },
     "metadata": {
      "needs_background": "light"
     },
     "output_type": "display_data"
    }
   ],
   "source": [
    "plt.hist(bladder[0].value_counts(),bins=100)\n",
    "plt.ylabel('count patients')\n",
    "plt.xlabel('count mutations');"
   ]
  },
  {
   "cell_type": "code",
   "execution_count": 9,
   "metadata": {},
   "outputs": [
    {
     "data": {
      "text/plain": [
       "100    109195\n",
       "Name: 1, dtype: int64"
      ]
     },
     "execution_count": 9,
     "metadata": {},
     "output_type": "execute_result"
    }
   ],
   "source": [
    "bladder[1].map(len).value_counts()"
   ]
  },
  {
   "cell_type": "code",
   "execution_count": 10,
   "metadata": {},
   "outputs": [
    {
     "data": {
      "text/plain": [
       "(25425, 3)"
      ]
     },
     "execution_count": 10,
     "metadata": {},
     "output_type": "execute_result"
    }
   ],
   "source": [
    "bladder[bladder[1] != bladder[2]].shape #number with variation inserted"
   ]
  },
  {
   "cell_type": "code",
   "execution_count": 64,
   "metadata": {},
   "outputs": [
    {
     "data": {
      "text/plain": [
       "0.23284033151701086"
      ]
     },
     "execution_count": 64,
     "metadata": {},
     "output_type": "execute_result"
    }
   ],
   "source": [
    "25425/109195"
   ]
  },
  {
   "cell_type": "code",
   "execution_count": 11,
   "metadata": {},
   "outputs": [],
   "source": [
    "breast = pd.read_csv('breast_normal.csv',header=None)"
   ]
  },
  {
   "cell_type": "code",
   "execution_count": 14,
   "metadata": {},
   "outputs": [
    {
     "data": {
      "text/plain": [
       "TCGA-AN-A046-01A-21W-A050-09    7187\n",
       "TCGA-AC-A23H-01A-11D-A159-09    6121\n",
       "TCGA-BH-A18G-01A-11D-A12B-09    1824\n",
       "TCGA-AN-A0AK-01A-21W-A019-09    1820\n",
       "TCGA-A8-A09Z-01A-11W-A019-09    1691\n",
       "                                ... \n",
       "TCGA-LL-A440-01A-11D-A243-09      13\n",
       "TCGA-A8-A08C-01A-11W-A019-09       9\n",
       "TCGA-AO-A1KO-01A-31D-A188-09       8\n",
       "TCGA-A2-A25F-01A-11D-A167-09       7\n",
       "TCGA-AC-A2FK-01A-12D-A17W-09       1\n",
       "Name: 0, Length: 891, dtype: int64"
      ]
     },
     "execution_count": 14,
     "metadata": {},
     "output_type": "execute_result"
    }
   ],
   "source": [
    "breast[0].value_counts()"
   ]
  },
  {
   "cell_type": "code",
   "execution_count": 78,
   "metadata": {},
   "outputs": [
    {
     "data": {
      "image/png": "[encoded data removed]",
      "text/plain": [
       "<Figure size 432x288 with 1 Axes>"
      ]
     },
     "metadata": {
      "needs_background": "light"
     },
     "output_type": "display_data"
    }
   ],
   "source": [
    "plt.hist(breast[0].value_counts(),bins=100)\n",
    "plt.ylabel('count patients')\n",
    "plt.xlabel('count mutations');"
   ]
  },
  {
   "cell_type": "code",
   "execution_count": 13,
   "metadata": {},
   "outputs": [
    {
     "data": {
      "text/plain": [
       "109446"
      ]
     },
     "execution_count": 13,
     "metadata": {},
     "output_type": "execute_result"
    }
   ],
   "source": [
    "len(breast)"
   ]
  },
  {
   "cell_type": "code",
   "execution_count": 15,
   "metadata": {},
   "outputs": [
    {
     "data": {
      "text/plain": [
       "(23475, 3)"
      ]
     },
     "execution_count": 15,
     "metadata": {},
     "output_type": "execute_result"
    }
   ],
   "source": [
    "breast[breast[1] != breast[2]].shape"
   ]
  },
  {
   "cell_type": "code",
   "execution_count": 79,
   "metadata": {},
   "outputs": [
    {
     "data": {
      "text/plain": [
       "0.21448933720738994"
      ]
     },
     "execution_count": 79,
     "metadata": {},
     "output_type": "execute_result"
    }
   ],
   "source": [
    "23475/109446"
   ]
  },
  {
   "cell_type": "code",
   "execution_count": 16,
   "metadata": {},
   "outputs": [],
   "source": [
    "colorectal = pd.read_csv('colorectal_normal.csv',header=None)"
   ]
  },
  {
   "cell_type": "code",
   "execution_count": 18,
   "metadata": {},
   "outputs": [
    {
     "data": {
      "text/plain": [
       "TCGA-CA-6717-01A-11D-1835-10    12393\n",
       "TCGA-AA-A010-01A-01D-A17O-10    10239\n",
       "TCGA-AZ-4315-01A-01D-1408-10     9438\n",
       "TCGA-AA-A00N-01A-02D-A17O-10     7392\n",
       "TCGA-AA-3984-01A-02D-1981-10     7286\n",
       "                                ...  \n",
       "TCGA-CM-5863-01A-21D-1835-10       81\n",
       "TCGA-AZ-4684-01A-01D-1408-10       76\n",
       "TCGA-AA-3869-01A-01W-0995-10       70\n",
       "TCGA-CA-5255-01A-11D-1835-10       67\n",
       "TCGA-AZ-4323-01A-21D-1835-10       59\n",
       "Name: 0, Length: 304, dtype: int64"
      ]
     },
     "execution_count": 18,
     "metadata": {},
     "output_type": "execute_result"
    }
   ],
   "source": [
    "colorectal[0].value_counts()"
   ]
  },
  {
   "cell_type": "code",
   "execution_count": 80,
   "metadata": {},
   "outputs": [
    {
     "data": {
      "image/png": "[encoded data removed]",
      "text/plain": [
       "<Figure size 432x288 with 1 Axes>"
      ]
     },
     "metadata": {
      "needs_background": "light"
     },
     "output_type": "display_data"
    }
   ],
   "source": [
    "plt.hist(colorectal[0].value_counts(),bins=100)\n",
    "plt.ylabel('count patients')\n",
    "plt.xlabel('count mutations');"
   ]
  },
  {
   "cell_type": "code",
   "execution_count": 17,
   "metadata": {},
   "outputs": [
    {
     "data": {
      "text/plain": [
       "209838"
      ]
     },
     "execution_count": 17,
     "metadata": {},
     "output_type": "execute_result"
    }
   ],
   "source": [
    "len(colorectal)"
   ]
  },
  {
   "cell_type": "code",
   "execution_count": 19,
   "metadata": {},
   "outputs": [
    {
     "data": {
      "text/plain": [
       "(47791, 3)"
      ]
     },
     "execution_count": 19,
     "metadata": {},
     "output_type": "execute_result"
    }
   ],
   "source": [
    "colorectal[colorectal[1] != colorectal[2]].shape"
   ]
  },
  {
   "cell_type": "code",
   "execution_count": 82,
   "metadata": {},
   "outputs": [
    {
     "data": {
      "text/plain": [
       "0.22775188478731212"
      ]
     },
     "execution_count": 82,
     "metadata": {},
     "output_type": "execute_result"
    }
   ],
   "source": [
    "47791/209838"
   ]
  },
  {
   "cell_type": "code",
   "execution_count": 55,
   "metadata": {},
   "outputs": [],
   "source": [
    "glioma = pd.read_csv('glioma_normal.csv',header=None)"
   ]
  },
  {
   "cell_type": "code",
   "execution_count": 57,
   "metadata": {},
   "outputs": [
    {
     "data": {
      "text/plain": [
       "TCGA-HT-8564-01A-11D-2395-08    664\n",
       "TCGA-HT-8110-01A-11D-2395-08    557\n",
       "TCGA-HT-7856-01A-11D-2395-08    324\n",
       "TCGA-DU-A7T6-01A-11D-A33T-08    136\n",
       "TCGA-DU-7010-01A-11D-2024-08    121\n",
       "                               ... \n",
       "TCGA-HT-8558-01A-21D-2395-08      4\n",
       "TCGA-P5-A5EY-01A-11D-A27K-08      3\n",
       "TCGA-HT-8015-01B-11D-A289-08      3\n",
       "TCGA-HT-7680-01A-11D-2253-08      3\n",
       "TCGA-HT-8107-01A-13D-2395-08      1\n",
       "Name: 0, Length: 413, dtype: int64"
      ]
     },
     "execution_count": 57,
     "metadata": {},
     "output_type": "execute_result"
    }
   ],
   "source": [
    "glioma[0].value_counts()"
   ]
  },
  {
   "cell_type": "code",
   "execution_count": 83,
   "metadata": {},
   "outputs": [
    {
     "data": {
      "image/png": "[encoded data removed]",
      "text/plain": [
       "<Figure size 432x288 with 1 Axes>"
      ]
     },
     "metadata": {
      "needs_background": "light"
     },
     "output_type": "display_data"
    }
   ],
   "source": [
    "plt.hist(glioma[0].value_counts(),bins=100)\n",
    "plt.ylabel('count patients')\n",
    "plt.xlabel('count mutations');"
   ]
  },
  {
   "cell_type": "code",
   "execution_count": 56,
   "metadata": {},
   "outputs": [
    {
     "data": {
      "text/plain": [
       "17489"
      ]
     },
     "execution_count": 56,
     "metadata": {},
     "output_type": "execute_result"
    }
   ],
   "source": [
    "len(glioma)"
   ]
  },
  {
   "cell_type": "code",
   "execution_count": 58,
   "metadata": {},
   "outputs": [
    {
     "data": {
      "text/plain": [
       "(4307, 3)"
      ]
     },
     "execution_count": 58,
     "metadata": {},
     "output_type": "execute_result"
    }
   ],
   "source": [
    "glioma[glioma[1] != glioma[2]].shape"
   ]
  },
  {
   "cell_type": "code",
   "execution_count": 84,
   "metadata": {},
   "outputs": [
    {
     "data": {
      "text/plain": [
       "0.24626908342386644"
      ]
     },
     "execution_count": 84,
     "metadata": {},
     "output_type": "execute_result"
    }
   ],
   "source": [
    "4307/17489"
   ]
  },
  {
   "cell_type": "code",
   "execution_count": 59,
   "metadata": {},
   "outputs": [],
   "source": [
    "glioblastoma = pd.read_csv('glioblastoma_normal.csv',header=None)"
   ]
  },
  {
   "cell_type": "code",
   "execution_count": 61,
   "metadata": {},
   "outputs": [
    {
     "data": {
      "text/plain": [
       "TCGA-06-5416-01A-01D-1486-08    15882\n",
       "TCGA-19-5956-01A-11D-1696-08     9449\n",
       "TCGA-12-0829-01A-01W-0424-08     2713\n",
       "TCGA-14-0866-01B-01W-0643-08     1865\n",
       "TCGA-12-0778-01A-01W-0348-08     1696\n",
       "                                ...  \n",
       "TCGA-14-1456-01B-01D-1494-08       28\n",
       "TCGA-14-1821-01A-01W-0643-08       28\n",
       "TCGA-28-5218-01A-01D-1486-08       21\n",
       "TCGA-08-0386-01A-01D-1492-08       20\n",
       "TCGA-32-1980-01A-01D-1696-08       17\n",
       "Name: 0, Length: 298, dtype: int64"
      ]
     },
     "execution_count": 61,
     "metadata": {},
     "output_type": "execute_result"
    }
   ],
   "source": [
    "glioblastoma[0].value_counts()"
   ]
  },
  {
   "cell_type": "code",
   "execution_count": 85,
   "metadata": {},
   "outputs": [
    {
     "data": {
      "image/png": "[encoded data removed]",
      "text/plain": [
       "<Figure size 432x288 with 1 Axes>"
      ]
     },
     "metadata": {
      "needs_background": "light"
     },
     "output_type": "display_data"
    }
   ],
   "source": [
    "plt.hist(glioblastoma[0].value_counts(),bins=100)\n",
    "plt.ylabel('count patients')\n",
    "plt.xlabel('count mutations');"
   ]
  },
  {
   "cell_type": "code",
   "execution_count": 60,
   "metadata": {},
   "outputs": [
    {
     "data": {
      "text/plain": [
       "72245"
      ]
     },
     "execution_count": 60,
     "metadata": {},
     "output_type": "execute_result"
    }
   ],
   "source": [
    "len(glioblastoma)"
   ]
  },
  {
   "cell_type": "code",
   "execution_count": 62,
   "metadata": {},
   "outputs": [
    {
     "data": {
      "text/plain": [
       "(17028, 3)"
      ]
     },
     "execution_count": 62,
     "metadata": {},
     "output_type": "execute_result"
    }
   ],
   "source": [
    "glioblastoma[glioblastoma[1] != glioblastoma[2]].shape"
   ]
  },
  {
   "cell_type": "code",
   "execution_count": 86,
   "metadata": {},
   "outputs": [
    {
     "data": {
      "text/plain": [
       "0.2356979721780054"
      ]
     },
     "execution_count": 86,
     "metadata": {},
     "output_type": "execute_result"
    }
   ],
   "source": [
    "17028/72245"
   ]
  },
  {
   "cell_type": "code",
   "execution_count": 20,
   "metadata": {},
   "outputs": [],
   "source": [
    "lung = pd.read_csv('lung_normal.csv',header=None)"
   ]
  },
  {
   "cell_type": "code",
   "execution_count": 22,
   "metadata": {},
   "outputs": [
    {
     "data": {
      "text/plain": [
       "TCGA-55-8506-01A-11D-2393-08    2185\n",
       "TCGA-L9-A7SV-01A-11D-A397-08    2008\n",
       "TCGA-55-7994-01A-11D-2184-08    1900\n",
       "TCGA-MN-A4N4-01A-12D-A24P-08    1866\n",
       "TCGA-78-7155-01A-11D-2036-08    1851\n",
       "                                ... \n",
       "TCGA-44-6148-01A-11D-1753-08       8\n",
       "TCGA-55-8513-01A-11D-2393-08       7\n",
       "TCGA-55-7816-01A-11D-2167-08       4\n",
       "TCGA-49-AARR-01A-11D-A410-08       3\n",
       "TCGA-86-A4P8-01A-11D-A24P-08       1\n",
       "Name: 0, Length: 472, dtype: int64"
      ]
     },
     "execution_count": 22,
     "metadata": {},
     "output_type": "execute_result"
    }
   ],
   "source": [
    "lung[0].value_counts()"
   ]
  },
  {
   "cell_type": "code",
   "execution_count": 87,
   "metadata": {},
   "outputs": [
    {
     "data": {
      "image/png": "[encoded data removed]",
      "text/plain": [
       "<Figure size 432x288 with 1 Axes>"
      ]
     },
     "metadata": {
      "needs_background": "light"
     },
     "output_type": "display_data"
    }
   ],
   "source": [
    "plt.hist(lung[0].value_counts(),bins=100)\n",
    "plt.ylabel('count patients')\n",
    "plt.xlabel('count mutations');"
   ]
  },
  {
   "cell_type": "code",
   "execution_count": 21,
   "metadata": {},
   "outputs": [
    {
     "data": {
      "text/plain": [
       "170776"
      ]
     },
     "execution_count": 21,
     "metadata": {},
     "output_type": "execute_result"
    }
   ],
   "source": [
    "len(lung)"
   ]
  },
  {
   "cell_type": "code",
   "execution_count": 23,
   "metadata": {},
   "outputs": [
    {
     "data": {
      "text/plain": [
       "(42414, 3)"
      ]
     },
     "execution_count": 23,
     "metadata": {},
     "output_type": "execute_result"
    }
   ],
   "source": [
    "lung[lung[1] != lung[2]].shape"
   ]
  },
  {
   "cell_type": "code",
   "execution_count": 88,
   "metadata": {},
   "outputs": [
    {
     "data": {
      "text/plain": [
       "0.24836042535250855"
      ]
     },
     "execution_count": 88,
     "metadata": {},
     "output_type": "execute_result"
    }
   ],
   "source": [
    "42414/170776"
   ]
  },
  {
   "cell_type": "code",
   "execution_count": 25,
   "metadata": {},
   "outputs": [],
   "source": [
    "pancreatic = pd.read_csv('pancreatic_normal.csv',header=None)"
   ]
  },
  {
   "cell_type": "code",
   "execution_count": 27,
   "metadata": {},
   "outputs": [
    {
     "data": {
      "text/plain": [
       "TCGA-IB-7651-01A-11D-2154-08    20525\n",
       "TCGA-LB-A7SX-01A-11D-A33T-08      144\n",
       "TCGA-IB-7652-01A-11D-2154-08      120\n",
       "TCGA-US-A776-01A-13D-A33T-08      116\n",
       "TCGA-HZ-A9TJ-01A-11D-A40W-08      112\n",
       "                                ...  \n",
       "TCGA-Q3-A5QY-01A-12D-A32N-08        3\n",
       "TCGA-IB-AAUW-01A-12D-A38G-08        3\n",
       "TCGA-US-A77J-01A-11D-A32N-08        3\n",
       "TCGA-IB-AAUT-01A-11D-A377-08        2\n",
       "TCGA-IB-AAUV-01A-11D-A38G-08        1\n",
       "Name: 0, Length: 83, dtype: int64"
      ]
     },
     "execution_count": 27,
     "metadata": {},
     "output_type": "execute_result"
    }
   ],
   "source": [
    "pancreatic[0].value_counts()"
   ]
  },
  {
   "cell_type": "code",
   "execution_count": 89,
   "metadata": {},
   "outputs": [
    {
     "data": {
      "image/png": "[encoded data removed]",
      "text/plain": [
       "<Figure size 432x288 with 1 Axes>"
      ]
     },
     "metadata": {
      "needs_background": "light"
     },
     "output_type": "display_data"
    }
   ],
   "source": [
    "plt.hist(pancreatic[0].value_counts(),bins=100)\n",
    "plt.ylabel('count patients')\n",
    "plt.xlabel('count mutations');"
   ]
  },
  {
   "cell_type": "code",
   "execution_count": 26,
   "metadata": {},
   "outputs": [
    {
     "data": {
      "text/plain": [
       "24822"
      ]
     },
     "execution_count": 26,
     "metadata": {},
     "output_type": "execute_result"
    }
   ],
   "source": [
    "len(pancreatic)"
   ]
  },
  {
   "cell_type": "code",
   "execution_count": 28,
   "metadata": {},
   "outputs": [
    {
     "data": {
      "text/plain": [
       "(6034, 3)"
      ]
     },
     "execution_count": 28,
     "metadata": {},
     "output_type": "execute_result"
    }
   ],
   "source": [
    "pancreatic[pancreatic[1] != pancreatic[2]].shape"
   ]
  },
  {
   "cell_type": "code",
   "execution_count": 90,
   "metadata": {},
   "outputs": [
    {
     "data": {
      "text/plain": [
       "0.2430908065425832"
      ]
     },
     "execution_count": 90,
     "metadata": {},
     "output_type": "execute_result"
    }
   ],
   "source": [
    "6034/24822"
   ]
  },
  {
   "cell_type": "code",
   "execution_count": 29,
   "metadata": {},
   "outputs": [],
   "source": [
    "renal = pd.read_csv('renal_normal.csv',header=None)"
   ]
  },
  {
   "cell_type": "code",
   "execution_count": 31,
   "metadata": {},
   "outputs": [
    {
     "data": {
      "text/plain": [
       "TCGA-B8-4143-01A-01D-1806-10    2119\n",
       "TCGA-CJ-4920-01A-01D-1429-08     162\n",
       "TCGA-CZ-5468-01A-01D-1501-10     149\n",
       "TCGA-BP-5176-01A-01D-1429-08     142\n",
       "TCGA-GK-A6C7-01A-11D-A33K-10     142\n",
       "                                ... \n",
       "TCGA-BP-4760-01A-02D-1421-08      18\n",
       "TCGA-DV-5567-01A-01D-1534-10      17\n",
       "TCGA-B8-5546-01A-01D-1534-10      16\n",
       "TCGA-DV-A4VZ-01A-11D-A25V-10      12\n",
       "TCGA-DV-5576-01A-01D-1534-10      10\n",
       "Name: 0, Length: 241, dtype: int64"
      ]
     },
     "execution_count": 31,
     "metadata": {},
     "output_type": "execute_result"
    }
   ],
   "source": [
    "renal[0].value_counts()"
   ]
  },
  {
   "cell_type": "code",
   "execution_count": 92,
   "metadata": {},
   "outputs": [
    {
     "data": {
      "image/png": "[encoded data removed]",
      "text/plain": [
       "<Figure size 432x288 with 1 Axes>"
      ]
     },
     "metadata": {
      "needs_background": "light"
     },
     "output_type": "display_data"
    }
   ],
   "source": [
    "plt.hist(renal[0].value_counts(),bins=100)\n",
    "plt.ylabel('count patients')\n",
    "plt.xlabel('count mutations');"
   ]
  },
  {
   "cell_type": "code",
   "execution_count": 30,
   "metadata": {},
   "outputs": [
    {
     "data": {
      "text/plain": [
       "18919"
      ]
     },
     "execution_count": 30,
     "metadata": {},
     "output_type": "execute_result"
    }
   ],
   "source": [
    "len(renal)"
   ]
  },
  {
   "cell_type": "code",
   "execution_count": 32,
   "metadata": {},
   "outputs": [
    {
     "data": {
      "text/plain": [
       "(4072, 3)"
      ]
     },
     "execution_count": 32,
     "metadata": {},
     "output_type": "execute_result"
    }
   ],
   "source": [
    "renal[renal[1] != renal[2]].shape "
   ]
  },
  {
   "cell_type": "code",
   "execution_count": 91,
   "metadata": {},
   "outputs": [
    {
     "data": {
      "text/plain": [
       "0.21523336328558593"
      ]
     },
     "execution_count": 91,
     "metadata": {},
     "output_type": "execute_result"
    }
   ],
   "source": [
    "4072/18919"
   ]
  },
  {
   "cell_type": "code",
   "execution_count": 33,
   "metadata": {},
   "outputs": [],
   "source": [
    "prostate = pd.read_csv('prostate_normal.csv',header=None)"
   ]
  },
  {
   "cell_type": "code",
   "execution_count": 35,
   "metadata": {},
   "outputs": [
    {
     "data": {
      "text/plain": [
       "TCGA-XK-AAIW-01A-11D-A41K-08    9010\n",
       "TCGA-KK-A59V-01A-11D-A29Q-08    1124\n",
       "TCGA-J9-A52C-01A-11D-A26M-08     736\n",
       "TCGA-XQ-A8TA-01A-11D-A364-08     146\n",
       "TCGA-HC-A4ZV-01A-11D-A26M-08     145\n",
       "                                ... \n",
       "TCGA-J4-AATV-01A-11D-A41K-08       2\n",
       "TCGA-EJ-A46B-01A-31D-A257-08       1\n",
       "TCGA-KC-A4BO-01A-61D-A257-08       1\n",
       "TCGA-G9-6370-01A-11D-1786-08       1\n",
       "TCGA-EJ-A46H-01A-31D-A26M-08       1\n",
       "Name: 0, Length: 400, dtype: int64"
      ]
     },
     "execution_count": 35,
     "metadata": {},
     "output_type": "execute_result"
    }
   ],
   "source": [
    "prostate[0].value_counts()"
   ]
  },
  {
   "cell_type": "code",
   "execution_count": 93,
   "metadata": {},
   "outputs": [
    {
     "data": {
      "image/png": "[encoded data removed]",
      "text/plain": [
       "<Figure size 432x288 with 1 Axes>"
      ]
     },
     "metadata": {
      "needs_background": "light"
     },
     "output_type": "display_data"
    }
   ],
   "source": [
    "plt.hist(prostate[0].value_counts(),bins=100)\n",
    "plt.ylabel('count patients')\n",
    "plt.xlabel('count mutations');"
   ]
  },
  {
   "cell_type": "code",
   "execution_count": 34,
   "metadata": {},
   "outputs": [
    {
     "data": {
      "text/plain": [
       "25005"
      ]
     },
     "execution_count": 34,
     "metadata": {},
     "output_type": "execute_result"
    }
   ],
   "source": [
    "len(prostate)"
   ]
  },
  {
   "cell_type": "code",
   "execution_count": 36,
   "metadata": {},
   "outputs": [
    {
     "data": {
      "text/plain": [
       "(6148, 3)"
      ]
     },
     "execution_count": 36,
     "metadata": {},
     "output_type": "execute_result"
    }
   ],
   "source": [
    "prostate[prostate[1] != prostate[2]].shape"
   ]
  },
  {
   "cell_type": "code",
   "execution_count": 94,
   "metadata": {},
   "outputs": [
    {
     "data": {
      "text/plain": [
       "0.24587082583483302"
      ]
     },
     "execution_count": 94,
     "metadata": {},
     "output_type": "execute_result"
    }
   ],
   "source": [
    "6148/25005"
   ]
  },
  {
   "cell_type": "code",
   "execution_count": 37,
   "metadata": {},
   "outputs": [],
   "source": [
    "skin = pd.read_csv('skin_normal.csv',header=None)"
   ]
  },
  {
   "cell_type": "code",
   "execution_count": 39,
   "metadata": {},
   "outputs": [
    {
     "data": {
      "text/plain": [
       "TCGA-FW-A3R5-06A-11D-A23B-08    21283\n",
       "TCGA-FR-A726-01A-11D-A32N-08     9548\n",
       "TCGA-W3-AA1V-06B-11D-A401-08     7012\n",
       "TCGA-D9-A6EC-06A-11D-A30X-08     5641\n",
       "TCGA-EE-A2MR-06A-11D-A196-08     5228\n",
       "                                ...  \n",
       "TCGA-FR-A2OS-01A-11D-A21A-08       16\n",
       "TCGA-EB-A4OZ-01A-12D-A25O-08       16\n",
       "TCGA-XV-A9VZ-01A-11D-A38G-08       15\n",
       "TCGA-DA-A1IB-06A-11D-A196-08       13\n",
       "TCGA-EE-A2GK-06A-11D-A196-08        4\n",
       "Name: 0, Length: 372, dtype: int64"
      ]
     },
     "execution_count": 39,
     "metadata": {},
     "output_type": "execute_result"
    }
   ],
   "source": [
    "skin[0].value_counts()"
   ]
  },
  {
   "cell_type": "code",
   "execution_count": 95,
   "metadata": {},
   "outputs": [
    {
     "data": {
      "image/png": "[encoded data removed]",
      "text/plain": [
       "<Figure size 432x288 with 1 Axes>"
      ]
     },
     "metadata": {
      "needs_background": "light"
     },
     "output_type": "display_data"
    }
   ],
   "source": [
    "plt.hist(skin[0].value_counts(),bins=100)\n",
    "plt.ylabel('count patients')\n",
    "plt.xlabel('count mutations');"
   ]
  },
  {
   "cell_type": "code",
   "execution_count": 38,
   "metadata": {},
   "outputs": [
    {
     "data": {
      "text/plain": [
       "326347"
      ]
     },
     "execution_count": 38,
     "metadata": {},
     "output_type": "execute_result"
    }
   ],
   "source": [
    "len(skin)"
   ]
  },
  {
   "cell_type": "code",
   "execution_count": 40,
   "metadata": {},
   "outputs": [
    {
     "data": {
      "text/plain": [
       "(83310, 3)"
      ]
     },
     "execution_count": 40,
     "metadata": {},
     "output_type": "execute_result"
    }
   ],
   "source": [
    "skin[skin[1] != skin[2]].shape"
   ]
  },
  {
   "cell_type": "code",
   "execution_count": 96,
   "metadata": {},
   "outputs": [
    {
     "data": {
      "text/plain": [
       "0.25528042237250537"
      ]
     },
     "execution_count": 96,
     "metadata": {},
     "output_type": "execute_result"
    }
   ],
   "source": [
    "83310/326347"
   ]
  },
  {
   "cell_type": "code",
   "execution_count": 42,
   "metadata": {},
   "outputs": [],
   "source": [
    "stomach = pd.read_csv('stomach_normal.csv',header=None)"
   ]
  },
  {
   "cell_type": "code",
   "execution_count": 44,
   "metadata": {},
   "outputs": [
    {
     "data": {
      "text/plain": [
       "TCGA-VQ-A8P2-01A-11D-A364-08    9026\n",
       "TCGA-BR-8680-01A-11D-2394-08    7571\n",
       "TCGA-CG-5721-01A-11D-1600-08    5215\n",
       "TCGA-BR-8487-01A-11D-2394-08    3937\n",
       "TCGA-CD-A4MG-01A-11D-A25D-08    3333\n",
       "                                ... \n",
       "TCGA-HU-A4HB-01A-12D-A25D-08      14\n",
       "TCGA-RD-A8N4-01A-21D-A364-08       4\n",
       "TCGA-RD-A8N0-01A-12D-A364-08       4\n",
       "TCGA-HU-A4GJ-01A-11D-A25D-08       4\n",
       "TCGA-FP-8210-01A-11D-2340-08       4\n",
       "Name: 0, Length: 342, dtype: int64"
      ]
     },
     "execution_count": 44,
     "metadata": {},
     "output_type": "execute_result"
    }
   ],
   "source": [
    "stomach[0].value_counts()"
   ]
  },
  {
   "cell_type": "code",
   "execution_count": 97,
   "metadata": {},
   "outputs": [
    {
     "data": {
      "image/png": "[encoded data removed]",
      "text/plain": [
       "<Figure size 432x288 with 1 Axes>"
      ]
     },
     "metadata": {
      "needs_background": "light"
     },
     "output_type": "display_data"
    }
   ],
   "source": [
    "plt.hist(stomach[0].value_counts(),bins=100)\n",
    "plt.ylabel('count patients')\n",
    "plt.xlabel('count mutations');"
   ]
  },
  {
   "cell_type": "code",
   "execution_count": 43,
   "metadata": {},
   "outputs": [
    {
     "data": {
      "text/plain": [
       "152187"
      ]
     },
     "execution_count": 43,
     "metadata": {},
     "output_type": "execute_result"
    }
   ],
   "source": [
    "len(stomach)"
   ]
  },
  {
   "cell_type": "code",
   "execution_count": 45,
   "metadata": {},
   "outputs": [
    {
     "data": {
      "text/plain": [
       "(36222, 3)"
      ]
     },
     "execution_count": 45,
     "metadata": {},
     "output_type": "execute_result"
    }
   ],
   "source": [
    "stomach[stomach[1] != stomach[2]].shape"
   ]
  },
  {
   "cell_type": "code",
   "execution_count": 98,
   "metadata": {},
   "outputs": [
    {
     "data": {
      "text/plain": [
       "0.2380098168700349"
      ]
     },
     "execution_count": 98,
     "metadata": {},
     "output_type": "execute_result"
    }
   ],
   "source": [
    "36222/152187"
   ]
  },
  {
   "cell_type": "code",
   "execution_count": 46,
   "metadata": {},
   "outputs": [],
   "source": [
    "uterine = pd.read_csv('uterine_normal.csv',header=None)"
   ]
  },
  {
   "cell_type": "code",
   "execution_count": 48,
   "metadata": {},
   "outputs": [
    {
     "data": {
      "text/plain": [
       "TCGA-FI-A2D5-01A-11D-A17D-09    22578\n",
       "TCGA-EO-A22U-01A-11D-A17W-09    22043\n",
       "TCGA-AX-A2HC-01A-11D-A17D-09    21408\n",
       "TCGA-B5-A3FC-01A-11D-A228-09    21199\n",
       "TCGA-EO-A22R-01A-11D-A18P-09    21166\n",
       "                                ...  \n",
       "TCGA-AX-A2HF-01A-11D-A17D-09       36\n",
       "TCGA-AP-A0LV-01A-11W-A062-09       35\n",
       "TCGA-B5-A0K0-01A-11W-A062-09       30\n",
       "TCGA-FI-A2CX-01A-11D-A17D-09       25\n",
       "TCGA-QF-A5YT-01A-11D-A31U-09       10\n",
       "Name: 0, Length: 435, dtype: int64"
      ]
     },
     "execution_count": 48,
     "metadata": {},
     "output_type": "execute_result"
    }
   ],
   "source": [
    "uterine[0].value_counts()"
   ]
  },
  {
   "cell_type": "code",
   "execution_count": 99,
   "metadata": {},
   "outputs": [
    {
     "data": {
      "image/png": "[encoded data removed]",
      "text/plain": [
       "<Figure size 432x288 with 1 Axes>"
      ]
     },
     "metadata": {
      "needs_background": "light"
     },
     "output_type": "display_data"
    }
   ],
   "source": [
    "plt.hist(uterine[0].value_counts(),bins=100)\n",
    "plt.ylabel('count patients')\n",
    "plt.xlabel('count mutations');"
   ]
  },
  {
   "cell_type": "code",
   "execution_count": 47,
   "metadata": {},
   "outputs": [
    {
     "data": {
      "text/plain": [
       "699831"
      ]
     },
     "execution_count": 47,
     "metadata": {},
     "output_type": "execute_result"
    }
   ],
   "source": [
    "len(uterine)"
   ]
  },
  {
   "cell_type": "code",
   "execution_count": 49,
   "metadata": {},
   "outputs": [
    {
     "data": {
      "text/plain": [
       "(138239, 3)"
      ]
     },
     "execution_count": 49,
     "metadata": {},
     "output_type": "execute_result"
    }
   ],
   "source": [
    "uterine[uterine[1] != uterine[2]].shape"
   ]
  },
  {
   "cell_type": "code",
   "execution_count": 100,
   "metadata": {},
   "outputs": [
    {
     "data": {
      "text/plain": [
       "0.1975305466605509"
      ]
     },
     "execution_count": 100,
     "metadata": {},
     "output_type": "execute_result"
    }
   ],
   "source": [
    "138238/699831"
   ]
  },
  {
   "cell_type": "code",
   "execution_count": 50,
   "metadata": {},
   "outputs": [],
   "source": [
    "liver = pd.read_csv('liver_normal.csv',header=None)"
   ]
  },
  {
   "cell_type": "code",
   "execution_count": 52,
   "metadata": {},
   "outputs": [
    {
     "data": {
      "text/plain": [
       "TCGA-UB-A7MB-01A-11D-A33Q-10    2061\n",
       "TCGA-DD-AAC8-01A-11D-A40R-10     748\n",
       "TCGA-WQ-A9G7-01A-11D-A36X-10     724\n",
       "TCGA-DD-A1EE-01A-11D-A12Z-10     595\n",
       "TCGA-DD-AACI-01A-11D-A40R-10     540\n",
       "                                ... \n",
       "TCGA-DD-A3A6-01A-11D-A22F-10      27\n",
       "TCGA-ED-A5KG-01A-11D-A27I-10      25\n",
       "TCGA-XR-A8TE-01A-11D-A35Z-10      21\n",
       "TCGA-G3-A3CI-01A-11D-A20W-10      20\n",
       "TCGA-ED-A627-01A-12D-A30V-10       2\n",
       "Name: 0, Length: 269, dtype: int64"
      ]
     },
     "execution_count": 52,
     "metadata": {},
     "output_type": "execute_result"
    }
   ],
   "source": [
    "liver[0].value_counts()"
   ]
  },
  {
   "cell_type": "code",
   "execution_count": 101,
   "metadata": {},
   "outputs": [
    {
     "data": {
      "image/png": "[encoded data removed]",
      "text/plain": [
       "<Figure size 432x288 with 1 Axes>"
      ]
     },
     "metadata": {
      "needs_background": "light"
     },
     "output_type": "display_data"
    }
   ],
   "source": [
    "plt.hist(liver[0].value_counts(),bins=100)\n",
    "plt.ylabel('count patients')\n",
    "plt.xlabel('count mutations');"
   ]
  },
  {
   "cell_type": "code",
   "execution_count": 51,
   "metadata": {},
   "outputs": [
    {
     "data": {
      "text/plain": [
       "38476"
      ]
     },
     "execution_count": 51,
     "metadata": {},
     "output_type": "execute_result"
    }
   ],
   "source": [
    "len(liver)"
   ]
  },
  {
   "cell_type": "code",
   "execution_count": 53,
   "metadata": {},
   "outputs": [
    {
     "data": {
      "text/plain": [
       "(8935, 3)"
      ]
     },
     "execution_count": 53,
     "metadata": {},
     "output_type": "execute_result"
    }
   ],
   "source": [
    "liver[liver[1] != liver[2]].shape"
   ]
  },
  {
   "cell_type": "code",
   "execution_count": 102,
   "metadata": {},
   "outputs": [
    {
     "data": {
      "text/plain": [
       "0.2322226842707142"
      ]
     },
     "execution_count": 102,
     "metadata": {},
     "output_type": "execute_result"
    }
   ],
   "source": [
    "8935/38476"
   ]
  },
  {
   "cell_type": "markdown",
   "metadata": {},
   "source": [
    "### between 20-25% of all normal reads have variation inserted"
   ]
  },
  {
   "cell_type": "code",
   "execution_count": 3,
   "metadata": {},
   "outputs": [],
   "source": [
    "import re"
   ]
  },
  {
   "cell_type": "code",
   "execution_count": 4,
   "metadata": {},
   "outputs": [],
   "source": [
    "def save_reads_normal(file):\n",
    "    organ = re.findall('^([a-z]*)_',file)[0]\n",
    "    df = pd.read_csv(file,header=None)\n",
    "    normal = zip(df[2],df[1])\n",
    "    normal = list(normal)\n",
    "    with open('normal_{}.pickle'.format(organ), 'wb') as write_file:\n",
    "        pickle.dump(normal, write_file)"
   ]
  },
  {
   "cell_type": "code",
   "execution_count": 5,
   "metadata": {},
   "outputs": [],
   "source": [
    "def save_reads_tumor(file):\n",
    "    organ = re.findall('^([a-z]*)_',file)[0]\n",
    "    df = pd.read_csv(file,header=None)\n",
    "    tumor = zip(df[2],df[1])\n",
    "    tumor = list(tumor)\n",
    "    with open('tumor_{}.pickle'.format(organ), 'wb') as write_file:\n",
    "        pickle.dump(tumor, write_file)"
   ]
  },
  {
   "cell_type": "code",
   "execution_count": 6,
   "metadata": {},
   "outputs": [],
   "source": [
    "save_reads_normal('liver_normal.csv')"
   ]
  },
  {
   "cell_type": "code",
   "execution_count": 7,
   "metadata": {},
   "outputs": [],
   "source": [
    "save_reads_tumor('liver_tumor.csv')"
   ]
  },
  {
   "cell_type": "code",
   "execution_count": 23,
   "metadata": {},
   "outputs": [],
   "source": [
    "normals = !find *_normal.csv"
   ]
  },
  {
   "cell_type": "code",
   "execution_count": 24,
   "metadata": {},
   "outputs": [],
   "source": [
    "tumors = !find *_tumor.csv"
   ]
  },
  {
   "cell_type": "code",
   "execution_count": 26,
   "metadata": {},
   "outputs": [
    {
     "data": {
      "text/plain": [
       "['bladder_normal.csv',\n",
       " 'breast_normal.csv',\n",
       " 'colorectal_normal.csv',\n",
       " 'glioblastoma_normal.csv',\n",
       " 'glioma_normal.csv',\n",
       " 'lung_normal.csv',\n",
       " 'pancreatic_normal.csv',\n",
       " 'prostate_normal.csv',\n",
       " 'renal_normal.csv',\n",
       " 'skin_normal.csv',\n",
       " 'stomach_normal.csv',\n",
       " 'uterine_normal.csv']"
      ]
     },
     "execution_count": 26,
     "metadata": {},
     "output_type": "execute_result"
    }
   ],
   "source": [
    "normals"
   ]
  },
  {
   "cell_type": "code",
   "execution_count": 25,
   "metadata": {},
   "outputs": [
    {
     "data": {
      "text/plain": [
       "['bladder_tumor.csv',\n",
       " 'breast_tumor.csv',\n",
       " 'colorectal_tumor.csv',\n",
       " 'glioblastoma_tumor.csv',\n",
       " 'glioma_tumor.csv',\n",
       " 'lung_tumor.csv',\n",
       " 'pancreatic_tumor.csv',\n",
       " 'prostate_tumor.csv',\n",
       " 'renal_tumor.csv',\n",
       " 'skin_tumor.csv',\n",
       " 'stomach_tumor.csv',\n",
       " 'uterine_tumor.csv']"
      ]
     },
     "execution_count": 25,
     "metadata": {},
     "output_type": "execute_result"
    }
   ],
   "source": [
    "tumors"
   ]
  },
  {
   "cell_type": "code",
   "execution_count": 29,
   "metadata": {},
   "outputs": [],
   "source": [
    "for i in normals:\n",
    "    save_reads_normal(i)"
   ]
  },
  {
   "cell_type": "code",
   "execution_count": 33,
   "metadata": {},
   "outputs": [],
   "source": [
    "for i in tumors:\n",
    "    save_reads_tumor(i)"
   ]
  },
  {
   "cell_type": "code",
   "execution_count": null,
   "metadata": {},
   "outputs": [],
   "source": []
  }
 ],
 "metadata": {
  "kernelspec": {
   "display_name": "Python 3",
   "language": "python",
   "name": "python3"
  },
  "language_info": {
   "codemirror_mode": {
    "name": "ipython",
    "version": 3
   },
   "file_extension": ".py",
   "mimetype": "text/x-python",
   "name": "python",
   "nbconvert_exporter": "python",
   "pygments_lexer": "ipython3",
   "version": "3.7.6"
  }
 },
 "nbformat": 4,
 "nbformat_minor": 4
}
