{
 "cells": [
  {
   "cell_type": "code",
   "execution_count": 26,
   "metadata": {},
   "outputs": [],
   "source": [
    "import os\n",
    "os.chdir('/Users/beth/Desktop/')"
   ]
  },
  {
   "cell_type": "code",
   "execution_count": 32,
   "metadata": {},
   "outputs": [],
   "source": [
    "data = !tail -n +459 Galaxy131-\\[Samtools_view_on_collection_127__filtered_alignments__SRR3706303\\].sam | cut -f3,4,6,10"
   ]
  },
  {
   "cell_type": "code",
   "execution_count": 33,
   "metadata": {},
   "outputs": [],
   "source": [
    "data = list(map(lambda x: tuple(x.split('\\t')), data))"
   ]
  },
  {
   "cell_type": "code",
   "execution_count": 34,
   "metadata": {},
   "outputs": [],
   "source": [
    "import pandas as pd"
   ]
  },
  {
   "cell_type": "code",
   "execution_count": 35,
   "metadata": {},
   "outputs": [],
   "source": [
    "data = pd.DataFrame(data)"
   ]
  },
  {
   "cell_type": "code",
   "execution_count": 37,
   "metadata": {},
   "outputs": [
    {
     "data": {
      "text/html": [
       "<div>\n",
       "<style scoped>\n",
       "    .dataframe tbody tr th:only-of-type {\n",
       "        vertical-align: middle;\n",
       "    }\n",
       "\n",
       "    .dataframe tbody tr th {\n",
       "        vertical-align: top;\n",
       "    }\n",
       "\n",
       "    .dataframe thead th {\n",
       "        text-align: right;\n",
       "    }\n",
       "</style>\n",
       "<table border=\"1\" class=\"dataframe\">\n",
       "  <thead>\n",
       "    <tr style=\"text-align: right;\">\n",
       "      <th></th>\n",
       "      <th>0</th>\n",
       "      <th>1</th>\n",
       "      <th>2</th>\n",
       "      <th>3</th>\n",
       "    </tr>\n",
       "  </thead>\n",
       "  <tbody>\n",
       "    <tr>\n",
       "      <th>0</th>\n",
       "      <td>chr1</td>\n",
       "      <td>2044782</td>\n",
       "      <td>151M</td>\n",
       "      <td>GGCCCGGAAGGATGGACTCCGAGGCGGGGCTGAAACGGGGGCAGCC...</td>\n",
       "    </tr>\n",
       "    <tr>\n",
       "      <th>1</th>\n",
       "      <td>chr1</td>\n",
       "      <td>2048386</td>\n",
       "      <td>149M</td>\n",
       "      <td>AGATTGCTGAAATGGGCATTAGGTATGCTAGAGACTTCAAGGAAGT...</td>\n",
       "    </tr>\n",
       "    <tr>\n",
       "      <th>2</th>\n",
       "      <td>chr1</td>\n",
       "      <td>2048392</td>\n",
       "      <td>151M</td>\n",
       "      <td>CTGAAATGGGCATTAGGTATGCTAGAGACTTCAAGGAAGTGTGGGT...</td>\n",
       "    </tr>\n",
       "    <tr>\n",
       "      <th>3</th>\n",
       "      <td>chr1</td>\n",
       "      <td>2048412</td>\n",
       "      <td>151M</td>\n",
       "      <td>GCTAGAGACTTCAAGGAAGTGTGGGTGCCAGTCCAGCAGATCTCTG...</td>\n",
       "    </tr>\n",
       "    <tr>\n",
       "      <th>4</th>\n",
       "      <td>chr1</td>\n",
       "      <td>2048412</td>\n",
       "      <td>151M</td>\n",
       "      <td>GCTAGAGACTTCAAGGAAGTGTGGGTGCCAGTCCAGCAGATCTCTG...</td>\n",
       "    </tr>\n",
       "    <tr>\n",
       "      <th>5</th>\n",
       "      <td>chr1</td>\n",
       "      <td>2048423</td>\n",
       "      <td>148M</td>\n",
       "      <td>CAAGGAAGTGTGGGTGCCAGTCCAGCAGATCTCTGCAGGCAGGTGC...</td>\n",
       "    </tr>\n",
       "    <tr>\n",
       "      <th>6</th>\n",
       "      <td>chr1</td>\n",
       "      <td>2048423</td>\n",
       "      <td>148M</td>\n",
       "      <td>CAAGGAAGTGTGGGTGCCAGTCCAGCAGATCTCTGCAGGCAGGTGC...</td>\n",
       "    </tr>\n",
       "    <tr>\n",
       "      <th>7</th>\n",
       "      <td>chr1</td>\n",
       "      <td>2048425</td>\n",
       "      <td>143M</td>\n",
       "      <td>AGGAAGTGTGGGTGCCAGTCCAGCAGATCTCTGCAGGCAGGTGCTC...</td>\n",
       "    </tr>\n",
       "    <tr>\n",
       "      <th>8</th>\n",
       "      <td>chr1</td>\n",
       "      <td>2048425</td>\n",
       "      <td>143M</td>\n",
       "      <td>AGGAAGTGTGGGTGCCAGTCCAGCAGATCTCTGCAGGCAGGTGCTC...</td>\n",
       "    </tr>\n",
       "    <tr>\n",
       "      <th>9</th>\n",
       "      <td>chr1</td>\n",
       "      <td>2048440</td>\n",
       "      <td>147M</td>\n",
       "      <td>CAGTCCAGCAGATCTCTGCAGGCAGGTGCTCCTGGAAGAGGGAGTG...</td>\n",
       "    </tr>\n",
       "    <tr>\n",
       "      <th>10</th>\n",
       "      <td>chr1</td>\n",
       "      <td>2048440</td>\n",
       "      <td>147M</td>\n",
       "      <td>CAGTCCAGCAGATCTCTGCAGGCAGGTGCTCCTGGAAGAGGGAGTG...</td>\n",
       "    </tr>\n",
       "    <tr>\n",
       "      <th>11</th>\n",
       "      <td>chr1</td>\n",
       "      <td>2048445</td>\n",
       "      <td>137M</td>\n",
       "      <td>CAGCAGATCTCTGCAGGCAGGTGCTCCTGGAAGAGGGAGTGGCTGT...</td>\n",
       "    </tr>\n",
       "    <tr>\n",
       "      <th>12</th>\n",
       "      <td>chr1</td>\n",
       "      <td>2048445</td>\n",
       "      <td>137M</td>\n",
       "      <td>CAGCAGATCTCTGCAGGCAGGTGCTCCTGGAAGAGGGAGTGGCTGT...</td>\n",
       "    </tr>\n",
       "    <tr>\n",
       "      <th>13</th>\n",
       "      <td>chr1</td>\n",
       "      <td>2048455</td>\n",
       "      <td>149M</td>\n",
       "      <td>CTGCAGGCAGGTGCTCCTGGAAGAGGGAGTGGCTGTGCAAAGAGGG...</td>\n",
       "    </tr>\n",
       "    <tr>\n",
       "      <th>14</th>\n",
       "      <td>chr1</td>\n",
       "      <td>2048474</td>\n",
       "      <td>150M</td>\n",
       "      <td>GAAGAGGGAGTGGCTGTGCAAAGAGGGAGTGGCCGTGCAAAGACGG...</td>\n",
       "    </tr>\n",
       "    <tr>\n",
       "      <th>15</th>\n",
       "      <td>chr1</td>\n",
       "      <td>2048487</td>\n",
       "      <td>151M</td>\n",
       "      <td>CTGTGCAAAGAGGGAGTGGCCGTGCAAAGACGGAGGCCGGGGCAGC...</td>\n",
       "    </tr>\n",
       "    <tr>\n",
       "      <th>16</th>\n",
       "      <td>chr1</td>\n",
       "      <td>2048489</td>\n",
       "      <td>149M</td>\n",
       "      <td>GTGCAAAGAGGGAGTGGCCGTGCAAAGACGGAGGCCGGGGCAGCAA...</td>\n",
       "    </tr>\n",
       "    <tr>\n",
       "      <th>17</th>\n",
       "      <td>chr1</td>\n",
       "      <td>2048490</td>\n",
       "      <td>142M</td>\n",
       "      <td>TGCAAAGAGGGAGTGGCCGTGCAAAGACGGAGGCCGGGGCAGCAAA...</td>\n",
       "    </tr>\n",
       "    <tr>\n",
       "      <th>18</th>\n",
       "      <td>chr1</td>\n",
       "      <td>2048490</td>\n",
       "      <td>142M</td>\n",
       "      <td>TGCAAAGAGGGAGTGGCCGTGCAAAGACGGAGGCCGGGGCAGCAAA...</td>\n",
       "    </tr>\n",
       "    <tr>\n",
       "      <th>19</th>\n",
       "      <td>chr1</td>\n",
       "      <td>2048492</td>\n",
       "      <td>132M</td>\n",
       "      <td>CAAAGAGGGAGTGGCCGTGCAAAGACGGAGGCCGGGGCAGCAAAGA...</td>\n",
       "    </tr>\n",
       "  </tbody>\n",
       "</table>\n",
       "</div>"
      ],
      "text/plain": [
       "       0        1     2                                                  3\n",
       "0   chr1  2044782  151M  GGCCCGGAAGGATGGACTCCGAGGCGGGGCTGAAACGGGGGCAGCC...\n",
       "1   chr1  2048386  149M  AGATTGCTGAAATGGGCATTAGGTATGCTAGAGACTTCAAGGAAGT...\n",
       "2   chr1  2048392  151M  CTGAAATGGGCATTAGGTATGCTAGAGACTTCAAGGAAGTGTGGGT...\n",
       "3   chr1  2048412  151M  GCTAGAGACTTCAAGGAAGTGTGGGTGCCAGTCCAGCAGATCTCTG...\n",
       "4   chr1  2048412  151M  GCTAGAGACTTCAAGGAAGTGTGGGTGCCAGTCCAGCAGATCTCTG...\n",
       "5   chr1  2048423  148M  CAAGGAAGTGTGGGTGCCAGTCCAGCAGATCTCTGCAGGCAGGTGC...\n",
       "6   chr1  2048423  148M  CAAGGAAGTGTGGGTGCCAGTCCAGCAGATCTCTGCAGGCAGGTGC...\n",
       "7   chr1  2048425  143M  AGGAAGTGTGGGTGCCAGTCCAGCAGATCTCTGCAGGCAGGTGCTC...\n",
       "8   chr1  2048425  143M  AGGAAGTGTGGGTGCCAGTCCAGCAGATCTCTGCAGGCAGGTGCTC...\n",
       "9   chr1  2048440  147M  CAGTCCAGCAGATCTCTGCAGGCAGGTGCTCCTGGAAGAGGGAGTG...\n",
       "10  chr1  2048440  147M  CAGTCCAGCAGATCTCTGCAGGCAGGTGCTCCTGGAAGAGGGAGTG...\n",
       "11  chr1  2048445  137M  CAGCAGATCTCTGCAGGCAGGTGCTCCTGGAAGAGGGAGTGGCTGT...\n",
       "12  chr1  2048445  137M  CAGCAGATCTCTGCAGGCAGGTGCTCCTGGAAGAGGGAGTGGCTGT...\n",
       "13  chr1  2048455  149M  CTGCAGGCAGGTGCTCCTGGAAGAGGGAGTGGCTGTGCAAAGAGGG...\n",
       "14  chr1  2048474  150M  GAAGAGGGAGTGGCTGTGCAAAGAGGGAGTGGCCGTGCAAAGACGG...\n",
       "15  chr1  2048487  151M  CTGTGCAAAGAGGGAGTGGCCGTGCAAAGACGGAGGCCGGGGCAGC...\n",
       "16  chr1  2048489  149M  GTGCAAAGAGGGAGTGGCCGTGCAAAGACGGAGGCCGGGGCAGCAA...\n",
       "17  chr1  2048490  142M  TGCAAAGAGGGAGTGGCCGTGCAAAGACGGAGGCCGGGGCAGCAAA...\n",
       "18  chr1  2048490  142M  TGCAAAGAGGGAGTGGCCGTGCAAAGACGGAGGCCGGGGCAGCAAA...\n",
       "19  chr1  2048492  132M  CAAAGAGGGAGTGGCCGTGCAAAGACGGAGGCCGGGGCAGCAAAGA..."
      ]
     },
     "execution_count": 37,
     "metadata": {},
     "output_type": "execute_result"
    }
   ],
   "source": [
    "data.head(20)"
   ]
  },
  {
   "cell_type": "code",
   "execution_count": 40,
   "metadata": {},
   "outputs": [],
   "source": [
    "data['bp']=data[3].map(len)"
   ]
  },
  {
   "cell_type": "code",
   "execution_count": 41,
   "metadata": {},
   "outputs": [
    {
     "data": {
      "text/html": [
       "<div>\n",
       "<style scoped>\n",
       "    .dataframe tbody tr th:only-of-type {\n",
       "        vertical-align: middle;\n",
       "    }\n",
       "\n",
       "    .dataframe tbody tr th {\n",
       "        vertical-align: top;\n",
       "    }\n",
       "\n",
       "    .dataframe thead th {\n",
       "        text-align: right;\n",
       "    }\n",
       "</style>\n",
       "<table border=\"1\" class=\"dataframe\">\n",
       "  <thead>\n",
       "    <tr style=\"text-align: right;\">\n",
       "      <th></th>\n",
       "      <th>0</th>\n",
       "      <th>1</th>\n",
       "      <th>2</th>\n",
       "      <th>3</th>\n",
       "      <th>bp</th>\n",
       "    </tr>\n",
       "  </thead>\n",
       "  <tbody>\n",
       "    <tr>\n",
       "      <th>0</th>\n",
       "      <td>chr1</td>\n",
       "      <td>2044782</td>\n",
       "      <td>151M</td>\n",
       "      <td>GGCCCGGAAGGATGGACTCCGAGGCGGGGCTGAAACGGGGGCAGCC...</td>\n",
       "      <td>151</td>\n",
       "    </tr>\n",
       "    <tr>\n",
       "      <th>1</th>\n",
       "      <td>chr1</td>\n",
       "      <td>2048386</td>\n",
       "      <td>149M</td>\n",
       "      <td>AGATTGCTGAAATGGGCATTAGGTATGCTAGAGACTTCAAGGAAGT...</td>\n",
       "      <td>149</td>\n",
       "    </tr>\n",
       "    <tr>\n",
       "      <th>2</th>\n",
       "      <td>chr1</td>\n",
       "      <td>2048392</td>\n",
       "      <td>151M</td>\n",
       "      <td>CTGAAATGGGCATTAGGTATGCTAGAGACTTCAAGGAAGTGTGGGT...</td>\n",
       "      <td>151</td>\n",
       "    </tr>\n",
       "    <tr>\n",
       "      <th>3</th>\n",
       "      <td>chr1</td>\n",
       "      <td>2048412</td>\n",
       "      <td>151M</td>\n",
       "      <td>GCTAGAGACTTCAAGGAAGTGTGGGTGCCAGTCCAGCAGATCTCTG...</td>\n",
       "      <td>151</td>\n",
       "    </tr>\n",
       "    <tr>\n",
       "      <th>4</th>\n",
       "      <td>chr1</td>\n",
       "      <td>2048412</td>\n",
       "      <td>151M</td>\n",
       "      <td>GCTAGAGACTTCAAGGAAGTGTGGGTGCCAGTCCAGCAGATCTCTG...</td>\n",
       "      <td>151</td>\n",
       "    </tr>\n",
       "  </tbody>\n",
       "</table>\n",
       "</div>"
      ],
      "text/plain": [
       "      0        1     2                                                  3   bp\n",
       "0  chr1  2044782  151M  GGCCCGGAAGGATGGACTCCGAGGCGGGGCTGAAACGGGGGCAGCC...  151\n",
       "1  chr1  2048386  149M  AGATTGCTGAAATGGGCATTAGGTATGCTAGAGACTTCAAGGAAGT...  149\n",
       "2  chr1  2048392  151M  CTGAAATGGGCATTAGGTATGCTAGAGACTTCAAGGAAGTGTGGGT...  151\n",
       "3  chr1  2048412  151M  GCTAGAGACTTCAAGGAAGTGTGGGTGCCAGTCCAGCAGATCTCTG...  151\n",
       "4  chr1  2048412  151M  GCTAGAGACTTCAAGGAAGTGTGGGTGCCAGTCCAGCAGATCTCTG...  151"
      ]
     },
     "execution_count": 41,
     "metadata": {},
     "output_type": "execute_result"
    }
   ],
   "source": [
    "data.head()"
   ]
  },
  {
   "cell_type": "code",
   "execution_count": 44,
   "metadata": {},
   "outputs": [
    {
     "data": {
      "text/html": [
       "<div>\n",
       "<style scoped>\n",
       "    .dataframe tbody tr th:only-of-type {\n",
       "        vertical-align: middle;\n",
       "    }\n",
       "\n",
       "    .dataframe tbody tr th {\n",
       "        vertical-align: top;\n",
       "    }\n",
       "\n",
       "    .dataframe thead th {\n",
       "        text-align: right;\n",
       "    }\n",
       "</style>\n",
       "<table border=\"1\" class=\"dataframe\">\n",
       "  <thead>\n",
       "    <tr style=\"text-align: right;\">\n",
       "      <th></th>\n",
       "      <th>0</th>\n",
       "      <th>1</th>\n",
       "      <th>2</th>\n",
       "      <th>3</th>\n",
       "      <th>bp</th>\n",
       "    </tr>\n",
       "  </thead>\n",
       "  <tbody>\n",
       "    <tr>\n",
       "      <th>825373</th>\n",
       "      <td>chrX</td>\n",
       "      <td>14066384</td>\n",
       "      <td>44H31M76H</td>\n",
       "      <td>CCCCCGCCGCCCGCCCCCCCCCCCCCGCCCA</td>\n",
       "      <td>31</td>\n",
       "    </tr>\n",
       "  </tbody>\n",
       "</table>\n",
       "</div>"
      ],
      "text/plain": [
       "           0         1          2                                3  bp\n",
       "825373  chrX  14066384  44H31M76H  CCCCCGCCGCCCGCCCCCCCCCCCCCGCCCA  31"
      ]
     },
     "execution_count": 44,
     "metadata": {},
     "output_type": "execute_result"
    }
   ],
   "source": [
    "data[data[2] == \"44H31M76H\"]"
   ]
  },
  {
   "cell_type": "code",
   "execution_count": 46,
   "metadata": {},
   "outputs": [
    {
     "data": {
      "text/plain": [
       "151M         390959\n",
       "150M         159251\n",
       "149M          53641\n",
       "148M          22749\n",
       "147M          11223\n",
       "              ...  \n",
       "44H31M76H         1\n",
       "81M23S            1\n",
       "11S94M45S         1\n",
       "72S51M27S         1\n",
       "78M4D71M          1\n",
       "Name: 2, Length: 13603, dtype: int64"
      ]
     },
     "execution_count": 46,
     "metadata": {},
     "output_type": "execute_result"
    }
   ],
   "source": [
    "data[2].value_counts()"
   ]
  },
  {
   "cell_type": "code",
   "execution_count": 45,
   "metadata": {},
   "outputs": [],
   "source": [
    "import re"
   ]
  },
  {
   "cell_type": "code",
   "execution_count": 51,
   "metadata": {},
   "outputs": [
    {
     "data": {
      "text/plain": [
       "[('78', 'M'), ('4', 'D'), ('71', 'M')]"
      ]
     },
     "execution_count": 51,
     "metadata": {},
     "output_type": "execute_result"
    }
   ],
   "source": [
    "re.findall('([0-9]*)([A-Z])',\"78M4D71M\")"
   ]
  },
  {
   "cell_type": "code",
   "execution_count": 59,
   "metadata": {},
   "outputs": [
    {
     "data": {
      "text/plain": [
       "['TTCAACATTTCTTTACATTTGAAATTTCTCTCTGGGAAATTGAGATTGTGGGAGCTTATGATACTTGTCAAAATTAAAACACACACACACACACACACACACACACACACACACCCATCAATGTTGAAAAAAATGTTACAACTAGGATG']"
      ]
     },
     "execution_count": 59,
     "metadata": {},
     "output_type": "execute_result"
    }
   ],
   "source": [
    "list(data.loc[(data[2] == '78M4D71M'),3])"
   ]
  },
  {
   "cell_type": "code",
   "execution_count": 70,
   "metadata": {},
   "outputs": [],
   "source": [
    "seq1 = 'TTCAACATTTCTTTACATTTGAAATTTCTCTCTGGGAAATTGAGATTGTGGGAGCTTATGATACTTGTCAAAATTAAAACACACACACACACACACACACACACACACACACACCCATCAATGTTGAAAAAAATGTTACAACTAGGATG'\n",
    "\n",
    "pos=0\n",
    "seq=''\n",
    "for i in re.findall('([0-9]*)([A-Z])',\"78M4D71M\"):\n",
    "    if i[1] == \"M\" or i[1] == \"S\":\n",
    "        seq = seq + seq1[pos:pos+int(i[0])]\n",
    "        pos = pos+int(i[0])\n",
    "    if i[1] == \"D\" or i[1] == \"N\":\n",
    "        seq = seq + '-' * int(i[0])\n",
    "        pos = pos+int(i[0])\n",
    "    #if i[1] == \"I\":\n",
    "    #    ref_seq = ref_seq1[:pos] + '-' * int(i[0]) + ref_seq[pos+int(i[0]):]"
   ]
  },
  {
   "cell_type": "code",
   "execution_count": 71,
   "metadata": {},
   "outputs": [
    {
     "data": {
      "text/plain": [
       "'TTCAACATTTCTTTACATTTGAAATTTCTCTCTGGGAAATTGAGATTGTGGGAGCTTATGATACTTGTCAAAATTAAA----ACACACACACACACACACACACACACACACACCCATCAATGTTGAAAAAAATGTTACAACTAGGATG'"
      ]
     },
     "execution_count": 71,
     "metadata": {},
     "output_type": "execute_result"
    }
   ],
   "source": [
    "seq"
   ]
  },
  {
   "cell_type": "code",
   "execution_count": 72,
   "metadata": {},
   "outputs": [],
   "source": [
    "data[1] = data[1].astype('int')"
   ]
  },
  {
   "cell_type": "code",
   "execution_count": 73,
   "metadata": {},
   "outputs": [
    {
     "data": {
      "text/plain": [
       "dtype('int64')"
      ]
     },
     "execution_count": 73,
     "metadata": {},
     "output_type": "execute_result"
    }
   ],
   "source": [
    "data['bp'].dtype"
   ]
  },
  {
   "cell_type": "code",
   "execution_count": 74,
   "metadata": {},
   "outputs": [
    {
     "data": {
      "text/plain": [
       "'/Users/beth/Desktop'"
      ]
     },
     "execution_count": 74,
     "metadata": {},
     "output_type": "execute_result"
    }
   ],
   "source": [
    "os.getcwd()"
   ]
  },
  {
   "cell_type": "code",
   "execution_count": 75,
   "metadata": {},
   "outputs": [],
   "source": [
    "!rm sample_locations.tmp"
   ]
  },
  {
   "cell_type": "code",
   "execution_count": 76,
   "metadata": {},
   "outputs": [],
   "source": [
    "for i in range(len(data[0])):\n",
    "    with open(\"sample_locations.tmp\", \"a\") as file:\n",
    "                    file.write(data.loc[i,0] + \"\\t\" + str(data.loc[i,1]-1) + \"\\t\" + str(data.loc[i,1]+data.loc[i,'bp']-1) + \"\\n\")"
   ]
  },
  {
   "cell_type": "code",
   "execution_count": 77,
   "metadata": {},
   "outputs": [],
   "source": [
    "locations = \"sample_locations.tmp\""
   ]
  },
  {
   "cell_type": "code",
   "execution_count": 78,
   "metadata": {},
   "outputs": [],
   "source": [
    "os.environ['PATH'] = '/opt/anaconda3/bin:/opt/anaconda3/condabin:/usr/local/bin:/usr/bin:/bin:/usr/sbin:/sbin'"
   ]
  },
  {
   "cell_type": "code",
   "execution_count": 79,
   "metadata": {},
   "outputs": [],
   "source": [
    "ref_seqs = !bedtools getfasta -fi /Volumes/BethMac/hg38/hg38.fa -bed $locations"
   ]
  },
  {
   "cell_type": "code",
   "execution_count": 80,
   "metadata": {},
   "outputs": [
    {
     "name": "stdout",
     "output_type": "stream",
     "text": [
      "chr1\t2044781\t2044932\r\n",
      "chr1\t2048385\t2048534\r\n",
      "chr1\t2048391\t2048542\r\n",
      "chr1\t2048411\t2048562\r\n",
      "chr1\t2048411\t2048562\r\n",
      "chr1\t2048422\t2048570\r\n",
      "chr1\t2048422\t2048570\r\n",
      "chr1\t2048424\t2048567\r\n",
      "chr1\t2048424\t2048567\r\n",
      "chr1\t2048439\t2048586\r\n"
     ]
    }
   ],
   "source": [
    "!head sample_locations.tmp"
   ]
  },
  {
   "cell_type": "code",
   "execution_count": 81,
   "metadata": {},
   "outputs": [
    {
     "data": {
      "text/plain": [
       "'GGCCCGGAAGGATGGACTCCGAGGCGGGGCTGAAAAGGGGGCAGCCGCGCCAAGCAGGAAGCGCCCCGGGGTGGGGCGGGAGGCCCGGAGGCCCCGGAGCCAGAGCGGGCAGGGCCGGCGCTGCGCGGTCGCCGAGGGACCCACGTGCGGG'"
      ]
     },
     "execution_count": 81,
     "metadata": {},
     "output_type": "execute_result"
    }
   ],
   "source": [
    "ref_seqs[1]"
   ]
  },
  {
   "cell_type": "code",
   "execution_count": null,
   "metadata": {},
   "outputs": [],
   "source": []
  },
  {
   "cell_type": "code",
   "execution_count": 82,
   "metadata": {},
   "outputs": [],
   "source": [
    "ref_seqs_2=[]\n",
    "for i in range(1,len(ref_seqs),2):\n",
    "    ref_seqs_2.append(ref_seqs[i])"
   ]
  },
  {
   "cell_type": "code",
   "execution_count": 83,
   "metadata": {},
   "outputs": [
    {
     "data": {
      "text/plain": [
       "844471"
      ]
     },
     "execution_count": 83,
     "metadata": {},
     "output_type": "execute_result"
    }
   ],
   "source": [
    "len(ref_seqs_2)"
   ]
  },
  {
   "cell_type": "code",
   "execution_count": 84,
   "metadata": {},
   "outputs": [],
   "source": [
    "data['ref']=pd.Series(ref_seqs_2)"
   ]
  },
  {
   "cell_type": "code",
   "execution_count": 85,
   "metadata": {},
   "outputs": [
    {
     "data": {
      "text/html": [
       "<div>\n",
       "<style scoped>\n",
       "    .dataframe tbody tr th:only-of-type {\n",
       "        vertical-align: middle;\n",
       "    }\n",
       "\n",
       "    .dataframe tbody tr th {\n",
       "        vertical-align: top;\n",
       "    }\n",
       "\n",
       "    .dataframe thead th {\n",
       "        text-align: right;\n",
       "    }\n",
       "</style>\n",
       "<table border=\"1\" class=\"dataframe\">\n",
       "  <thead>\n",
       "    <tr style=\"text-align: right;\">\n",
       "      <th></th>\n",
       "      <th>0</th>\n",
       "      <th>1</th>\n",
       "      <th>2</th>\n",
       "      <th>3</th>\n",
       "      <th>bp</th>\n",
       "      <th>ref</th>\n",
       "    </tr>\n",
       "  </thead>\n",
       "  <tbody>\n",
       "    <tr>\n",
       "      <th>0</th>\n",
       "      <td>chr1</td>\n",
       "      <td>2044782</td>\n",
       "      <td>151M</td>\n",
       "      <td>GGCCCGGAAGGATGGACTCCGAGGCGGGGCTGAAACGGGGGCAGCC...</td>\n",
       "      <td>151</td>\n",
       "      <td>GGCCCGGAAGGATGGACTCCGAGGCGGGGCTGAAAAGGGGGCAGCC...</td>\n",
       "    </tr>\n",
       "    <tr>\n",
       "      <th>1</th>\n",
       "      <td>chr1</td>\n",
       "      <td>2048386</td>\n",
       "      <td>149M</td>\n",
       "      <td>AGATTGCTGAAATGGGCATTAGGTATGCTAGAGACTTCAAGGAAGT...</td>\n",
       "      <td>149</td>\n",
       "      <td>AGATTGCTGAAATGGGCATTAGGTATGCTagagacttcaaggaagt...</td>\n",
       "    </tr>\n",
       "    <tr>\n",
       "      <th>2</th>\n",
       "      <td>chr1</td>\n",
       "      <td>2048392</td>\n",
       "      <td>151M</td>\n",
       "      <td>CTGAAATGGGCATTAGGTATGCTAGAGACTTCAAGGAAGTGTGGGT...</td>\n",
       "      <td>151</td>\n",
       "      <td>CTGAAATGGGCATTAGGTATGCTagagacttcaaggaagtgtgggt...</td>\n",
       "    </tr>\n",
       "    <tr>\n",
       "      <th>3</th>\n",
       "      <td>chr1</td>\n",
       "      <td>2048412</td>\n",
       "      <td>151M</td>\n",
       "      <td>GCTAGAGACTTCAAGGAAGTGTGGGTGCCAGTCCAGCAGATCTCTG...</td>\n",
       "      <td>151</td>\n",
       "      <td>GCTagagacttcaaggaagtgtgggtgccagtccagcagatctctg...</td>\n",
       "    </tr>\n",
       "    <tr>\n",
       "      <th>4</th>\n",
       "      <td>chr1</td>\n",
       "      <td>2048412</td>\n",
       "      <td>151M</td>\n",
       "      <td>GCTAGAGACTTCAAGGAAGTGTGGGTGCCAGTCCAGCAGATCTCTG...</td>\n",
       "      <td>151</td>\n",
       "      <td>GCTagagacttcaaggaagtgtgggtgccagtccagcagatctctg...</td>\n",
       "    </tr>\n",
       "  </tbody>\n",
       "</table>\n",
       "</div>"
      ],
      "text/plain": [
       "      0        1     2                                                  3  \\\n",
       "0  chr1  2044782  151M  GGCCCGGAAGGATGGACTCCGAGGCGGGGCTGAAACGGGGGCAGCC...   \n",
       "1  chr1  2048386  149M  AGATTGCTGAAATGGGCATTAGGTATGCTAGAGACTTCAAGGAAGT...   \n",
       "2  chr1  2048392  151M  CTGAAATGGGCATTAGGTATGCTAGAGACTTCAAGGAAGTGTGGGT...   \n",
       "3  chr1  2048412  151M  GCTAGAGACTTCAAGGAAGTGTGGGTGCCAGTCCAGCAGATCTCTG...   \n",
       "4  chr1  2048412  151M  GCTAGAGACTTCAAGGAAGTGTGGGTGCCAGTCCAGCAGATCTCTG...   \n",
       "\n",
       "    bp                                                ref  \n",
       "0  151  GGCCCGGAAGGATGGACTCCGAGGCGGGGCTGAAAAGGGGGCAGCC...  \n",
       "1  149  AGATTGCTGAAATGGGCATTAGGTATGCTagagacttcaaggaagt...  \n",
       "2  151  CTGAAATGGGCATTAGGTATGCTagagacttcaaggaagtgtgggt...  \n",
       "3  151  GCTagagacttcaaggaagtgtgggtgccagtccagcagatctctg...  \n",
       "4  151  GCTagagacttcaaggaagtgtgggtgccagtccagcagatctctg...  "
      ]
     },
     "execution_count": 85,
     "metadata": {},
     "output_type": "execute_result"
    }
   ],
   "source": [
    "data.head()"
   ]
  },
  {
   "cell_type": "code",
   "execution_count": 127,
   "metadata": {},
   "outputs": [
    {
     "data": {
      "text/html": [
       "<div>\n",
       "<style scoped>\n",
       "    .dataframe tbody tr th:only-of-type {\n",
       "        vertical-align: middle;\n",
       "    }\n",
       "\n",
       "    .dataframe tbody tr th {\n",
       "        vertical-align: top;\n",
       "    }\n",
       "\n",
       "    .dataframe thead th {\n",
       "        text-align: right;\n",
       "    }\n",
       "</style>\n",
       "<table border=\"1\" class=\"dataframe\">\n",
       "  <thead>\n",
       "    <tr style=\"text-align: right;\">\n",
       "      <th></th>\n",
       "      <th>0</th>\n",
       "      <th>1</th>\n",
       "      <th>2</th>\n",
       "      <th>3</th>\n",
       "      <th>bp</th>\n",
       "      <th>ref</th>\n",
       "      <th>new_seqs</th>\n",
       "      <th>new_ref</th>\n",
       "    </tr>\n",
       "  </thead>\n",
       "  <tbody>\n",
       "    <tr>\n",
       "      <th>23</th>\n",
       "      <td>chr1</td>\n",
       "      <td>2050554</td>\n",
       "      <td>136M15S</td>\n",
       "      <td>CCCACCTGGAGCCCCCGCCCCGCGCCATGGCCGGAGCTCCCGGGGC...</td>\n",
       "      <td>151</td>\n",
       "      <td>CCCACCTGGAGCCCCCGCCCCGCGCCATGGCCGGAGCTCCCGGGGC...</td>\n",
       "      <td>CCCACCTGGAGCCCCCGCCCCGCGCCATGGCCGGAGCTCCCGGGGC...</td>\n",
       "      <td>CCCACCTGGAGCCCCCGCCCCGCGCCATGGCCGGAGCTCCCGGGGC...</td>\n",
       "    </tr>\n",
       "    <tr>\n",
       "      <th>24</th>\n",
       "      <td>chr1</td>\n",
       "      <td>2050554</td>\n",
       "      <td>15S136M</td>\n",
       "      <td>GACGCTCTCCGATCTCCCACCTGGAGCCCCCGCCCCGCGCCATGGC...</td>\n",
       "      <td>151</td>\n",
       "      <td>CCCACCTGGAGCCCCCGCCCCGCGCCATGGCCGGAGCTCCCGGGGC...</td>\n",
       "      <td>GACGCTCTCCGATCTCCCACCTGGAGCCCCCGCCCCGCGCCATGGC...</td>\n",
       "      <td>CCCACCTGGAGCCCCCGCCCCGCGCCATGGCCGGAGCTCCCGGGGC...</td>\n",
       "    </tr>\n",
       "    <tr>\n",
       "      <th>50</th>\n",
       "      <td>chr1</td>\n",
       "      <td>2099525</td>\n",
       "      <td>61S89M</td>\n",
       "      <td>GCCCCCGGGGGGGCGCCTTGTCGGCCCCCCCTCCCTCCGGGGGGGG...</td>\n",
       "      <td>150</td>\n",
       "      <td>AAGGCCGTGGGGAGGAGTGACTTCCAGATGAGGCTCACAGGACTGT...</td>\n",
       "      <td>GCCCCCGGGGGGGCGCCTTGTCGGCCCCCCCTCCCTCCGGGGGGGG...</td>\n",
       "      <td>AAGGCCGTGGGGAGGAGTGACTTCCAGATGAGGCTCACAGGACTGT...</td>\n",
       "    </tr>\n",
       "    <tr>\n",
       "      <th>53</th>\n",
       "      <td>chr1</td>\n",
       "      <td>2108966</td>\n",
       "      <td>148M3S</td>\n",
       "      <td>GCCCCTTGGTGCAGCCCTGAGTCACCCCAGCCTCTGCCTCCGTCTC...</td>\n",
       "      <td>151</td>\n",
       "      <td>gccccttggTGCAGCCCTGAgtcaccccagcctctgcctccgtctc...</td>\n",
       "      <td>GCCCCTTGGTGCAGCCCTGAGTCACCCCAGCCTCTGCCTCCGTCTC...</td>\n",
       "      <td>gccccttggTGCAGCCCTGAgtcaccccagcctctgcctccgtctc...</td>\n",
       "    </tr>\n",
       "    <tr>\n",
       "      <th>58</th>\n",
       "      <td>chr1</td>\n",
       "      <td>2117368</td>\n",
       "      <td>7S143M</td>\n",
       "      <td>TTTTTATTTTTTTTTTTTTTATCTTTTTGTTTATAGCAATGTGTAA...</td>\n",
       "      <td>150</td>\n",
       "      <td>tttttttttttttatctttttgtttatagcaatgtgtaaagaagtg...</td>\n",
       "      <td>TTTTTATTTTTTTTTTTTTTATCTTTTTGTTTATAGCAATGTGTAA...</td>\n",
       "      <td>tttttttttttttatctttttgtttatagcaatgtgtaaagaagtg...</td>\n",
       "    </tr>\n",
       "    <tr>\n",
       "      <th>...</th>\n",
       "      <td>...</td>\n",
       "      <td>...</td>\n",
       "      <td>...</td>\n",
       "      <td>...</td>\n",
       "      <td>...</td>\n",
       "      <td>...</td>\n",
       "      <td>...</td>\n",
       "      <td>...</td>\n",
       "    </tr>\n",
       "    <tr>\n",
       "      <th>844453</th>\n",
       "      <td>chrUn_KI270756v1</td>\n",
       "      <td>1838</td>\n",
       "      <td>22S82M6S</td>\n",
       "      <td>ATTCCATTCCTTTTCATTCCTGTCCATTCCATTCCATTCCATTCCA...</td>\n",
       "      <td>110</td>\n",
       "      <td>tctattctattccattcgattccattccattcgattccattccatt...</td>\n",
       "      <td>ATTCCATTCCTTTTCATTCCTGTCCATTCCATTCCATTCCATTCCA...</td>\n",
       "      <td>tctattctattccattcgattccattccattcgattccattccatt...</td>\n",
       "    </tr>\n",
       "    <tr>\n",
       "      <th>844454</th>\n",
       "      <td>chrUn_KI270756v1</td>\n",
       "      <td>1838</td>\n",
       "      <td>22S82M6S</td>\n",
       "      <td>ATTCCATTCCTTTTCATTCCTGTCCATTCCATTCCATTCCATTCCA...</td>\n",
       "      <td>110</td>\n",
       "      <td>tccattccattcgattccattccattccattccattcgatgccatt...</td>\n",
       "      <td>ATTCCATTCCTTTTCATTCCTGTCCATTCCATTCCATTCCATTCCA...</td>\n",
       "      <td>tccattccattcgattccattccattccattccattcgatgccatt...</td>\n",
       "    </tr>\n",
       "    <tr>\n",
       "      <th>844459</th>\n",
       "      <td>chrUn_KI270757v1</td>\n",
       "      <td>15616</td>\n",
       "      <td>35S116M</td>\n",
       "      <td>CCATCAGAAATTAAGGAAAGAAATGGATTGGAGTCGAATGGAATGC...</td>\n",
       "      <td>151</td>\n",
       "      <td>tgtgcattcacgtgacagagttgaaattttcttatgttgagcagtt...</td>\n",
       "      <td>CCATCAGAAATTAAGGAAAGAAATGGATTGGAGTCGAATGGAATGC...</td>\n",
       "      <td>tgtgcattcacgtgacagagttgaaattttcttatgttgagcagtt...</td>\n",
       "    </tr>\n",
       "    <tr>\n",
       "      <th>844460</th>\n",
       "      <td>chrUn_KI270757v1</td>\n",
       "      <td>15617</td>\n",
       "      <td>24S111M16S</td>\n",
       "      <td>GATCCAGCAGAAATTAAGGAAAGAAATGGAATGGAGTAGAATGGAA...</td>\n",
       "      <td>151</td>\n",
       "      <td>tgtgcattcacgtgacagagttgaaattttcttatgttgagcagtt...</td>\n",
       "      <td>GATCCAGCAGAAATTAAGGAAAGAAATGGAATGGAGTAGAATGGAA...</td>\n",
       "      <td>tgtgcattcacgtgacagagttgaaattttcttatgttgagcagtt...</td>\n",
       "    </tr>\n",
       "    <tr>\n",
       "      <th>844463</th>\n",
       "      <td>chrUn_KI270757v1</td>\n",
       "      <td>34272</td>\n",
       "      <td>145M5S</td>\n",
       "      <td>GTTTTGAAATAGTCTTTTTGTAGAATCTGCAAGTGGACATTTGGAG...</td>\n",
       "      <td>150</td>\n",
       "      <td>ctgcaagtgaacattttgagcgatttgtggcctatggtaaaaagaa...</td>\n",
       "      <td>GTTTTGAAATAGTCTTTTTGTAGAATCTGCAAGTGGACATTTGGAG...</td>\n",
       "      <td>ctgcaagtgaacattttgagcgatttgtggcctatggtaaaaagaa...</td>\n",
       "    </tr>\n",
       "  </tbody>\n",
       "</table>\n",
       "<p>40620 rows × 8 columns</p>\n",
       "</div>"
      ],
      "text/plain": [
       "                       0        1           2  \\\n",
       "23                  chr1  2050554     136M15S   \n",
       "24                  chr1  2050554     15S136M   \n",
       "50                  chr1  2099525      61S89M   \n",
       "53                  chr1  2108966      148M3S   \n",
       "58                  chr1  2117368      7S143M   \n",
       "...                  ...      ...         ...   \n",
       "844453  chrUn_KI270756v1     1838    22S82M6S   \n",
       "844454  chrUn_KI270756v1     1838    22S82M6S   \n",
       "844459  chrUn_KI270757v1    15616     35S116M   \n",
       "844460  chrUn_KI270757v1    15617  24S111M16S   \n",
       "844463  chrUn_KI270757v1    34272      145M5S   \n",
       "\n",
       "                                                        3   bp  \\\n",
       "23      CCCACCTGGAGCCCCCGCCCCGCGCCATGGCCGGAGCTCCCGGGGC...  151   \n",
       "24      GACGCTCTCCGATCTCCCACCTGGAGCCCCCGCCCCGCGCCATGGC...  151   \n",
       "50      GCCCCCGGGGGGGCGCCTTGTCGGCCCCCCCTCCCTCCGGGGGGGG...  150   \n",
       "53      GCCCCTTGGTGCAGCCCTGAGTCACCCCAGCCTCTGCCTCCGTCTC...  151   \n",
       "58      TTTTTATTTTTTTTTTTTTTATCTTTTTGTTTATAGCAATGTGTAA...  150   \n",
       "...                                                   ...  ...   \n",
       "844453  ATTCCATTCCTTTTCATTCCTGTCCATTCCATTCCATTCCATTCCA...  110   \n",
       "844454  ATTCCATTCCTTTTCATTCCTGTCCATTCCATTCCATTCCATTCCA...  110   \n",
       "844459  CCATCAGAAATTAAGGAAAGAAATGGATTGGAGTCGAATGGAATGC...  151   \n",
       "844460  GATCCAGCAGAAATTAAGGAAAGAAATGGAATGGAGTAGAATGGAA...  151   \n",
       "844463  GTTTTGAAATAGTCTTTTTGTAGAATCTGCAAGTGGACATTTGGAG...  150   \n",
       "\n",
       "                                                      ref  \\\n",
       "23      CCCACCTGGAGCCCCCGCCCCGCGCCATGGCCGGAGCTCCCGGGGC...   \n",
       "24      CCCACCTGGAGCCCCCGCCCCGCGCCATGGCCGGAGCTCCCGGGGC...   \n",
       "50      AAGGCCGTGGGGAGGAGTGACTTCCAGATGAGGCTCACAGGACTGT...   \n",
       "53      gccccttggTGCAGCCCTGAgtcaccccagcctctgcctccgtctc...   \n",
       "58      tttttttttttttatctttttgtttatagcaatgtgtaaagaagtg...   \n",
       "...                                                   ...   \n",
       "844453  tctattctattccattcgattccattccattcgattccattccatt...   \n",
       "844454  tccattccattcgattccattccattccattccattcgatgccatt...   \n",
       "844459  tgtgcattcacgtgacagagttgaaattttcttatgttgagcagtt...   \n",
       "844460  tgtgcattcacgtgacagagttgaaattttcttatgttgagcagtt...   \n",
       "844463  ctgcaagtgaacattttgagcgatttgtggcctatggtaaaaagaa...   \n",
       "\n",
       "                                                 new_seqs  \\\n",
       "23      CCCACCTGGAGCCCCCGCCCCGCGCCATGGCCGGAGCTCCCGGGGC...   \n",
       "24      GACGCTCTCCGATCTCCCACCTGGAGCCCCCGCCCCGCGCCATGGC...   \n",
       "50      GCCCCCGGGGGGGCGCCTTGTCGGCCCCCCCTCCCTCCGGGGGGGG...   \n",
       "53      GCCCCTTGGTGCAGCCCTGAGTCACCCCAGCCTCTGCCTCCGTCTC...   \n",
       "58      TTTTTATTTTTTTTTTTTTTATCTTTTTGTTTATAGCAATGTGTAA...   \n",
       "...                                                   ...   \n",
       "844453  ATTCCATTCCTTTTCATTCCTGTCCATTCCATTCCATTCCATTCCA...   \n",
       "844454  ATTCCATTCCTTTTCATTCCTGTCCATTCCATTCCATTCCATTCCA...   \n",
       "844459  CCATCAGAAATTAAGGAAAGAAATGGATTGGAGTCGAATGGAATGC...   \n",
       "844460  GATCCAGCAGAAATTAAGGAAAGAAATGGAATGGAGTAGAATGGAA...   \n",
       "844463  GTTTTGAAATAGTCTTTTTGTAGAATCTGCAAGTGGACATTTGGAG...   \n",
       "\n",
       "                                                  new_ref  \n",
       "23      CCCACCTGGAGCCCCCGCCCCGCGCCATGGCCGGAGCTCCCGGGGC...  \n",
       "24      CCCACCTGGAGCCCCCGCCCCGCGCCATGGCCGGAGCTCCCGGGGC...  \n",
       "50      AAGGCCGTGGGGAGGAGTGACTTCCAGATGAGGCTCACAGGACTGT...  \n",
       "53      gccccttggTGCAGCCCTGAgtcaccccagcctctgcctccgtctc...  \n",
       "58      tttttttttttttatctttttgtttatagcaatgtgtaaagaagtg...  \n",
       "...                                                   ...  \n",
       "844453  tctattctattccattcgattccattccattcgattccattccatt...  \n",
       "844454  tccattccattcgattccattccattccattccattcgatgccatt...  \n",
       "844459  tgtgcattcacgtgacagagttgaaattttcttatgttgagcagtt...  \n",
       "844460  tgtgcattcacgtgacagagttgaaattttcttatgttgagcagtt...  \n",
       "844463  ctgcaagtgaacattttgagcgatttgtggcctatggtaaaaagaa...  \n",
       "\n",
       "[40620 rows x 8 columns]"
      ]
     },
     "execution_count": 127,
     "metadata": {},
     "output_type": "execute_result"
    }
   ],
   "source": [
    "data[data[2].str.contains('S')]"
   ]
  },
  {
   "cell_type": "code",
   "execution_count": 129,
   "metadata": {},
   "outputs": [
    {
     "data": {
      "text/plain": [
       "151"
      ]
     },
     "execution_count": 129,
     "metadata": {},
     "output_type": "execute_result"
    }
   ],
   "source": [
    "len(data.loc[23,3])"
   ]
  },
  {
   "cell_type": "code",
   "execution_count": 130,
   "metadata": {},
   "outputs": [
    {
     "data": {
      "text/plain": [
       "151"
      ]
     },
     "execution_count": 130,
     "metadata": {},
     "output_type": "execute_result"
    }
   ],
   "source": [
    "len(data.loc[23,'ref'])"
   ]
  },
  {
   "cell_type": "code",
   "execution_count": 131,
   "metadata": {},
   "outputs": [
    {
     "data": {
      "text/html": [
       "<div>\n",
       "<style scoped>\n",
       "    .dataframe tbody tr th:only-of-type {\n",
       "        vertical-align: middle;\n",
       "    }\n",
       "\n",
       "    .dataframe tbody tr th {\n",
       "        vertical-align: top;\n",
       "    }\n",
       "\n",
       "    .dataframe thead th {\n",
       "        text-align: right;\n",
       "    }\n",
       "</style>\n",
       "<table border=\"1\" class=\"dataframe\">\n",
       "  <thead>\n",
       "    <tr style=\"text-align: right;\">\n",
       "      <th></th>\n",
       "      <th>0</th>\n",
       "      <th>1</th>\n",
       "      <th>2</th>\n",
       "      <th>3</th>\n",
       "      <th>bp</th>\n",
       "      <th>ref</th>\n",
       "      <th>new_seqs</th>\n",
       "      <th>new_ref</th>\n",
       "    </tr>\n",
       "  </thead>\n",
       "  <tbody>\n",
       "  </tbody>\n",
       "</table>\n",
       "</div>"
      ],
      "text/plain": [
       "Empty DataFrame\n",
       "Columns: [0, 1, 2, 3, bp, ref, new_seqs, new_ref]\n",
       "Index: []"
      ]
     },
     "execution_count": 131,
     "metadata": {},
     "output_type": "execute_result"
    }
   ],
   "source": [
    "data[data[2].str.contains('X')]"
   ]
  },
  {
   "cell_type": "code",
   "execution_count": 132,
   "metadata": {},
   "outputs": [
    {
     "data": {
      "text/html": [
       "<div>\n",
       "<style scoped>\n",
       "    .dataframe tbody tr th:only-of-type {\n",
       "        vertical-align: middle;\n",
       "    }\n",
       "\n",
       "    .dataframe tbody tr th {\n",
       "        vertical-align: top;\n",
       "    }\n",
       "\n",
       "    .dataframe thead th {\n",
       "        text-align: right;\n",
       "    }\n",
       "</style>\n",
       "<table border=\"1\" class=\"dataframe\">\n",
       "  <thead>\n",
       "    <tr style=\"text-align: right;\">\n",
       "      <th></th>\n",
       "      <th>0</th>\n",
       "      <th>1</th>\n",
       "      <th>2</th>\n",
       "      <th>3</th>\n",
       "      <th>bp</th>\n",
       "      <th>ref</th>\n",
       "      <th>new_seqs</th>\n",
       "      <th>new_ref</th>\n",
       "    </tr>\n",
       "  </thead>\n",
       "  <tbody>\n",
       "  </tbody>\n",
       "</table>\n",
       "</div>"
      ],
      "text/plain": [
       "Empty DataFrame\n",
       "Columns: [0, 1, 2, 3, bp, ref, new_seqs, new_ref]\n",
       "Index: []"
      ]
     },
     "execution_count": 132,
     "metadata": {},
     "output_type": "execute_result"
    }
   ],
   "source": [
    "data[data[2].str.contains('=')]"
   ]
  },
  {
   "cell_type": "code",
   "execution_count": 89,
   "metadata": {},
   "outputs": [],
   "source": [
    "def convert_format(seq,cigar):\n",
    "    \n",
    "    pos=0\n",
    "    seq_final=''\n",
    "    \n",
    "    for i in re.findall('([0-9]*)([A-Z])',cigar):\n",
    "    \n",
    "        if i[1] == \"M\" or i[1] == \"S\":\n",
    "            seq_final = seq_final + seq[pos:pos+int(i[0])]\n",
    "            pos = pos+int(i[0])\n",
    "        if i[1] == \"D\" or i[1] == \"N\":\n",
    "            seq_final = seq_final + '-' * int(i[0])\n",
    "            pos = pos+int(i[0])\n",
    "    return seq_final\n",
    "        "
   ]
  },
  {
   "cell_type": "code",
   "execution_count": 115,
   "metadata": {},
   "outputs": [],
   "source": [
    "def convert_format_ref(ref_seq,cigar):\n",
    "    pos=0\n",
    "    for i in re.findall('([0-9]*)([A-Z])',cigar):\n",
    "        if i[1] == \"M\" or i[1] == \"S\" or i[1] == \"D\" or i[1] == \"N\":\n",
    "            pos = pos + int(i[0])\n",
    "        if i[1] == \"I\":\n",
    "            ref_seq = ref_seq[:pos] + '-' * int(i[0]) + ref_seq[pos:]\n",
    "            pos = pos + int(i[0])\n",
    "    return ref_seq"
   ]
  },
  {
   "cell_type": "code",
   "execution_count": 94,
   "metadata": {},
   "outputs": [],
   "source": [
    "new_seqs = pd.Series(map(convert_format,data[3],data[2]))"
   ]
  },
  {
   "cell_type": "code",
   "execution_count": 95,
   "metadata": {},
   "outputs": [
    {
     "data": {
      "text/plain": [
       "844473"
      ]
     },
     "execution_count": 95,
     "metadata": {},
     "output_type": "execute_result"
    }
   ],
   "source": [
    "len(new_seqs)"
   ]
  },
  {
   "cell_type": "code",
   "execution_count": 116,
   "metadata": {},
   "outputs": [],
   "source": [
    "new_ref_seqs = pd.Series(map(convert_format_ref,data['ref'],data[2]))"
   ]
  },
  {
   "cell_type": "code",
   "execution_count": 117,
   "metadata": {},
   "outputs": [
    {
     "data": {
      "text/plain": [
       "844473"
      ]
     },
     "execution_count": 117,
     "metadata": {},
     "output_type": "execute_result"
    }
   ],
   "source": [
    "len(new_ref_seqs)"
   ]
  },
  {
   "cell_type": "code",
   "execution_count": 122,
   "metadata": {},
   "outputs": [],
   "source": [
    "data['new_seqs'] = new_seqs\n",
    "data['new_ref'] = new_ref_seqs"
   ]
  },
  {
   "cell_type": "code",
   "execution_count": 104,
   "metadata": {},
   "outputs": [
    {
     "data": {
      "text/html": [
       "<div>\n",
       "<style scoped>\n",
       "    .dataframe tbody tr th:only-of-type {\n",
       "        vertical-align: middle;\n",
       "    }\n",
       "\n",
       "    .dataframe tbody tr th {\n",
       "        vertical-align: top;\n",
       "    }\n",
       "\n",
       "    .dataframe thead th {\n",
       "        text-align: right;\n",
       "    }\n",
       "</style>\n",
       "<table border=\"1\" class=\"dataframe\">\n",
       "  <thead>\n",
       "    <tr style=\"text-align: right;\">\n",
       "      <th></th>\n",
       "      <th>0</th>\n",
       "      <th>1</th>\n",
       "      <th>2</th>\n",
       "      <th>3</th>\n",
       "      <th>bp</th>\n",
       "      <th>ref</th>\n",
       "      <th>new_seqs</th>\n",
       "      <th>new_ref</th>\n",
       "    </tr>\n",
       "  </thead>\n",
       "  <tbody>\n",
       "    <tr>\n",
       "      <th>196</th>\n",
       "      <td>chr1</td>\n",
       "      <td>2437337</td>\n",
       "      <td>123M1D23M</td>\n",
       "      <td>CCTACTCCTGTCCAAGACTGACTTAGACCTCCTCTGGCCAGCTGGA...</td>\n",
       "      <td>146</td>\n",
       "      <td>CCTACTCCTGTCCAAGACTGACTTAGACCTCCTCTGGCCAGCTGGA...</td>\n",
       "      <td>CCTACTCCTGTCCAAGACTGACTTAGACCTCCTCTGGCCAGCTGGA...</td>\n",
       "      <td>CCTACTCCTGTCCAAGACTGACTTAGACCTCCTCTGGCCAGCTGGA...</td>\n",
       "    </tr>\n",
       "    <tr>\n",
       "      <th>197</th>\n",
       "      <td>chr1</td>\n",
       "      <td>2437337</td>\n",
       "      <td>123M1D23M</td>\n",
       "      <td>CCTACTCCTGTCCAAGACTGACTTAGACCTCCTCTGGCCAGCTGGA...</td>\n",
       "      <td>146</td>\n",
       "      <td>CCTACTCCTGTCCAAGACTGACTTAGACCTCCTCTGGCCAGCTGGA...</td>\n",
       "      <td>CCTACTCCTGTCCAAGACTGACTTAGACCTCCTCTGGCCAGCTGGA...</td>\n",
       "      <td>CCTACTCCTGTCCAAGACTGACTTAGACCTCCTCTGGCCAGCTGGA...</td>\n",
       "    </tr>\n",
       "    <tr>\n",
       "      <th>290</th>\n",
       "      <td>chr1</td>\n",
       "      <td>2930136</td>\n",
       "      <td>75M2D76M</td>\n",
       "      <td>GCCTTGACCACACACACGGATGCATGCACACACACACATGCTCACA...</td>\n",
       "      <td>151</td>\n",
       "      <td>GCCTTGACcacacacacggatgcatgcacacacacacatgctcaca...</td>\n",
       "      <td>GCCTTGACCACACACACGGATGCATGCACACACACACATGCTCACA...</td>\n",
       "      <td>GCCTTGACcacacacacggatgcatgcacacacacacatgctcaca...</td>\n",
       "    </tr>\n",
       "    <tr>\n",
       "      <th>291</th>\n",
       "      <td>chr1</td>\n",
       "      <td>2930173</td>\n",
       "      <td>38M2D113M</td>\n",
       "      <td>ATGCTCACACACACGTGCACACACATACATGCAAACACGTGCACAC...</td>\n",
       "      <td>151</td>\n",
       "      <td>atgctcacacacacgtgcacacacatacatgcaaacacatgtgcac...</td>\n",
       "      <td>ATGCTCACACACACGTGCACACACATACATGCAAACAC--GCACAC...</td>\n",
       "      <td>atgctcacacacacgtgcacacacatacatgcaaacacatgtgcac...</td>\n",
       "    </tr>\n",
       "    <tr>\n",
       "      <th>395</th>\n",
       "      <td>chr1</td>\n",
       "      <td>3169925</td>\n",
       "      <td>133M1D18M</td>\n",
       "      <td>GCCCGCGCGCTCCGAGTAATCGGGTGATGTATGTGGACTGTGCACA...</td>\n",
       "      <td>151</td>\n",
       "      <td>GCCCGCGCGCTCCGAGTAATCGGGTGATGTATGTGGACTGTGCACA...</td>\n",
       "      <td>GCCCGCGCGCTCCGAGTAATCGGGTGATGTATGTGGACTGTGCACA...</td>\n",
       "      <td>GCCCGCGCGCTCCGAGTAATCGGGTGATGTATGTGGACTGTGCACA...</td>\n",
       "    </tr>\n",
       "    <tr>\n",
       "      <th>...</th>\n",
       "      <td>...</td>\n",
       "      <td>...</td>\n",
       "      <td>...</td>\n",
       "      <td>...</td>\n",
       "      <td>...</td>\n",
       "      <td>...</td>\n",
       "      <td>...</td>\n",
       "      <td>...</td>\n",
       "    </tr>\n",
       "    <tr>\n",
       "      <th>844309</th>\n",
       "      <td>chrUn_KI270744v1</td>\n",
       "      <td>109408</td>\n",
       "      <td>111M1D39M</td>\n",
       "      <td>AACTCAGTGAAACTGGTGAGTTTGGTGGTGACTCCGGGGTGCCTGG...</td>\n",
       "      <td>150</td>\n",
       "      <td>ctgaaatctgggcgtggttggagagtagctgggacagatgggagag...</td>\n",
       "      <td>AACTCAGTGAAACTGGTGAGTTTGGTGGTGACTCCGGGGTGCCTGG...</td>\n",
       "      <td>ctgaaatctgggcgtggttggagagtagctgggacagatgggagag...</td>\n",
       "    </tr>\n",
       "    <tr>\n",
       "      <th>844374</th>\n",
       "      <td>chrUn_KI270749v1</td>\n",
       "      <td>32010</td>\n",
       "      <td>93M8D57M</td>\n",
       "      <td>CGAGATGAAAAGATGAAATGATGAAATGAAATGAGATGAAAAGATG...</td>\n",
       "      <td>150</td>\n",
       "      <td>tgaagtgaaatgacgaaatgaaatgttgagatgaagtgatgaaatg...</td>\n",
       "      <td>CGAGATGAAAAGATGAAATGATGAAATGAAATGAGATGAAAAGATG...</td>\n",
       "      <td>tgaagtgaaatgacgaaatgaaatgttgagatgaagtgatgaaatg...</td>\n",
       "    </tr>\n",
       "    <tr>\n",
       "      <th>844375</th>\n",
       "      <td>chrUn_KI270749v1</td>\n",
       "      <td>32010</td>\n",
       "      <td>93M8D57M</td>\n",
       "      <td>CGAGATGAAAAGATGAAATGATGAAATGAAATGAGATGAAAAGATG...</td>\n",
       "      <td>150</td>\n",
       "      <td>aaatgttgagatgaagtgatgaaatgaaatgatgaaatgaaacaat...</td>\n",
       "      <td>CGAGATGAAAAGATGAAATGATGAAATGAAATGAGATGAAAAGATG...</td>\n",
       "      <td>aaatgttgagatgaagtgatgaaatgaaatgatgaaatgaaacaat...</td>\n",
       "    </tr>\n",
       "    <tr>\n",
       "      <th>844388</th>\n",
       "      <td>chrUn_KI270749v1</td>\n",
       "      <td>66043</td>\n",
       "      <td>77M4D73M</td>\n",
       "      <td>CTCAAAAATATATAGTAAAATAATTCATTAGTAATCTAGAGTTCCC...</td>\n",
       "      <td>150</td>\n",
       "      <td>cacagggtcccacagtaggctgtctacaagctgaggagcaaggaaa...</td>\n",
       "      <td>CTCAAAAATATATAGTAAAATAATTCATTAGTAATCTAGAGTTCCC...</td>\n",
       "      <td>cacagggtcccacagtaggctgtctacaagctgaggagcaaggaaa...</td>\n",
       "    </tr>\n",
       "    <tr>\n",
       "      <th>844389</th>\n",
       "      <td>chrUn_KI270749v1</td>\n",
       "      <td>66057</td>\n",
       "      <td>63M4D88M</td>\n",
       "      <td>GTAAAATAATTCATTAGTAATCTAGAGTTCCCTATTTTAGAAAATA...</td>\n",
       "      <td>151</td>\n",
       "      <td>acagggtcccacagtaggctgtctacaagctgaggagcaaggaaac...</td>\n",
       "      <td>GTAAAATAATTCATTAGTAATCTAGAGTTCCCTATTTTAGAAAATA...</td>\n",
       "      <td>acagggtcccacagtaggctgtctacaagctgaggagcaaggaaac...</td>\n",
       "    </tr>\n",
       "  </tbody>\n",
       "</table>\n",
       "<p>11638 rows × 8 columns</p>\n",
       "</div>"
      ],
      "text/plain": [
       "                       0        1          2  \\\n",
       "196                 chr1  2437337  123M1D23M   \n",
       "197                 chr1  2437337  123M1D23M   \n",
       "290                 chr1  2930136   75M2D76M   \n",
       "291                 chr1  2930173  38M2D113M   \n",
       "395                 chr1  3169925  133M1D18M   \n",
       "...                  ...      ...        ...   \n",
       "844309  chrUn_KI270744v1   109408  111M1D39M   \n",
       "844374  chrUn_KI270749v1    32010   93M8D57M   \n",
       "844375  chrUn_KI270749v1    32010   93M8D57M   \n",
       "844388  chrUn_KI270749v1    66043   77M4D73M   \n",
       "844389  chrUn_KI270749v1    66057   63M4D88M   \n",
       "\n",
       "                                                        3   bp  \\\n",
       "196     CCTACTCCTGTCCAAGACTGACTTAGACCTCCTCTGGCCAGCTGGA...  146   \n",
       "197     CCTACTCCTGTCCAAGACTGACTTAGACCTCCTCTGGCCAGCTGGA...  146   \n",
       "290     GCCTTGACCACACACACGGATGCATGCACACACACACATGCTCACA...  151   \n",
       "291     ATGCTCACACACACGTGCACACACATACATGCAAACACGTGCACAC...  151   \n",
       "395     GCCCGCGCGCTCCGAGTAATCGGGTGATGTATGTGGACTGTGCACA...  151   \n",
       "...                                                   ...  ...   \n",
       "844309  AACTCAGTGAAACTGGTGAGTTTGGTGGTGACTCCGGGGTGCCTGG...  150   \n",
       "844374  CGAGATGAAAAGATGAAATGATGAAATGAAATGAGATGAAAAGATG...  150   \n",
       "844375  CGAGATGAAAAGATGAAATGATGAAATGAAATGAGATGAAAAGATG...  150   \n",
       "844388  CTCAAAAATATATAGTAAAATAATTCATTAGTAATCTAGAGTTCCC...  150   \n",
       "844389  GTAAAATAATTCATTAGTAATCTAGAGTTCCCTATTTTAGAAAATA...  151   \n",
       "\n",
       "                                                      ref  \\\n",
       "196     CCTACTCCTGTCCAAGACTGACTTAGACCTCCTCTGGCCAGCTGGA...   \n",
       "197     CCTACTCCTGTCCAAGACTGACTTAGACCTCCTCTGGCCAGCTGGA...   \n",
       "290     GCCTTGACcacacacacggatgcatgcacacacacacatgctcaca...   \n",
       "291     atgctcacacacacgtgcacacacatacatgcaaacacatgtgcac...   \n",
       "395     GCCCGCGCGCTCCGAGTAATCGGGTGATGTATGTGGACTGTGCACA...   \n",
       "...                                                   ...   \n",
       "844309  ctgaaatctgggcgtggttggagagtagctgggacagatgggagag...   \n",
       "844374  tgaagtgaaatgacgaaatgaaatgttgagatgaagtgatgaaatg...   \n",
       "844375  aaatgttgagatgaagtgatgaaatgaaatgatgaaatgaaacaat...   \n",
       "844388  cacagggtcccacagtaggctgtctacaagctgaggagcaaggaaa...   \n",
       "844389  acagggtcccacagtaggctgtctacaagctgaggagcaaggaaac...   \n",
       "\n",
       "                                                 new_seqs  \\\n",
       "196     CCTACTCCTGTCCAAGACTGACTTAGACCTCCTCTGGCCAGCTGGA...   \n",
       "197     CCTACTCCTGTCCAAGACTGACTTAGACCTCCTCTGGCCAGCTGGA...   \n",
       "290     GCCTTGACCACACACACGGATGCATGCACACACACACATGCTCACA...   \n",
       "291     ATGCTCACACACACGTGCACACACATACATGCAAACAC--GCACAC...   \n",
       "395     GCCCGCGCGCTCCGAGTAATCGGGTGATGTATGTGGACTGTGCACA...   \n",
       "...                                                   ...   \n",
       "844309  AACTCAGTGAAACTGGTGAGTTTGGTGGTGACTCCGGGGTGCCTGG...   \n",
       "844374  CGAGATGAAAAGATGAAATGATGAAATGAAATGAGATGAAAAGATG...   \n",
       "844375  CGAGATGAAAAGATGAAATGATGAAATGAAATGAGATGAAAAGATG...   \n",
       "844388  CTCAAAAATATATAGTAAAATAATTCATTAGTAATCTAGAGTTCCC...   \n",
       "844389  GTAAAATAATTCATTAGTAATCTAGAGTTCCCTATTTTAGAAAATA...   \n",
       "\n",
       "                                                  new_ref  \n",
       "196     CCTACTCCTGTCCAAGACTGACTTAGACCTCCTCTGGCCAGCTGGA...  \n",
       "197     CCTACTCCTGTCCAAGACTGACTTAGACCTCCTCTGGCCAGCTGGA...  \n",
       "290     GCCTTGACcacacacacggatgcatgcacacacacacatgctcaca...  \n",
       "291     atgctcacacacacgtgcacacacatacatgcaaacacatgtgcac...  \n",
       "395     GCCCGCGCGCTCCGAGTAATCGGGTGATGTATGTGGACTGTGCACA...  \n",
       "...                                                   ...  \n",
       "844309  ctgaaatctgggcgtggttggagagtagctgggacagatgggagag...  \n",
       "844374  tgaagtgaaatgacgaaatgaaatgttgagatgaagtgatgaaatg...  \n",
       "844375  aaatgttgagatgaagtgatgaaatgaaatgatgaaatgaaacaat...  \n",
       "844388  cacagggtcccacagtaggctgtctacaagctgaggagcaaggaaa...  \n",
       "844389  acagggtcccacagtaggctgtctacaagctgaggagcaaggaaac...  \n",
       "\n",
       "[11638 rows x 8 columns]"
      ]
     },
     "execution_count": 104,
     "metadata": {},
     "output_type": "execute_result"
    }
   ],
   "source": [
    "data[data[2].str.contains('D')]"
   ]
  },
  {
   "cell_type": "code",
   "execution_count": 105,
   "metadata": {},
   "outputs": [
    {
     "data": {
      "text/plain": [
       "'CGAGATGAAAAGATGAAATGATGAAATGAAATGAGATGAAAAGATGAAATGAGATGATGAGATGAAATCATGAGATGAAATGATGAGATGAAG--------TGAAATGACGAAATGCAACAATGAGAAGAAATGCTGAAATGAAATAATG'"
      ]
     },
     "execution_count": 105,
     "metadata": {},
     "output_type": "execute_result"
    }
   ],
   "source": [
    "data.loc[844374,'new_seqs']"
   ]
  },
  {
   "cell_type": "code",
   "execution_count": 123,
   "metadata": {},
   "outputs": [
    {
     "data": {
      "text/html": [
       "<div>\n",
       "<style scoped>\n",
       "    .dataframe tbody tr th:only-of-type {\n",
       "        vertical-align: middle;\n",
       "    }\n",
       "\n",
       "    .dataframe tbody tr th {\n",
       "        vertical-align: top;\n",
       "    }\n",
       "\n",
       "    .dataframe thead th {\n",
       "        text-align: right;\n",
       "    }\n",
       "</style>\n",
       "<table border=\"1\" class=\"dataframe\">\n",
       "  <thead>\n",
       "    <tr style=\"text-align: right;\">\n",
       "      <th></th>\n",
       "      <th>0</th>\n",
       "      <th>1</th>\n",
       "      <th>2</th>\n",
       "      <th>3</th>\n",
       "      <th>bp</th>\n",
       "      <th>ref</th>\n",
       "      <th>new_seqs</th>\n",
       "      <th>new_ref</th>\n",
       "    </tr>\n",
       "  </thead>\n",
       "  <tbody>\n",
       "    <tr>\n",
       "      <th>61</th>\n",
       "      <td>chr1</td>\n",
       "      <td>2137645</td>\n",
       "      <td>123M1I13M12S</td>\n",
       "      <td>TACCCACCCAGTGACATGGGCCAGGGCTACGGGCAGCACAGGGTGT...</td>\n",
       "      <td>149</td>\n",
       "      <td>TACCCACCCAGTGACATGGGCCAGGGCTCCGGGCAGCACAGGGTGT...</td>\n",
       "      <td>TACCCACCCAGTGACATGGGCCAGGGCTACGGGCAGCACAGGGTGT...</td>\n",
       "      <td>TACCCACCCAGTGACATGGGCCAGGGCTCCGGGCAGCACAGGGTGT...</td>\n",
       "    </tr>\n",
       "    <tr>\n",
       "      <th>204</th>\n",
       "      <td>chr1</td>\n",
       "      <td>2443505</td>\n",
       "      <td>91M12I30M</td>\n",
       "      <td>GCGGAGGGGGAGGTGTGGGGAGCGGAAGGCCGCAGGAGCATCTTTG...</td>\n",
       "      <td>133</td>\n",
       "      <td>gcggagggggaggtgtggggagcggaaggcCGCAGGAGCATCTTTG...</td>\n",
       "      <td>GCGGAGGGGGAGGTGTGGGGAGCGGAAGGCCGCAGGAGCATCTTTG...</td>\n",
       "      <td>gcggagggggaggtgtggggagcggaaggcCGCAGGAGCATCTTTG...</td>\n",
       "    </tr>\n",
       "    <tr>\n",
       "      <th>205</th>\n",
       "      <td>chr1</td>\n",
       "      <td>2443505</td>\n",
       "      <td>91M12I30M</td>\n",
       "      <td>GCGGAGGGGGAGGTGTGGGGAGCGGAAGGCCGCAGGAGCATCTTTG...</td>\n",
       "      <td>133</td>\n",
       "      <td>gcggagggggaggtgtggggagcggaaggcCGCAGGAGCATCTTTG...</td>\n",
       "      <td>GCGGAGGGGGAGGTGTGGGGAGCGGAAGGCCGCAGGAGCATCTTTG...</td>\n",
       "      <td>gcggagggggaggtgtggggagcggaaggcCGCAGGAGCATCTTTG...</td>\n",
       "    </tr>\n",
       "    <tr>\n",
       "      <th>321</th>\n",
       "      <td>chr1</td>\n",
       "      <td>2978623</td>\n",
       "      <td>59S14M1I77M</td>\n",
       "      <td>GGGGCGGGCCGGGCGGGGGGCCTCCCCCCCCCCCCGCCGCCCCCCC...</td>\n",
       "      <td>151</td>\n",
       "      <td>CGGGGGCTGGGGGGCAAGGACACGGGGCCCTCCCCAGGCTCGCTGG...</td>\n",
       "      <td>GGGGCGGGCCGGGCGGGGGGCCTCCCCCCCCCCCCGCCGCCCCCCC...</td>\n",
       "      <td>CGGGGGCTGGGGGGCAAGGACACGGGGCCCTCCCCAGGCTCGCTGG...</td>\n",
       "    </tr>\n",
       "    <tr>\n",
       "      <th>333</th>\n",
       "      <td>chr1</td>\n",
       "      <td>3037133</td>\n",
       "      <td>49M1I19M81S</td>\n",
       "      <td>GCCTCACAGGAGGCTATTGAGTGGGGAGGTAGGAGCCCCGACTCCG...</td>\n",
       "      <td>150</td>\n",
       "      <td>GCCTCACAGGAGGCTATTGAGTGGGGAGGTAGGAGCCCCGACTCCG...</td>\n",
       "      <td>GCCTCACAGGAGGCTATTGAGTGGGGAGGTAGGAGCCCCGACTCCG...</td>\n",
       "      <td>GCCTCACAGGAGGCTATTGAGTGGGGAGGTAGGAGCCCCGACTCCG...</td>\n",
       "    </tr>\n",
       "    <tr>\n",
       "      <th>...</th>\n",
       "      <td>...</td>\n",
       "      <td>...</td>\n",
       "      <td>...</td>\n",
       "      <td>...</td>\n",
       "      <td>...</td>\n",
       "      <td>...</td>\n",
       "      <td>...</td>\n",
       "      <td>...</td>\n",
       "    </tr>\n",
       "    <tr>\n",
       "      <th>844166</th>\n",
       "      <td>chrUn_KI270467v1</td>\n",
       "      <td>3300</td>\n",
       "      <td>6M1I140M</td>\n",
       "      <td>GGGGTACTTTTATATTTTATGTACAGTATACAATATGTATTTTGGC...</td>\n",
       "      <td>147</td>\n",
       "      <td>&gt;chrUn_KI270467v1:3357-3508</td>\n",
       "      <td>GGGGTACTTTTATATTTTATGTACAGTATACAATATGTATTTTGGC...</td>\n",
       "      <td>&gt;chrUn-_KI270467v1:3357-3508</td>\n",
       "    </tr>\n",
       "    <tr>\n",
       "      <th>844223</th>\n",
       "      <td>chrUn_KI270538v1</td>\n",
       "      <td>53236</td>\n",
       "      <td>30M1I111M</td>\n",
       "      <td>CACTTGCGGATACTACAAGAAGACTGTTTCAAAACCGCTCTCTCAA...</td>\n",
       "      <td>142</td>\n",
       "      <td>cacttgcggatactacaagaagactgtttcaaaccgctctctcaaa...</td>\n",
       "      <td>CACTTGCGGATACTACAAGAAGACTGTTTCAAAACCGCTCTCTCAA...</td>\n",
       "      <td>cacttgcggatactacaagaagactgtttc-aaaccgctctctcaa...</td>\n",
       "    </tr>\n",
       "    <tr>\n",
       "      <th>844224</th>\n",
       "      <td>chrUn_KI270538v1</td>\n",
       "      <td>53236</td>\n",
       "      <td>30M1I111M</td>\n",
       "      <td>CACTTGCGGATACTACAAGAAGACTGTTTCAAAACCGCTCTCTCAA...</td>\n",
       "      <td>142</td>\n",
       "      <td>tttcactcctgctctgtcaaaagacagtttcaactctgttagttga...</td>\n",
       "      <td>CACTTGCGGATACTACAAGAAGACTGTTTCAAAACCGCTCTCTCAA...</td>\n",
       "      <td>tttcactcctgctctgtcaaaagacagttt-caactctgttagttg...</td>\n",
       "    </tr>\n",
       "    <tr>\n",
       "      <th>844381</th>\n",
       "      <td>chrUn_KI270749v1</td>\n",
       "      <td>62369</td>\n",
       "      <td>126M5I20M</td>\n",
       "      <td>AGGTAAAGAAAGAAAGAAGGAAAGAAGGAAGGAAGGAAAAAAAAGA...</td>\n",
       "      <td>151</td>\n",
       "      <td>TTTTTCACTTGAAAGGAAAGAGTATCTGCCATTGAAgattggatgt...</td>\n",
       "      <td>AGGTAAAGAAAGAAAGAAGGAAAGAAGGAAGGAAGGAAAAAAAAGA...</td>\n",
       "      <td>TTTTTCACTTGAAAGGAAAGAGTATCTGCCATTGAAgattggatgt...</td>\n",
       "    </tr>\n",
       "    <tr>\n",
       "      <th>844426</th>\n",
       "      <td>chrUn_KI270751v1</td>\n",
       "      <td>134516</td>\n",
       "      <td>70M1I80M</td>\n",
       "      <td>CATGTCACATGTATACATAGGTAATGAACCTGCACTTTGTGAACAT...</td>\n",
       "      <td>151</td>\n",
       "      <td>gtttctgatgtccagcacccaccctgaagctatacgggtctccagc...</td>\n",
       "      <td>CATGTCACATGTATACATAGGTAATGAACCTGCACTTTGTGAACAT...</td>\n",
       "      <td>gtttctgatgtccagcacccaccctgaagctatacgggtctccagc...</td>\n",
       "    </tr>\n",
       "  </tbody>\n",
       "</table>\n",
       "<p>7066 rows × 8 columns</p>\n",
       "</div>"
      ],
      "text/plain": [
       "                       0        1             2  \\\n",
       "61                  chr1  2137645  123M1I13M12S   \n",
       "204                 chr1  2443505     91M12I30M   \n",
       "205                 chr1  2443505     91M12I30M   \n",
       "321                 chr1  2978623   59S14M1I77M   \n",
       "333                 chr1  3037133   49M1I19M81S   \n",
       "...                  ...      ...           ...   \n",
       "844166  chrUn_KI270467v1     3300      6M1I140M   \n",
       "844223  chrUn_KI270538v1    53236     30M1I111M   \n",
       "844224  chrUn_KI270538v1    53236     30M1I111M   \n",
       "844381  chrUn_KI270749v1    62369     126M5I20M   \n",
       "844426  chrUn_KI270751v1   134516      70M1I80M   \n",
       "\n",
       "                                                        3   bp  \\\n",
       "61      TACCCACCCAGTGACATGGGCCAGGGCTACGGGCAGCACAGGGTGT...  149   \n",
       "204     GCGGAGGGGGAGGTGTGGGGAGCGGAAGGCCGCAGGAGCATCTTTG...  133   \n",
       "205     GCGGAGGGGGAGGTGTGGGGAGCGGAAGGCCGCAGGAGCATCTTTG...  133   \n",
       "321     GGGGCGGGCCGGGCGGGGGGCCTCCCCCCCCCCCCGCCGCCCCCCC...  151   \n",
       "333     GCCTCACAGGAGGCTATTGAGTGGGGAGGTAGGAGCCCCGACTCCG...  150   \n",
       "...                                                   ...  ...   \n",
       "844166  GGGGTACTTTTATATTTTATGTACAGTATACAATATGTATTTTGGC...  147   \n",
       "844223  CACTTGCGGATACTACAAGAAGACTGTTTCAAAACCGCTCTCTCAA...  142   \n",
       "844224  CACTTGCGGATACTACAAGAAGACTGTTTCAAAACCGCTCTCTCAA...  142   \n",
       "844381  AGGTAAAGAAAGAAAGAAGGAAAGAAGGAAGGAAGGAAAAAAAAGA...  151   \n",
       "844426  CATGTCACATGTATACATAGGTAATGAACCTGCACTTTGTGAACAT...  151   \n",
       "\n",
       "                                                      ref  \\\n",
       "61      TACCCACCCAGTGACATGGGCCAGGGCTCCGGGCAGCACAGGGTGT...   \n",
       "204     gcggagggggaggtgtggggagcggaaggcCGCAGGAGCATCTTTG...   \n",
       "205     gcggagggggaggtgtggggagcggaaggcCGCAGGAGCATCTTTG...   \n",
       "321     CGGGGGCTGGGGGGCAAGGACACGGGGCCCTCCCCAGGCTCGCTGG...   \n",
       "333     GCCTCACAGGAGGCTATTGAGTGGGGAGGTAGGAGCCCCGACTCCG...   \n",
       "...                                                   ...   \n",
       "844166                        >chrUn_KI270467v1:3357-3508   \n",
       "844223  cacttgcggatactacaagaagactgtttcaaaccgctctctcaaa...   \n",
       "844224  tttcactcctgctctgtcaaaagacagtttcaactctgttagttga...   \n",
       "844381  TTTTTCACTTGAAAGGAAAGAGTATCTGCCATTGAAgattggatgt...   \n",
       "844426  gtttctgatgtccagcacccaccctgaagctatacgggtctccagc...   \n",
       "\n",
       "                                                 new_seqs  \\\n",
       "61      TACCCACCCAGTGACATGGGCCAGGGCTACGGGCAGCACAGGGTGT...   \n",
       "204     GCGGAGGGGGAGGTGTGGGGAGCGGAAGGCCGCAGGAGCATCTTTG...   \n",
       "205     GCGGAGGGGGAGGTGTGGGGAGCGGAAGGCCGCAGGAGCATCTTTG...   \n",
       "321     GGGGCGGGCCGGGCGGGGGGCCTCCCCCCCCCCCCGCCGCCCCCCC...   \n",
       "333     GCCTCACAGGAGGCTATTGAGTGGGGAGGTAGGAGCCCCGACTCCG...   \n",
       "...                                                   ...   \n",
       "844166  GGGGTACTTTTATATTTTATGTACAGTATACAATATGTATTTTGGC...   \n",
       "844223  CACTTGCGGATACTACAAGAAGACTGTTTCAAAACCGCTCTCTCAA...   \n",
       "844224  CACTTGCGGATACTACAAGAAGACTGTTTCAAAACCGCTCTCTCAA...   \n",
       "844381  AGGTAAAGAAAGAAAGAAGGAAAGAAGGAAGGAAGGAAAAAAAAGA...   \n",
       "844426  CATGTCACATGTATACATAGGTAATGAACCTGCACTTTGTGAACAT...   \n",
       "\n",
       "                                                  new_ref  \n",
       "61      TACCCACCCAGTGACATGGGCCAGGGCTCCGGGCAGCACAGGGTGT...  \n",
       "204     gcggagggggaggtgtggggagcggaaggcCGCAGGAGCATCTTTG...  \n",
       "205     gcggagggggaggtgtggggagcggaaggcCGCAGGAGCATCTTTG...  \n",
       "321     CGGGGGCTGGGGGGCAAGGACACGGGGCCCTCCCCAGGCTCGCTGG...  \n",
       "333     GCCTCACAGGAGGCTATTGAGTGGGGAGGTAGGAGCCCCGACTCCG...  \n",
       "...                                                   ...  \n",
       "844166                       >chrUn-_KI270467v1:3357-3508  \n",
       "844223  cacttgcggatactacaagaagactgtttc-aaaccgctctctcaa...  \n",
       "844224  tttcactcctgctctgtcaaaagacagttt-caactctgttagttg...  \n",
       "844381  TTTTTCACTTGAAAGGAAAGAGTATCTGCCATTGAAgattggatgt...  \n",
       "844426  gtttctgatgtccagcacccaccctgaagctatacgggtctccagc...  \n",
       "\n",
       "[7066 rows x 8 columns]"
      ]
     },
     "execution_count": 123,
     "metadata": {},
     "output_type": "execute_result"
    }
   ],
   "source": [
    "data[data[2].str.contains('I')]"
   ]
  },
  {
   "cell_type": "code",
   "execution_count": 124,
   "metadata": {},
   "outputs": [
    {
     "data": {
      "text/plain": [
       "'gcggagggggaggtgtggggagcggaaggcCGCAGGAGCATCTTTGCGGAGAAAGTACTTTGGCTGCGGCGGGCGCAGGGCGGGCCGGCTA------------GCCCCGCGCCCCACCTGTTCTGTGCGTCGCGCTCGCCCGGTT'"
      ]
     },
     "execution_count": 124,
     "metadata": {},
     "output_type": "execute_result"
    }
   ],
   "source": [
    "data.loc[204,'new_ref']"
   ]
  },
  {
   "cell_type": "code",
   "execution_count": 125,
   "metadata": {},
   "outputs": [],
   "source": [
    "import pickle"
   ]
  },
  {
   "cell_type": "code",
   "execution_count": 126,
   "metadata": {},
   "outputs": [],
   "source": [
    "\n",
    "ref_seqs = list(zip(data['new_ref'],data['new_seqs']))\n",
    "with open('patient_ctDNA_dashes.pickle', 'wb') as write_file:\n",
    "    pickle.dump(ref_seqs, write_file)"
   ]
  },
  {
   "cell_type": "code",
   "execution_count": null,
   "metadata": {},
   "outputs": [],
   "source": []
  }
 ],
 "metadata": {
  "kernelspec": {
   "display_name": "Python 3",
   "language": "python",
   "name": "python3"
  },
  "language_info": {
   "codemirror_mode": {
    "name": "ipython",
    "version": 3
   },
   "file_extension": ".py",
   "mimetype": "text/x-python",
   "name": "python",
   "nbconvert_exporter": "python",
   "pygments_lexer": "ipython3",
   "version": "3.7.6"
  }
 },
 "nbformat": 4,
 "nbformat_minor": 4
}
