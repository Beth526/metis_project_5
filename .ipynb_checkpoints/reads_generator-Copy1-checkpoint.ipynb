{
 "cells": [
  {
   "cell_type": "code",
   "execution_count": 15,
   "metadata": {},
   "outputs": [],
   "source": [
    "import os\n",
    "import random\n",
    "from collections import defaultdict\n",
    "import numpy as np\n",
    "import copy"
   ]
  },
  {
   "cell_type": "code",
   "execution_count": 76,
   "metadata": {},
   "outputs": [],
   "source": [
    "os.environ['PATH'] = '/opt/anaconda3/bin:/opt/anaconda3/condabin:/usr/local/bin:/usr/bin:/bin:/usr/sbin:/sbin'"
   ]
  },
  {
   "cell_type": "code",
   "execution_count": 77,
   "metadata": {},
   "outputs": [],
   "source": [
    "import pickle"
   ]
  },
  {
   "cell_type": "code",
   "execution_count": 78,
   "metadata": {},
   "outputs": [],
   "source": [
    "#load in dictionary of normal variation with allele freq > .001\n",
    "\n",
    "os.chdir('/Users/beth/Documents/SNV project/')\n",
    "with open('gnomad_dictionary_2.pickle','rb') as read_file:\n",
    "    normal_var_dict=pickle.load(read_file)\n"
   ]
  },
  {
   "cell_type": "code",
   "execution_count": 89,
   "metadata": {},
   "outputs": [],
   "source": [
    "#create the functions for base change, insertion, deletion\n",
    "def update_sequence(changes_list, seq, offset, start, chrom, current_organ, ref_seq):\n",
    "    \n",
    "    #if list doesn't contain any changes just return the same seq and offset\n",
    "    if len(changes_list) == 1 and changes_list[0] == \"skip\":\n",
    "        \n",
    "        return seq, ref_seq, offset\n",
    "            \n",
    "    \n",
    "    else:\n",
    "        #loop over changes list\n",
    "        for i in range(len(changes_list)):\n",
    "            \n",
    "            #do nothing if it is a skip\n",
    "            if changes_list[i] == \"skip\":\n",
    "                continue\n",
    "\n",
    "            #if it's a base change do this:\n",
    "            if changes_list[i][2] != \"-\" and \\\n",
    "            changes_list[i][4] != \"-\" and \\\n",
    "            changes_list[i][3] != \"-\" and \\\n",
    "            ((len(changes_list[i][2]) == len(changes_list[i][3]) and isinstance(changes_list[i][4],float)==True) or\\\n",
    "            (len(changes_list[i][2]) == len(changes_list[i][3])) and \\\n",
    "            (len(changes_list[i][2]) == len(str(changes_list[i][4])) and isinstance(changes_list[i][4],float) == False)) :\n",
    "                \n",
    "                #print('base changes')\n",
    "                if changes_list[i][2]!=changes_list[i][3]:\n",
    "                    new_base = changes_list[i][3]\n",
    "                else:\n",
    "                    new_base = changes_list[i][4]\n",
    "                ref_pos = int(changes_list[i][1]) -1\n",
    "                adjust = int(offset[ref_pos - start])\n",
    "\n",
    "                seq = seq[0:ref_pos + adjust - start] + new_base + seq[ref_pos + adjust - start + len(new_base) -1 + 1: ]\n",
    "\n",
    "                ref_seq = ref_seq\n",
    "                \n",
    "            #if it's an insertion do this:\n",
    "            elif changes_list[i][2] == \"-\" or ( len(changes_list[i][2]) < len(str(changes_list[i][4])) \\\n",
    "                                               and isinstance(changes_list[i][4],float) == False):\n",
    "                \n",
    "                #print('insertion')\n",
    "                if changes_list[i][2]!=changes_list[i][3]:\n",
    "                    new_base = changes_list[i][3]\n",
    "                else:\n",
    "                    new_base = changes_list[i][4]\n",
    "    \n",
    "                    \n",
    "                ref_pos = int(changes_list[i][1]) -1\n",
    "                adjust = int(offset[ref_pos - start])\n",
    "                \n",
    "                if changes_list[i][2] == \"-\":\n",
    "                    expected_base = \"\"\n",
    "                    genie_fix=0\n",
    "                else:\n",
    "                    expected_base = changes_list[i][2]\n",
    "                    genie_fix = 1\n",
    "\n",
    "                seq = seq[0:ref_pos + adjust - start +1 - genie_fix] + new_base + seq[ref_pos + adjust - start +1 : 100-len(new_base) +genie_fix]\n",
    "\n",
    "                if len(seq) > 100:\n",
    "                    seq = seq[:100]\n",
    "                    \n",
    "                ref_seq = ref_seq[0:ref_pos + adjust - start +1 - genie_fix] + \"-\" * (len(new_base)-len(expected_base)) + ref_seq[ref_pos + adjust - start +1 : 100-len(new_base) +genie_fix]\n",
    "                \n",
    "                offset= np.add(offset,  np.concatenate((np.zeros(ref_pos-start+1-genie_fix),np.repeat(len(new_base)-len(expected_base), start+100-ref_pos-1+genie_fix))))\n",
    "            \n",
    "                \n",
    "                \n",
    "            #if it's a deletion do this:\n",
    "            elif changes_list[i][4]==\"-\" or changes_list[i][3]==\"-\" or \\\n",
    "            (len(str(changes_list[i][4])) < len(changes_list[i][2]) and \\\n",
    "             isinstance(changes_list[i][4],float) == False) :\n",
    "                #print('deletion')\n",
    "                \n",
    "                if changes_list[i][4] != \"-\" and changes_list[i][3] != \"-\":\n",
    "                    new_base = changes_list[i][4]\n",
    "                    len_del = len(str(changes_list[i][2])) - len(str(changes_list[i][4]))\n",
    "                    genie_fix = 1\n",
    "                else:\n",
    "                    new_base = \"\"\n",
    "                    len_del = len(str(changes_list[i][2]))\n",
    "                    genie_fix = 0\n",
    "                \n",
    "                ref_pos = int(changes_list[i][1]) -1\n",
    "                adjust = int(offset[ref_pos - start])\n",
    "                expected_base = changes_list[i][2]\n",
    "                \n",
    "\n",
    "                seq = seq[0:ref_pos + adjust - start] + new_base + \"-\" * len_del + seq[ref_pos + adjust -start + len(expected_base) : 100] \n",
    "                \n",
    "\n",
    "                ref_seq = ref_seq\n",
    "\n",
    "\n",
    "                \n",
    "                \n",
    "        return seq, ref_seq, offset\n",
    "            "
   ]
  },
  {
   "cell_type": "code",
   "execution_count": 81,
   "metadata": {},
   "outputs": [],
   "source": [
    "#get the samples list from the TCGA MAF file - here liver cancer\n",
    "os.chdir(\"/Users/beth/Desktop/MetisProject5data_2\")\n",
    "TCGA_file_liver = \"TCGA.LIHC.mutect.a630f0a0-39b3-4aab-8181-89c1dde8d3e2.DR-10.0.somatic.maf\"\n",
    "\n",
    "samples_liver = !tail -n +7 $TCGA_file_liver | cut -f16 | sort | uniq"
   ]
  },
  {
   "cell_type": "code",
   "execution_count": 90,
   "metadata": {},
   "outputs": [
    {
     "data": {
      "text/plain": [
       "'/Users/beth/Desktop/MetisProject5data_2'"
      ]
     },
     "execution_count": 90,
     "metadata": {},
     "output_type": "execute_result"
    }
   ],
   "source": [
    "os.getcwd()"
   ]
  },
  {
   "cell_type": "code",
   "execution_count": 91,
   "metadata": {},
   "outputs": [],
   "source": [
    "generate_sequences(TCGA_file_liver,samples_liver,'liver',normal_var_dict)"
   ]
  },
  {
   "cell_type": "code",
   "execution_count": 92,
   "metadata": {},
   "outputs": [],
   "source": [
    "TCGA_file_bladder = \"TCGA.BLCA.mutect.0e239d8f-47b0-4e47-9716-e9ecc87605b9.DR-10.0.somatic.maf\"\n",
    "samples_bladder = !tail -n +7 $TCGA_file_bladder | cut -f16 | sort | uniq\n",
    "\n",
    "generate_sequences(TCGA_file_bladder,samples_bladder,'bladder',normal_var_dict)"
   ]
  },
  {
   "cell_type": "code",
   "execution_count": 93,
   "metadata": {},
   "outputs": [],
   "source": [
    "TCGA_file_breast = \"TCGA.BRCA.mutect.995c0111-d90b-4140-bee7-3845436c3b42.DR-10.0.somatic.maf\"\n",
    "samples_breast = !tail -n +7 $TCGA_file_breast | cut -f16 | sort | uniq\n",
    "\n",
    "generate_sequences(TCGA_file_breast,samples_breast,'breast',normal_var_dict)"
   ]
  },
  {
   "cell_type": "code",
   "execution_count": 94,
   "metadata": {},
   "outputs": [],
   "source": [
    "TCGA_file_colorectal = \"TCGA.COAD.mutect.03652df4-6090-4f5a-a2ff-ee28a37f9301.DR-10.0.somatic.maf\"\n",
    "samples_colorectal = !tail -n +7 $TCGA_file_colorectal | cut -f16 | sort | uniq\n",
    "\n",
    "generate_sequences(TCGA_file_colorectal,samples_colorectal,'colorectal',normal_var_dict)"
   ]
  },
  {
   "cell_type": "code",
   "execution_count": 95,
   "metadata": {},
   "outputs": [],
   "source": [
    "TCGA_file_glioma = \"TCGA.LGG.mutect.1e0694ca-fcde-41d3-9ae3-47cfaf527f25.DR-10.0.somatic.maf\"\n",
    "samples_glioma = !tail -n +7 $TCGA_file_glioma | cut -f16 | sort | uniq\n",
    "\n",
    "generate_sequences(TCGA_file_glioma,samples_glioma,'glioma',normal_var_dict)"
   ]
  },
  {
   "cell_type": "code",
   "execution_count": 96,
   "metadata": {},
   "outputs": [],
   "source": [
    "TCGA_file_glioblastoma = \"TCGA.GBM.mutect.da904cd3-79d7-4ae3-b6c0-e7127998b3e6.DR-10.0.somatic.maf\"\n",
    "samples_glioblastoma = !tail -n +7 $TCGA_file_glioblastoma | cut -f16 | sort | uniq\n",
    "\n",
    "generate_sequences(TCGA_file_glioblastoma,samples_glioblastoma,'glioblastoma',normal_var_dict)"
   ]
  },
  {
   "cell_type": "code",
   "execution_count": 97,
   "metadata": {},
   "outputs": [],
   "source": [
    "TCGA_file_renal = \"TCGA.KIRC.mutect.2a8f2c83-8b5e-4987-8dbf-01f7ee24dc26.DR-10.0.somatic.maf\"\n",
    "samples_renal = !tail -n +7 $TCGA_file_renal | cut -f16 | sort | uniq\n",
    "\n",
    "generate_sequences(TCGA_file_renal,samples_renal,'renal',normal_var_dict)"
   ]
  },
  {
   "cell_type": "code",
   "execution_count": 98,
   "metadata": {},
   "outputs": [],
   "source": [
    "TCGA_file_lung = \"TCGA.LUAD.mutect.0458c57f-316c-4a7c-9294-ccd11c97c2f9.DR-10.0.somatic.maf\"\n",
    "samples_lung = !tail -n +7 $TCGA_file_lung | cut -f16 | sort | uniq\n",
    "\n",
    "generate_sequences(TCGA_file_lung,samples_lung,'lung',normal_var_dict)"
   ]
  },
  {
   "cell_type": "code",
   "execution_count": 99,
   "metadata": {},
   "outputs": [],
   "source": [
    "TCGA_file_pancreatic = \"TCGA.PAAD.mutect.fea333b5-78e0-43c8-bf76-4c78dd3fac92.DR-10.0.somatic.maf\"\n",
    "samples_pancreatic = !tail -n +7 $TCGA_file_pancreatic | cut -f16 | sort | uniq\n",
    "\n",
    "generate_sequences(TCGA_file_pancreatic,samples_pancreatic,'pancreatic',normal_var_dict)"
   ]
  },
  {
   "cell_type": "code",
   "execution_count": 100,
   "metadata": {},
   "outputs": [],
   "source": [
    "TCGA_file_prostate = \"TCGA.PRAD.mutect.deca36be-bf05-441a-b2e4-394228f23fbe.DR-10.0.somatic.maf\"\n",
    "samples_prostate = !tail -n +7 $TCGA_file_prostate | cut -f16 | sort | uniq\n",
    "\n",
    "generate_sequences(TCGA_file_prostate,samples_prostate,'prostate',normal_var_dict)"
   ]
  },
  {
   "cell_type": "code",
   "execution_count": 101,
   "metadata": {},
   "outputs": [],
   "source": [
    "TCGA_file_skin = \"TCGA.SKCM.mutect.4b7a5729-b83e-4837-9b61-a6002dce1c0a.DR-10.0.somatic.maf\"\n",
    "samples_skin = !tail -n +7 $TCGA_file_skin | cut -f16 | sort | uniq\n",
    "\n",
    "generate_sequences(TCGA_file_skin,samples_skin,'skin',normal_var_dict)"
   ]
  },
  {
   "cell_type": "code",
   "execution_count": 102,
   "metadata": {},
   "outputs": [],
   "source": [
    "TCGA_file_stomach = \"TCGA.STAD.mutect.c06465a3-50e7-46f7-b2dd-7bd654ca206b.DR-10.0.somatic.maf\"\n",
    "samples_stomach = !tail -n +7 $TCGA_file_stomach | cut -f16 | sort | uniq\n",
    "\n",
    "generate_sequences(TCGA_file_stomach,samples_stomach,'stomach',normal_var_dict)"
   ]
  },
  {
   "cell_type": "code",
   "execution_count": 103,
   "metadata": {},
   "outputs": [],
   "source": [
    "TCGA_file_uterine = \"TCGA.UCEC.mutect.d3fa70be-520a-420e-bb6d-651aeee5cb50.DR-10.0.somatic.maf\"\n",
    "samples_uterine = !tail -n +7 $TCGA_file_uterine | cut -f16 | sort | uniq\n",
    "\n",
    "generate_sequences(TCGA_file_uterine,samples_uterine,'uterine',normal_var_dict)"
   ]
  },
  {
   "cell_type": "code",
   "execution_count": 72,
   "metadata": {},
   "outputs": [],
   "source": [
    "def generate_sequences(TCGA_file,samples,current_organ,normal_var_dict):\n",
    "    #looping over each sample\n",
    "    for i in range(95,len(samples)):\n",
    "        current_sample = samples[i]\n",
    "        sample_mutations = !grep $current_sample $TCGA_file | tail -n +2 | cut -f5,6,11,12,13\n",
    "        sample_mutations = list(map(lambda x: tuple(x.split('\\t')), sample_mutations))\n",
    "        sample_mutations_dict = defaultdict(list)\n",
    "\n",
    "        #creating sample_mutations_dict\n",
    "        for i in range(len(sample_mutations)):\n",
    "            sample_mutations_dict[sample_mutations[i][0]].append([int(sample_mutations[i][1]), sample_mutations[i][2], sample_mutations[i][3], sample_mutations[i][4]])\n",
    "\n",
    "        window_starts=[]\n",
    "        skip_list=[]\n",
    "        #looping over each mutation in sample_mutations list of tuples \n",
    "        for i in range(len(sample_mutations)):\n",
    "            current_location = sample_mutations[i]\n",
    "\n",
    "            #to get windows of 100bp around it (note: hg38 is one position behind both MAF and VCF)\n",
    "            len_mutation = max(len(current_location[2]),len(current_location[4]))\n",
    "            if len_mutation > 45:\n",
    "                skip_list.append(current_location)\n",
    "                window_starts.append('skip')\n",
    "                continue\n",
    "            for j in range(1):\n",
    "                window = range(int(current_location[1])-100+len_mutation,int(current_location[1])-len_mutation)\n",
    "                start = random.choice(list(window))\n",
    "                end = start + 100\n",
    "                chrom = current_location[0]\n",
    "                window_starts.append(start)\n",
    "                with open(\"sample_locations_{}.tmp\".format(current_organ), \"a\") as file:\n",
    "                    file.write(chrom + \"\\t\" + str(start) + \"\\t\" + str(end) + \"\\n\")\n",
    "        \n",
    "        locations = \"sample_locations_{}.tmp\".format(current_organ)\n",
    "        #getting the hg38 sequences for the windows     \n",
    "        #lock.acquire()\n",
    "        ref_seqs = !bedtools getfasta -fi /Volumes/BethMac/hg38/hg38.fa -bed $locations\n",
    "        #lock.release()\n",
    "\n",
    "        #loop once for each window\n",
    "        for i in range(1,len(ref_seqs),2):\n",
    "            #getting the seq\n",
    "            current_location=sample_mutations[i//2]\n",
    "            if current_location in skip_list:\n",
    "                continue\n",
    "            ref_seq= ref_seqs[i]\n",
    "            chrom = current_location[0]\n",
    "            seq=copy.copy(ref_seq)\n",
    "            start=window_starts[i//2]\n",
    "\n",
    "            #getting a list of tuples for each mutation within the window\n",
    "            nearby_mutations=[current_location]\n",
    "            for i in range(len(sample_mutations_dict[chrom])):\n",
    "                x = int(sample_mutations_dict[chrom][i][0])\n",
    "                if x > int(start) and x < (int(start) + 100) and x != int(current_location[1]):\n",
    "                    nearby_mutations.append(sample_mutations_dict[chrom][i])\n",
    "\n",
    "            #add chrom names to mutation lists\n",
    "            for i in range(1,len(nearby_mutations)):\n",
    "                nearby_mutations[i] = [chrom]+nearby_mutations[i]\n",
    "\n",
    "            #getting a list of tuples for possible normal variation within the window\n",
    "            nearby_variation=[]\n",
    "            for i in range(len(normal_var_dict[chrom])):\n",
    "                x = int(normal_var_dict[chrom][i][0])\n",
    "                if x > start and x < (start + 100):\n",
    "                    nearby_variation.append(normal_var_dict[chrom][i])\n",
    "\n",
    "            #add chrom names to normal variation lists\n",
    "            for i in range(len(nearby_variation)):\n",
    "                nearby_variation[i] = [chrom]+nearby_variation[i]\n",
    "\n",
    "            #selecting which normal variation to include for the window\n",
    "            nearby_variation_random=[] \n",
    "            for i in range(len(nearby_variation)):\n",
    "                freq = nearby_variation[i][4]\n",
    "                if freq > 0.5:\n",
    "                    included = random.choices([nearby_variation[i], \"skip\"], weights=[freq, 1-freq], k=1)\n",
    "                else:\n",
    "                    included = random.choices([nearby_variation[i], \"skip\"], weights=[0.5, 0.5], k=1)\n",
    "                nearby_variation_random.append(included[0])\n",
    "\n",
    "            #make changes and append sequence to files\n",
    "\n",
    "            #the offset keeps track of effects of indels\n",
    "            offset=np.zeros(100).astype(int)\n",
    "\n",
    "            #add in the nearby normal variation\n",
    "            for i in range(len(nearby_variation_random)):\n",
    "                seq, ref_seq, offset = update_sequence(nearby_variation_random, seq, offset, start, chrom, current_organ, ref_seq)\n",
    "\n",
    "            #if a big insertion leads to other variation outside the 100bp window those will \n",
    "            #append to the end and can be removed\n",
    "            if len(seq)>100:\n",
    "                seq=seq[:100]\n",
    "\n",
    "            with open('{}_normal.csv'.format(current_organ), 'a') as file:\n",
    "                file.write(current_sample + \",\" + seq + \",\" + ref_seq + \"\\n\")\n",
    "\n",
    "            #add in the mutations on top of normal variation\n",
    "            for i in range(len(nearby_mutations)):\n",
    "                seq, ref_seq, offset = update_sequence(nearby_mutations, seq, offset, start, chrom, current_organ, ref_seq)\n",
    "\n",
    "            #if big insertion made a mutation was outside of the 100bp window it will have\n",
    "            #appeneded to the end. So there may be no mutation in the 100bp window and it should\n",
    "            #be discarded if over 100bp\n",
    "            if len(seq)==100:\n",
    "                with open('{}_tumor.csv'.format(current_organ), 'a') as file:\n",
    "                    file.write(current_sample + \",\" + seq + \",\" + ref_seq + \"\\n\")\n",
    "        \n",
    "        #clear the sample locations file\n",
    "        \n",
    "        !rm $locations\n",
    "\n",
    "\n",
    "\n"
   ]
  },
  {
   "cell_type": "code",
   "execution_count": 19,
   "metadata": {},
   "outputs": [],
   "source": [
    "import re"
   ]
  },
  {
   "cell_type": "code",
   "execution_count": 24,
   "metadata": {},
   "outputs": [],
   "source": [
    "def generate_sequences_genie(genie_file,samples,normal_var_dict):\n",
    "    #looping over each sample\n",
    "    for i in range(len(samples)):\n",
    "        current_sample = samples[i][0]\n",
    "        current_organ = samples[i][1]\n",
    "        if \"/\" in current_organ:\n",
    "            current_organ = re.search(\"^([A-Z]*)/\", current_organ)[1]\n",
    "        #sample_mutations = !grep $current_sample $TCGA_file | tail -n +2 | cut -f5,6,11,12,13\n",
    "        sample_mutations = !grep $current_sample $genie_file | cut -f2,3,4,5,6 -d \",\"\n",
    "        #sample_mutations = list(map(lambda x: tuple(x.split('\\t')), sample_mutations))\n",
    "        sample_mutations = list(map(lambda x: tuple(x.split(',')), sample_mutations))\n",
    "        sample_mutations_dict = defaultdict(list)\n",
    "\n",
    "        #creating sample_mutations_dict\n",
    "        for i in range(len(sample_mutations)):\n",
    "            sample_mutations_dict[sample_mutations[i][0]].append([int(sample_mutations[i][1]), sample_mutations[i][2], sample_mutations[i][3], sample_mutations[i][4]])\n",
    "\n",
    "        window_starts=[]\n",
    "        skip_list=[]\n",
    "        #looping over each mutation in sample_mutations list of tuples \n",
    "        for i in range(len(sample_mutations)):\n",
    "            current_location = sample_mutations[i]\n",
    "\n",
    "            #to get windows of 100bp around it (note: hg38 is one position behind both MAF and VCF)\n",
    "            len_mutation = max(len(current_location[2]),len(current_location[4]))\n",
    "            if len_mutation > 45:\n",
    "                skip_list.append(current_location)\n",
    "                window_starts.append('skip')\n",
    "                continue\n",
    "            for j in range(1):\n",
    "                window = range(int(current_location[1])-100+len_mutation,int(current_location[1])-len_mutation)\n",
    "                start = random.choice(list(window))\n",
    "                end = start + 100\n",
    "                chrom = current_location[0]\n",
    "                window_starts.append(start)\n",
    "                with open(\"sample_locations_{}.tmp\".format(current_organ), \"a\") as file:\n",
    "                    file.write(chrom + \"\\t\" + str(start) + \"\\t\" + str(end) + \"\\n\")\n",
    "        \n",
    "        locations = \"sample_locations_{}.tmp\".format(current_organ)\n",
    "        #getting the hg38 sequences for the windows     \n",
    "        #lock.acquire()\n",
    "        ref_seqs = !bedtools getfasta -fi /Volumes/BethMac/hg38/hg38.fa -bed $locations\n",
    "        #lock.release()\n",
    "\n",
    "        #loop once for each window\n",
    "        for i in range(1,len(ref_seqs),2):\n",
    "            #getting the seq\n",
    "            current_location=sample_mutations[i//2]\n",
    "            if current_location in skip_list:\n",
    "                continue\n",
    "            ref_seq= ref_seqs[i]\n",
    "            chrom = current_location[0]\n",
    "            seq=copy.copy(ref_seq)\n",
    "            start=window_starts[i//2]\n",
    "\n",
    "            #getting a list of tuples for each mutation within the window\n",
    "            nearby_mutations=[current_location]\n",
    "            for i in range(len(sample_mutations_dict[chrom])):\n",
    "                x = int(sample_mutations_dict[chrom][i][0])\n",
    "                if x > int(start) and x < (int(start) + 100) and x != int(current_location[1]):\n",
    "                    nearby_mutations.append(sample_mutations_dict[chrom][i])\n",
    "\n",
    "            #add chrom names to mutation lists\n",
    "            for i in range(1,len(nearby_mutations)):\n",
    "                nearby_mutations[i] = [chrom]+nearby_mutations[i]\n",
    "\n",
    "            #getting a list of tuples for possible normal variation within the window\n",
    "            nearby_variation=[]\n",
    "            for i in range(len(normal_var_dict[chrom])):\n",
    "                x = int(normal_var_dict[chrom][i][0])\n",
    "                if x > start and x < (start + 100):\n",
    "                    nearby_variation.append(normal_var_dict[chrom][i])\n",
    "\n",
    "            #add chrom names to normal variation lists\n",
    "            for i in range(len(nearby_variation)):\n",
    "                nearby_variation[i] = [chrom]+nearby_variation[i]\n",
    "\n",
    "            #selecting which normal variation to include for the window\n",
    "            nearby_variation_random=[] \n",
    "            for i in range(len(nearby_variation)):\n",
    "                freq = nearby_variation[i][4]\n",
    "                if freq > 0.5:\n",
    "                    included = random.choices([nearby_variation[i], \"skip\"], weights=[freq, 1-freq], k=1)\n",
    "                else:\n",
    "                    included = random.choices([nearby_variation[i], \"skip\"], weights=[0.5, 0.5], k=1)\n",
    "                nearby_variation_random.append(included[0])\n",
    "\n",
    "            #make changes and append sequence to files\n",
    "\n",
    "            #the offset keeps track of effects of indels\n",
    "            offset=np.zeros(100).astype(int)\n",
    "\n",
    "            #add in the nearby normal variation\n",
    "            for i in range(len(nearby_variation_random)):\n",
    "                seq, offset = update_sequence(nearby_variation_random, seq, offset, start, chrom, current_organ)\n",
    "\n",
    "            #if a big insertion leads to other variation outside the 100bp window those will \n",
    "            #append to the end and can be removed\n",
    "            if len(seq)>100:\n",
    "                seq=seq[:100]\n",
    "\n",
    "            with open('{}_normal.csv'.format(current_organ), 'a') as file:\n",
    "                file.write(current_sample + \",\" + seq + \",\" + ref_seq + \"\\n\")\n",
    "\n",
    "            #add in the mutations on top of normal variation\n",
    "            for i in range(len(nearby_mutations)):\n",
    "                seq, offset = update_sequence(nearby_mutations, seq, offset, start, chrom, current_organ)\n",
    "\n",
    "            #if big insertion made a mutation was outside of the 100bp window it will have\n",
    "            #appeneded to the end. So there may be no mutation in the 100bp window and it should\n",
    "            #be discarded if over 100bp\n",
    "            if len(seq)==100:\n",
    "                with open('{}_tumor.csv'.format(current_organ), 'a') as file:\n",
    "                    file.write(current_sample + \",\" + seq + \",\" + ref_seq + \"\\n\")\n",
    "        \n",
    "        #clear the sample locations file\n",
    "        \n",
    "        !rm $locations\n",
    "\n",
    "\n"
   ]
  },
  {
   "cell_type": "code",
   "execution_count": 11,
   "metadata": {},
   "outputs": [],
   "source": [
    "import numpy as np"
   ]
  },
  {
   "cell_type": "markdown",
   "metadata": {},
   "source": [
    "test zone"
   ]
  },
  {
   "cell_type": "code",
   "execution_count": 49,
   "metadata": {},
   "outputs": [],
   "source": [
    "changes_list=[['chr1', 151198956, '-', '-', 'x']]"
   ]
  },
  {
   "cell_type": "code",
   "execution_count": 50,
   "metadata": {},
   "outputs": [
    {
     "data": {
      "text/plain": [
       "['chr1', 151198956, '-', '-', 'x']"
      ]
     },
     "execution_count": 50,
     "metadata": {},
     "output_type": "execute_result"
    }
   ],
   "source": [
    "changes_list[0]"
   ]
  },
  {
   "cell_type": "code",
   "execution_count": 63,
   "metadata": {},
   "outputs": [],
   "source": [
    "chrom = changes_list[0][0]\n",
    "start = changes_list[0][1] - 10\n",
    "end = start + 100"
   ]
  },
  {
   "cell_type": "code",
   "execution_count": 64,
   "metadata": {},
   "outputs": [],
   "source": [
    "import os\n",
    "os.chdir('/Users/beth/Desktop/MetisProject5data_2/')"
   ]
  },
  {
   "cell_type": "code",
   "execution_count": 65,
   "metadata": {},
   "outputs": [],
   "source": [
    "!rm temp_location.bed"
   ]
  },
  {
   "cell_type": "code",
   "execution_count": 66,
   "metadata": {},
   "outputs": [],
   "source": [
    "with open('temp_location.bed', 'w') as file:\n",
    "    file.write(chrom + \"\\t\" + str(start) + \"\\t\" + str(end))\n",
    "additional_sequence = !bedtools getfasta -fi /Volumes/BethMac/hg38/hg38.fa -bed temp_location.bed"
   ]
  },
  {
   "cell_type": "code",
   "execution_count": 67,
   "metadata": {},
   "outputs": [],
   "source": [
    "seq = additional_sequence[1]"
   ]
  },
  {
   "cell_type": "code",
   "execution_count": 68,
   "metadata": {},
   "outputs": [
    {
     "data": {
      "text/plain": [
       "'GAACCGGATTGAAAGAGAGCCAGGCCGCTGAGGGGGAGGGGGCTGCTAAGATGGCGTCGGCCTCCTCCGGGCCGTCGTCTTCGGTCGGTTTTTCATCCTT'"
      ]
     },
     "execution_count": 68,
     "metadata": {},
     "output_type": "execute_result"
    }
   ],
   "source": [
    "seq"
   ]
  },
  {
   "cell_type": "code",
   "execution_count": 69,
   "metadata": {},
   "outputs": [],
   "source": [
    "ref_seq = copy.copy(seq)"
   ]
  },
  {
   "cell_type": "code",
   "execution_count": 70,
   "metadata": {},
   "outputs": [],
   "source": [
    "offset=np.zeros(100).astype(int)"
   ]
  },
  {
   "cell_type": "code",
   "execution_count": 71,
   "metadata": {},
   "outputs": [
    {
     "name": "stdout",
     "output_type": "stream",
     "text": [
      "insertion\n",
      "GAACCGGATTxGAAAGAGAGCCAGGCCGCTGAGGGGGAGGGGGCTGCTAAGATGGCGTCGGCCTCCTCCGGGCCGTCGTCTTCGGTCGGTTTTTCATCCT\n",
      "GAACCGGATT-GAAAGAGAGCCAGGCCGCTGAGGGGGAGGGGGCTGCTAAGATGGCGTCGGCCTCCTCCGGGCCGTCGTCTTCGGTCGGTTTTTCATCCT\n",
      "151198955\n",
      "151198946\n",
      "0\n",
      "1\n",
      "0\n"
     ]
    },
    {
     "data": {
      "text/plain": [
       "('GAACCGGATTxGAAAGAGAGCCAGGCCGCTGAGGGGGAGGGGGCTGCTAAGATGGCGTCGGCCTCCTCCGGGCCGTCGTCTTCGGTCGGTTTTTCATCCT',\n",
       " array([0., 0., 0., 0., 0., 0., 0., 0., 0., 0., 1., 1., 1., 1., 1., 1., 1.,\n",
       "        1., 1., 1., 1., 1., 1., 1., 1., 1., 1., 1., 1., 1., 1., 1., 1., 1.,\n",
       "        1., 1., 1., 1., 1., 1., 1., 1., 1., 1., 1., 1., 1., 1., 1., 1., 1.,\n",
       "        1., 1., 1., 1., 1., 1., 1., 1., 1., 1., 1., 1., 1., 1., 1., 1., 1.,\n",
       "        1., 1., 1., 1., 1., 1., 1., 1., 1., 1., 1., 1., 1., 1., 1., 1., 1.,\n",
       "        1., 1., 1., 1., 1., 1., 1., 1., 1., 1., 1., 1., 1., 1., 1.]))"
      ]
     },
     "execution_count": 71,
     "metadata": {},
     "output_type": "execute_result"
    }
   ],
   "source": [
    "update_sequence(changes_list, seq, offset, start, chrom, 'test', ref_seq)"
   ]
  },
  {
   "cell_type": "code",
   "execution_count": null,
   "metadata": {},
   "outputs": [],
   "source": []
  }
 ],
 "metadata": {
  "kernelspec": {
   "display_name": "bioinformatics",
   "language": "python",
   "name": "bioinformatics"
  },
  "language_info": {
   "codemirror_mode": {
    "name": "ipython",
    "version": 3
   },
   "file_extension": ".py",
   "mimetype": "text/x-python",
   "name": "python",
   "nbconvert_exporter": "python",
   "pygments_lexer": "ipython3",
   "version": "3.7.6"
  }
 },
 "nbformat": 4,
 "nbformat_minor": 4
}
