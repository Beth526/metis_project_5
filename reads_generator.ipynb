{
 "cells": [
  {
   "cell_type": "code",
   "execution_count": 1,
   "metadata": {},
   "outputs": [],
   "source": [
    "import os\n",
    "import random\n",
    "from collections import defaultdict\n",
    "import numpy as np\n",
    "import copy\n",
    "import multiprocessing"
   ]
  },
  {
   "cell_type": "code",
   "execution_count": 2,
   "metadata": {},
   "outputs": [],
   "source": [
    "os.environ['PATH'] = '/opt/anaconda3/bin:/opt/anaconda3/condabin:/usr/local/bin:/usr/bin:/bin:/usr/sbin:/sbin'"
   ]
  },
  {
   "cell_type": "code",
   "execution_count": 3,
   "metadata": {},
   "outputs": [],
   "source": [
    "import pickle"
   ]
  },
  {
   "cell_type": "code",
   "execution_count": 4,
   "metadata": {},
   "outputs": [],
   "source": [
    "#load in dictionary of normal variation with allele freq > .001\n",
    "\n",
    "os.chdir('/Users/beth/Documents/SNV project/')\n",
    "with open('gnomad_dictionary_2.pickle','rb') as read_file:\n",
    "    normal_var_dict=pickle.load(read_file)\n"
   ]
  },
  {
   "cell_type": "code",
   "execution_count": 5,
   "metadata": {},
   "outputs": [],
   "source": [
    "#create the functions for base change, insertion, deletion\n",
    "def update_sequence(changes_list, seq, offset, start, chrom, current_organ):\n",
    "    \n",
    "    #if list doesn't contain any changes just return the same seq and offset\n",
    "    if len(changes_list) == 1 and changes_list[0] == \"skip\":\n",
    "        return seq, offset\n",
    "            \n",
    "    \n",
    "    else:\n",
    "        #loop over changes list\n",
    "        for i in range(len(changes_list)):\n",
    "            \n",
    "            #do nothing if it is a skip\n",
    "            if changes_list[i] == \"skip\":\n",
    "                continue\n",
    "\n",
    "            #if it's a base change do this:\n",
    "            if changes_list[i][2] != \"-\" and \\\n",
    "            changes_list[i][4] != \"-\" and \\\n",
    "            changes_list[i][3] != \"-\" and \\\n",
    "            ((len(changes_list[i][2]) == len(changes_list[i][3]) and isinstance(changes_list[i][4],float)==True) or\\\n",
    "            (len(changes_list[i][2]) == len(changes_list[i][3])) and \\\n",
    "            (len(changes_list[i][2]) == len(str(changes_list[i][4])) and isinstance(changes_list[i][4],float) == False)) :\n",
    "                \n",
    "                #print('base changes')\n",
    "                if changes_list[i][2]!=changes_list[i][3]:\n",
    "                    new_base = changes_list[i][3]\n",
    "                else:\n",
    "                    new_base = changes_list[i][4]\n",
    "                ref_pos = int(changes_list[i][1]) -1\n",
    "                adjust = int(offset[ref_pos - start])\n",
    "\n",
    "                seq = seq[0:ref_pos + adjust - start] + new_base + seq[ref_pos + adjust - start + len(new_base) -1 + 1: ]\n",
    "\n",
    "            #if it's an insertion do this:\n",
    "            elif changes_list[i][2] == \"-\" or ( len(changes_list[i][2]) < len(str(changes_list[i][4])) \\\n",
    "                                               and isinstance(changes_list[i][4],float) == False):\n",
    "                \n",
    "                #print('insertion')\n",
    "                if changes_list[i][2]!=changes_list[i][3]:\n",
    "                    new_base = changes_list[i][3]\n",
    "                else:\n",
    "                    new_base = changes_list[i][4]\n",
    "    \n",
    "                    \n",
    "                ref_pos = int(changes_list[i][1]) -1\n",
    "                adjust = int(offset[ref_pos - start])\n",
    "                \n",
    "                if changes_list[i][2] == \"-\":\n",
    "                    expected_base = \"\"\n",
    "                    genie_fix=0\n",
    "                else:\n",
    "                    expected_base = changes_list[i][2]\n",
    "                    genie_fix = 1\n",
    "\n",
    "                seq = seq[0:ref_pos + adjust - start +1 - genie_fix] + new_base + seq[ref_pos + adjust - start +1 : 100-len(new_base) +genie_fix]\n",
    "\n",
    "                if len(seq) > 100:\n",
    "                    seq = seq[:100]\n",
    "            \n",
    "                offset= np.add(offset,  np.concatenate((np.zeros(ref_pos-start+1-genie_fix),np.repeat(len(new_base)-len(expected_base), start+100-ref_pos-1+genie_fix))))\n",
    "                \n",
    "            #if it's a deletion do this:\n",
    "            elif changes_list[i][4]==\"-\" or changes_list[i][3]==\"-\" or \\\n",
    "            (len(str(changes_list[i][4])) < len(changes_list[i][2]) and \\\n",
    "             isinstance(changes_list[i][4],float) == False) :\n",
    "                #print('deletion')\n",
    "                \n",
    "                if changes_list[i][4] != \"-\" and changes_list[i][3] != \"-\":\n",
    "                    new_base = changes_list[i][4]\n",
    "                    genie_fix = 1\n",
    "                else:\n",
    "                    new_base = \"\"\n",
    "                    genie_fix = 0\n",
    "                \n",
    "                ref_pos = int(changes_list[i][1]) -1\n",
    "                adjust = int(offset[ref_pos - start])\n",
    "                expected_base = changes_list[i][2]\n",
    "                \n",
    "\n",
    "                seq = seq[0:ref_pos + adjust - start] + new_base + seq[ref_pos + adjust -start + len(expected_base) : 100] \n",
    "                \n",
    "                if len(seq) < 100:\n",
    "                    current_end = len(seq) + start - int(offset[len(seq)]) -1 \n",
    "                    \n",
    "                    with open('temp_location_{}.bed'.format(current_organ), 'w') as file:\n",
    "                        file.write(chrom + \"\\t\" + str(current_end) + \"\\t\" + str(current_end+len(expected_base)-len(new_base)))\n",
    "                    temp = 'temp_location_{}.bed'.format(current_organ)\n",
    "                    #lock.acquire()\n",
    "                    additional_sequence = !bedtools getfasta -fi /Volumes/BethMac/hg38/hg38.fa -bed $temp\n",
    "                    #lock.release()\n",
    "                    seq = seq + additional_sequence[1]\n",
    "                    !rm $temp\n",
    "\n",
    "                offset=np.add(offset, np.concatenate((np.zeros(ref_pos-start),np.repeat(-(len(expected_base)-len(new_base)), start+100-ref_pos))))\n",
    "\n",
    "                \n",
    "                \n",
    "        return seq, offset\n",
    "            "
   ]
  },
  {
   "cell_type": "code",
   "execution_count": 6,
   "metadata": {},
   "outputs": [],
   "source": [
    "#get the samples list from the TCGA MAF file - here liver cancer\n",
    "os.chdir(\"/Users/beth/Desktop/MetisProject5data\")\n",
    "TCGA_file_liver = \"TCGA.LIHC.mutect.a630f0a0-39b3-4aab-8181-89c1dde8d3e2.DR-10.0.somatic.maf\"\n",
    "\n",
    "samples_liver = !tail -n +7 $TCGA_file_liver | cut -f16 | sort | uniq\n",
    "\n"
   ]
  },
  {
   "cell_type": "code",
   "execution_count": 10,
   "metadata": {},
   "outputs": [],
   "source": [
    "def generate_sequences(TCGA_file,samples,current_organ,normal_var_dict):\n",
    "    #looping over each sample\n",
    "    for i in range(95,len(samples)):\n",
    "        current_sample = samples[i]\n",
    "        sample_mutations = !grep $current_sample $TCGA_file | tail -n +2 | cut -f5,6,11,12,13\n",
    "        sample_mutations = list(map(lambda x: tuple(x.split('\\t')), sample_mutations))\n",
    "        sample_mutations_dict = defaultdict(list)\n",
    "\n",
    "        #creating sample_mutations_dict\n",
    "        for i in range(len(sample_mutations)):\n",
    "            sample_mutations_dict[sample_mutations[i][0]].append([int(sample_mutations[i][1]), sample_mutations[i][2], sample_mutations[i][3], sample_mutations[i][4]])\n",
    "\n",
    "        window_starts=[]\n",
    "        skip_list=[]\n",
    "        #looping over each mutation in sample_mutations list of tuples \n",
    "        for i in range(len(sample_mutations)):\n",
    "            current_location = sample_mutations[i]\n",
    "\n",
    "            #to get windows of 100bp around it (note: hg38 is one position behind both MAF and VCF)\n",
    "            len_mutation = max(len(current_location[2]),len(current_location[4]))\n",
    "            if len_mutation > 45:\n",
    "                skip_list.append(current_location)\n",
    "                window_starts.append('skip')\n",
    "                continue\n",
    "            for j in range(1):\n",
    "                window = range(int(current_location[1])-100+len_mutation,int(current_location[1])-len_mutation)\n",
    "                start = random.choice(list(window))\n",
    "                end = start + 100\n",
    "                chrom = current_location[0]\n",
    "                window_starts.append(start)\n",
    "                with open(\"sample_locations_{}.tmp\".format(current_organ), \"a\") as file:\n",
    "                    file.write(chrom + \"\\t\" + str(start) + \"\\t\" + str(end) + \"\\n\")\n",
    "        \n",
    "        locations = \"sample_locations_{}.tmp\".format(current_organ)\n",
    "        #getting the hg38 sequences for the windows     \n",
    "        #lock.acquire()\n",
    "        ref_seqs = !bedtools getfasta -fi /Volumes/BethMac/hg38/hg38.fa -bed $locations\n",
    "        #lock.release()\n",
    "\n",
    "        #loop once for each window\n",
    "        for i in range(1,len(ref_seqs),2):\n",
    "            #getting the seq\n",
    "            current_location=sample_mutations[i//2]\n",
    "            if current_location in skip_list:\n",
    "                continue\n",
    "            ref_seq= ref_seqs[i]\n",
    "            chrom = current_location[0]\n",
    "            seq=copy.copy(ref_seq)\n",
    "            start=window_starts[i//2]\n",
    "\n",
    "            #getting a list of tuples for each mutation within the window\n",
    "            nearby_mutations=[current_location]\n",
    "            for i in range(len(sample_mutations_dict[chrom])):\n",
    "                x = int(sample_mutations_dict[chrom][i][0])\n",
    "                if x > int(start) and x < (int(start) + 100) and x != int(current_location[1]):\n",
    "                    nearby_mutations.append(sample_mutations_dict[chrom][i])\n",
    "\n",
    "            #add chrom names to mutation lists\n",
    "            for i in range(1,len(nearby_mutations)):\n",
    "                nearby_mutations[i] = [chrom]+nearby_mutations[i]\n",
    "\n",
    "            #getting a list of tuples for possible normal variation within the window\n",
    "            nearby_variation=[]\n",
    "            for i in range(len(normal_var_dict[chrom])):\n",
    "                x = int(normal_var_dict[chrom][i][0])\n",
    "                if x > start and x < (start + 100):\n",
    "                    nearby_variation.append(normal_var_dict[chrom][i])\n",
    "\n",
    "            #add chrom names to normal variation lists\n",
    "            for i in range(len(nearby_variation)):\n",
    "                nearby_variation[i] = [chrom]+nearby_variation[i]\n",
    "\n",
    "            #selecting which normal variation to include for the window\n",
    "            nearby_variation_random=[] \n",
    "            for i in range(len(nearby_variation)):\n",
    "                freq = nearby_variation[i][4]\n",
    "                if freq > 0.5:\n",
    "                    included = random.choices([nearby_variation[i], \"skip\"], weights=[freq, 1-freq], k=1)\n",
    "                else:\n",
    "                    included = random.choices([nearby_variation[i], \"skip\"], weights=[0.5, 0.5], k=1)\n",
    "                nearby_variation_random.append(included[0])\n",
    "\n",
    "            #make changes and append sequence to files\n",
    "\n",
    "            #the offset keeps track of effects of indels\n",
    "            offset=np.zeros(100).astype(int)\n",
    "\n",
    "            #add in the nearby normal variation\n",
    "            for i in range(len(nearby_variation_random)):\n",
    "                seq, offset = update_sequence(nearby_variation_random, seq, offset, start, chrom, current_organ)\n",
    "\n",
    "            #if a big insertion leads to other variation outside the 100bp window those will \n",
    "            #append to the end and can be removed\n",
    "            if len(seq)>100:\n",
    "                seq=seq[:100]\n",
    "\n",
    "            with open('{}_normal.csv'.format(current_organ), 'a') as file:\n",
    "                file.write(current_sample + \",\" + seq + \",\" + ref_seq + \"\\n\")\n",
    "\n",
    "            #add in the mutations on top of normal variation\n",
    "            for i in range(len(nearby_mutations)):\n",
    "                seq, offset = update_sequence(nearby_mutations, seq, offset, start, chrom, current_organ)\n",
    "\n",
    "            #if big insertion made a mutation was outside of the 100bp window it will have\n",
    "            #appeneded to the end. So there may be no mutation in the 100bp window and it should\n",
    "            #be discarded if over 100bp\n",
    "            if len(seq)==100:\n",
    "                with open('{}_tumor.csv'.format(current_organ), 'a') as file:\n",
    "                    file.write(current_sample + \",\" + seq + \",\" + ref_seq + \"\\n\")\n",
    "        \n",
    "        #clear the sample locations file\n",
    "        \n",
    "        !rm $locations\n",
    "\n",
    "\n",
    "\n"
   ]
  },
  {
   "cell_type": "code",
   "execution_count": 7,
   "metadata": {},
   "outputs": [],
   "source": [
    "os.chdir(\"/Users/beth/Desktop/MetisProject5data/GENIE\")"
   ]
  },
  {
   "cell_type": "code",
   "execution_count": 8,
   "metadata": {},
   "outputs": [],
   "source": [
    "#gene data requires a different function\n",
    "genie_file = \"genie_maf_processed.maf\""
   ]
  },
  {
   "cell_type": "code",
   "execution_count": 19,
   "metadata": {},
   "outputs": [],
   "source": [
    "import re"
   ]
  },
  {
   "cell_type": "code",
   "execution_count": 24,
   "metadata": {},
   "outputs": [],
   "source": [
    "def generate_sequences_genie(genie_file,samples,normal_var_dict):\n",
    "    #looping over each sample\n",
    "    for i in range(len(samples)):\n",
    "        current_sample = samples[i][0]\n",
    "        current_organ = samples[i][1]\n",
    "        if \"/\" in current_organ:\n",
    "            current_organ = re.search(\"^([A-Z]*)/\", current_organ)[1]\n",
    "        #sample_mutations = !grep $current_sample $TCGA_file | tail -n +2 | cut -f5,6,11,12,13\n",
    "        sample_mutations = !grep $current_sample $genie_file | cut -f2,3,4,5,6 -d \",\"\n",
    "        #sample_mutations = list(map(lambda x: tuple(x.split('\\t')), sample_mutations))\n",
    "        sample_mutations = list(map(lambda x: tuple(x.split(',')), sample_mutations))\n",
    "        sample_mutations_dict = defaultdict(list)\n",
    "\n",
    "        #creating sample_mutations_dict\n",
    "        for i in range(len(sample_mutations)):\n",
    "            sample_mutations_dict[sample_mutations[i][0]].append([int(sample_mutations[i][1]), sample_mutations[i][2], sample_mutations[i][3], sample_mutations[i][4]])\n",
    "\n",
    "        window_starts=[]\n",
    "        skip_list=[]\n",
    "        #looping over each mutation in sample_mutations list of tuples \n",
    "        for i in range(len(sample_mutations)):\n",
    "            current_location = sample_mutations[i]\n",
    "\n",
    "            #to get windows of 100bp around it (note: hg38 is one position behind both MAF and VCF)\n",
    "            len_mutation = max(len(current_location[2]),len(current_location[4]))\n",
    "            if len_mutation > 45:\n",
    "                skip_list.append(current_location)\n",
    "                window_starts.append('skip')\n",
    "                continue\n",
    "            for j in range(1):\n",
    "                window = range(int(current_location[1])-100+len_mutation,int(current_location[1])-len_mutation)\n",
    "                start = random.choice(list(window))\n",
    "                end = start + 100\n",
    "                chrom = current_location[0]\n",
    "                window_starts.append(start)\n",
    "                with open(\"sample_locations_{}.tmp\".format(current_organ), \"a\") as file:\n",
    "                    file.write(chrom + \"\\t\" + str(start) + \"\\t\" + str(end) + \"\\n\")\n",
    "        \n",
    "        locations = \"sample_locations_{}.tmp\".format(current_organ)\n",
    "        #getting the hg38 sequences for the windows     \n",
    "        #lock.acquire()\n",
    "        ref_seqs = !bedtools getfasta -fi /Volumes/BethMac/hg38/hg38.fa -bed $locations\n",
    "        #lock.release()\n",
    "\n",
    "        #loop once for each window\n",
    "        for i in range(1,len(ref_seqs),2):\n",
    "            #getting the seq\n",
    "            current_location=sample_mutations[i//2]\n",
    "            if current_location in skip_list:\n",
    "                continue\n",
    "            ref_seq= ref_seqs[i]\n",
    "            chrom = current_location[0]\n",
    "            seq=copy.copy(ref_seq)\n",
    "            start=window_starts[i//2]\n",
    "\n",
    "            #getting a list of tuples for each mutation within the window\n",
    "            nearby_mutations=[current_location]\n",
    "            for i in range(len(sample_mutations_dict[chrom])):\n",
    "                x = int(sample_mutations_dict[chrom][i][0])\n",
    "                if x > int(start) and x < (int(start) + 100) and x != int(current_location[1]):\n",
    "                    nearby_mutations.append(sample_mutations_dict[chrom][i])\n",
    "\n",
    "            #add chrom names to mutation lists\n",
    "            for i in range(1,len(nearby_mutations)):\n",
    "                nearby_mutations[i] = [chrom]+nearby_mutations[i]\n",
    "\n",
    "            #getting a list of tuples for possible normal variation within the window\n",
    "            nearby_variation=[]\n",
    "            for i in range(len(normal_var_dict[chrom])):\n",
    "                x = int(normal_var_dict[chrom][i][0])\n",
    "                if x > start and x < (start + 100):\n",
    "                    nearby_variation.append(normal_var_dict[chrom][i])\n",
    "\n",
    "            #add chrom names to normal variation lists\n",
    "            for i in range(len(nearby_variation)):\n",
    "                nearby_variation[i] = [chrom]+nearby_variation[i]\n",
    "\n",
    "            #selecting which normal variation to include for the window\n",
    "            nearby_variation_random=[] \n",
    "            for i in range(len(nearby_variation)):\n",
    "                freq = nearby_variation[i][4]\n",
    "                if freq > 0.5:\n",
    "                    included = random.choices([nearby_variation[i], \"skip\"], weights=[freq, 1-freq], k=1)\n",
    "                else:\n",
    "                    included = random.choices([nearby_variation[i], \"skip\"], weights=[0.5, 0.5], k=1)\n",
    "                nearby_variation_random.append(included[0])\n",
    "\n",
    "            #make changes and append sequence to files\n",
    "\n",
    "            #the offset keeps track of effects of indels\n",
    "            offset=np.zeros(100).astype(int)\n",
    "\n",
    "            #add in the nearby normal variation\n",
    "            for i in range(len(nearby_variation_random)):\n",
    "                seq, offset = update_sequence(nearby_variation_random, seq, offset, start, chrom, current_organ)\n",
    "\n",
    "            #if a big insertion leads to other variation outside the 100bp window those will \n",
    "            #append to the end and can be removed\n",
    "            if len(seq)>100:\n",
    "                seq=seq[:100]\n",
    "\n",
    "            with open('{}_normal.csv'.format(current_organ), 'a') as file:\n",
    "                file.write(current_sample + \",\" + seq + \",\" + ref_seq + \"\\n\")\n",
    "\n",
    "            #add in the mutations on top of normal variation\n",
    "            for i in range(len(nearby_mutations)):\n",
    "                seq, offset = update_sequence(nearby_mutations, seq, offset, start, chrom, current_organ)\n",
    "\n",
    "            #if big insertion made a mutation was outside of the 100bp window it will have\n",
    "            #appeneded to the end. So there may be no mutation in the 100bp window and it should\n",
    "            #be discarded if over 100bp\n",
    "            if len(seq)==100:\n",
    "                with open('{}_tumor.csv'.format(current_organ), 'a') as file:\n",
    "                    file.write(current_sample + \",\" + seq + \",\" + ref_seq + \"\\n\")\n",
    "        \n",
    "        #clear the sample locations file\n",
    "        \n",
    "        !rm $locations\n",
    "\n",
    "\n"
   ]
  },
  {
   "cell_type": "code",
   "execution_count": null,
   "metadata": {},
   "outputs": [],
   "source": []
  },
  {
   "cell_type": "markdown",
   "metadata": {},
   "source": [
    "test zone"
   ]
  },
  {
   "cell_type": "code",
   "execution_count": 728,
   "metadata": {},
   "outputs": [
    {
     "data": {
      "text/plain": [
       "\"('chr6', '52056727', 'TTAGACCAAAGGGGTTCCAGTTTGCATTTTACTGCAAGTAACTCCTCAATGGTTGTTTGAATCTA', 'TTAGACCAAAGGGGTTCCAGTTTGCATTTTACTGCAAGTAACTCCTCAATGGTTGTTTGAATCTA', '-')\""
      ]
     },
     "execution_count": 728,
     "metadata": {},
     "output_type": "execute_result"
    }
   ],
   "source": [
    "str(current_location) #excluded changes > 45bp as it caused errors in code"
   ]
  },
  {
   "cell_type": "code",
   "execution_count": 729,
   "metadata": {},
   "outputs": [],
   "source": [
    "len_mutation = max(len(current_location[2]),len(current_location[4]))"
   ]
  },
  {
   "cell_type": "code",
   "execution_count": 730,
   "metadata": {},
   "outputs": [
    {
     "data": {
      "text/plain": [
       "65"
      ]
     },
     "execution_count": 730,
     "metadata": {},
     "output_type": "execute_result"
    }
   ],
   "source": [
    "len_mutation"
   ]
  },
  {
   "cell_type": "code",
   "execution_count": 737,
   "metadata": {},
   "outputs": [
    {
     "data": {
      "text/plain": [
       "52056677"
      ]
     },
     "execution_count": 737,
     "metadata": {},
     "output_type": "execute_result"
    }
   ],
   "source": [
    "int(current_location[1])-100+50"
   ]
  },
  {
   "cell_type": "code",
   "execution_count": 738,
   "metadata": {},
   "outputs": [
    {
     "data": {
      "text/plain": [
       "52056677"
      ]
     },
     "execution_count": 738,
     "metadata": {},
     "output_type": "execute_result"
    }
   ],
   "source": [
    "int(current_location[1])-50"
   ]
  },
  {
   "cell_type": "code",
   "execution_count": 731,
   "metadata": {},
   "outputs": [
    {
     "data": {
      "text/plain": [
       "range(52056692, 52056662)"
      ]
     },
     "execution_count": 731,
     "metadata": {},
     "output_type": "execute_result"
    }
   ],
   "source": [
    "range(int(current_location[1])-100+len_mutation,int(current_location[1])-len_mutation)"
   ]
  },
  {
   "cell_type": "code",
   "execution_count": 605,
   "metadata": {},
   "outputs": [
    {
     "data": {
      "text/plain": [
       "154442011"
      ]
     },
     "execution_count": 605,
     "metadata": {},
     "output_type": "execute_result"
    }
   ],
   "source": [
    "window_starts[-1]"
   ]
  },
  {
   "cell_type": "code",
   "execution_count": 714,
   "metadata": {},
   "outputs": [],
   "source": [
    "nearby_mutations=[['chr1', 151198956, 'X', '-', 0.222]]"
   ]
  },
  {
   "cell_type": "code",
   "execution_count": 680,
   "metadata": {},
   "outputs": [
    {
     "data": {
      "text/plain": [
       "['chr1', 151198956, 'X', 'X', '-']"
      ]
     },
     "execution_count": 680,
     "metadata": {},
     "output_type": "execute_result"
    }
   ],
   "source": [
    "nearby_mutations[0]"
   ]
  },
  {
   "cell_type": "code",
   "execution_count": 688,
   "metadata": {},
   "outputs": [],
   "source": [
    "chrom = nearby_mutations[0][0]\n",
    "start = 151198856 + 10\n",
    "end = start + 100"
   ]
  },
  {
   "cell_type": "code",
   "execution_count": 689,
   "metadata": {},
   "outputs": [],
   "source": [
    "!rm temp_location.bed"
   ]
  },
  {
   "cell_type": "code",
   "execution_count": 690,
   "metadata": {},
   "outputs": [],
   "source": [
    "with open('temp_location.bed', 'w') as file:\n",
    "    file.write(chrom + \"\\t\" + str(start) + \"\\t\" + str(end))\n",
    "additional_sequence = !bedtools getfasta -fi /Volumes/BethMac/hg38/hg38.fa -bed temp_location.bed"
   ]
  },
  {
   "cell_type": "code",
   "execution_count": 691,
   "metadata": {},
   "outputs": [],
   "source": [
    "seq = additional_sequence[1]"
   ]
  },
  {
   "cell_type": "code",
   "execution_count": 692,
   "metadata": {},
   "outputs": [
    {
     "data": {
      "text/plain": [
       "'CCGGAGGGGGCGGGGAGGTGGCCCACAGAACGCGGGTTCTGTAAAGAGACGTTGGGAAGATTCGATTCCGAGAAGAGGAAGAACCGGATTGAAAGAGAGC'"
      ]
     },
     "execution_count": 692,
     "metadata": {},
     "output_type": "execute_result"
    }
   ],
   "source": [
    "seq"
   ]
  },
  {
   "cell_type": "code",
   "execution_count": 715,
   "metadata": {},
   "outputs": [],
   "source": [
    "offset=np.zeros(100).astype(int)"
   ]
  },
  {
   "cell_type": "code",
   "execution_count": 718,
   "metadata": {},
   "outputs": [
    {
     "name": "stdout",
     "output_type": "stream",
     "text": [
      "deletion\n"
     ]
    },
    {
     "data": {
      "text/plain": [
       "('CCGGAGGGGGCGGGGAGGTGGCCCACAGAACGCGGGTTCTGTAAAGAGACGTTGGGAAGATTCGATTCCGAGAAGAGGAAGAACCGGATGAAAGAGAGCG',\n",
       " array([ 0.,  0.,  0.,  0.,  0.,  0.,  0.,  0.,  0.,  0.,  0.,  0.,  0.,\n",
       "         0.,  0.,  0.,  0.,  0.,  0.,  0.,  0.,  0.,  0.,  0.,  0.,  0.,\n",
       "         0.,  0.,  0.,  0.,  0.,  0.,  0.,  0.,  0.,  0.,  0.,  0.,  0.,\n",
       "         0.,  0.,  0.,  0.,  0.,  0.,  0.,  0.,  0.,  0.,  0.,  0.,  0.,\n",
       "         0.,  0.,  0.,  0.,  0.,  0.,  0.,  0.,  0.,  0.,  0.,  0.,  0.,\n",
       "         0.,  0.,  0.,  0.,  0.,  0.,  0.,  0.,  0.,  0.,  0.,  0.,  0.,\n",
       "         0.,  0.,  0.,  0.,  0.,  0.,  0.,  0.,  0.,  0.,  0., -1., -1.,\n",
       "        -1., -1., -1., -1., -1., -1., -1., -1., -1.]))"
      ]
     },
     "execution_count": 718,
     "metadata": {},
     "output_type": "execute_result"
    }
   ],
   "source": [
    "update_sequence(nearby_mutations, seq, offset, start)"
   ]
  },
  {
   "cell_type": "code",
   "execution_count": 585,
   "metadata": {},
   "outputs": [
    {
     "data": {
      "text/plain": [
       "100"
      ]
     },
     "execution_count": 585,
     "metadata": {},
     "output_type": "execute_result"
    }
   ],
   "source": [
    "len('TACCTGGTGAAAGACTAATGAATTCATCGGACATGTTACTGTTTTTCCTCCCTGATGTACCACCAACTTTACGTTTGCATGAAGGTGGTxxxAACATTCT')"
   ]
  },
  {
   "cell_type": "code",
   "execution_count": 503,
   "metadata": {},
   "outputs": [
    {
     "data": {
      "text/plain": [
       "100"
      ]
     },
     "execution_count": 503,
     "metadata": {},
     "output_type": "execute_result"
    }
   ],
   "source": [
    "len('')"
   ]
  },
  {
   "cell_type": "code",
   "execution_count": 705,
   "metadata": {},
   "outputs": [],
   "source": [
    "changes_list=nearby_mutations"
   ]
  },
  {
   "cell_type": "code",
   "execution_count": 625,
   "metadata": {},
   "outputs": [],
   "source": [
    "changes_list = [['chrX', 154442101, 'C', '-', 0.00798276]]"
   ]
  },
  {
   "cell_type": "code",
   "execution_count": 621,
   "metadata": {},
   "outputs": [
    {
     "name": "stdout",
     "output_type": "stream",
     "text": [
      "ok\n"
     ]
    }
   ],
   "source": [
    "if changes_list[i][2] != \"-\" and \\\n",
    "    (len(changes_list[i][2]) == len(changes_list[i][3]) and isinstance(changes_list[i][4],float)==True) or\\\n",
    "    (len(changes_list[i][2]) == len(changes_list[i][3])) and \\\n",
    "    (len(changes_list[i][2]) == len(str(changes_list[i][4])) and isinstance(changes_list[i][4],float) == False) :\n",
    "    print('ok')\n"
   ]
  },
  {
   "cell_type": "code",
   "execution_count": 623,
   "metadata": {},
   "outputs": [
    {
     "name": "stdout",
     "output_type": "stream",
     "text": [
      "ok\n"
     ]
    }
   ],
   "source": [
    "if changes_list[i][2] == \"-\" or ( len(changes_list[i][2]) < len(str(changes_list[i][4])) and \\\n",
    "        isinstance(changes_list[i][4],float) == False):\n",
    "    print('ok')\n",
    "\n"
   ]
  },
  {
   "cell_type": "code",
   "execution_count": 626,
   "metadata": {},
   "outputs": [
    {
     "name": "stdout",
     "output_type": "stream",
     "text": [
      "ok\n"
     ]
    }
   ],
   "source": [
    "if changes_list[i][4]==\"-\" or changes_list[i][3]==\"-\" or (len(str(changes_list[i][4])) < len(changes_list[i][2]) and \\\n",
    "        isinstance(changes_list[i][4],float) == False) :\n",
    "    print('ok')\n",
    "\n"
   ]
  },
  {
   "cell_type": "code",
   "execution_count": 637,
   "metadata": {},
   "outputs": [],
   "source": [
    "for i in range(len(nearby_variation)):\n",
    "                freq = nearby_variation[i][4]\n",
    "                if freq > 0.5:\n",
    "                    included = random.choices([nearby_variation[i], \"skip\"], weights=[freq, 1-freq], k=1)\n",
    "                else:\n",
    "                    included = random.choices([nearby_variation[i], \"skip\"], weights=[0.5, 0.5], k=1)\n",
    "                nearby_variation_random.append(included[0])"
   ]
  },
  {
   "cell_type": "code",
   "execution_count": 638,
   "metadata": {},
   "outputs": [
    {
     "data": {
      "text/plain": [
       "['skip',\n",
       " ['chrX', 154442101, 'C', 'T', 0.00798276],\n",
       " ['chrX', 154442101, 'C', 'T', 0.00798276],\n",
       " ['chrX', 154442101, 'C', 'T', 0.00798276],\n",
       " 'skip']"
      ]
     },
     "execution_count": 638,
     "metadata": {},
     "output_type": "execute_result"
    }
   ],
   "source": [
    "nearby_variation_random"
   ]
  },
  {
   "cell_type": "code",
   "execution_count": 707,
   "metadata": {},
   "outputs": [
    {
     "data": {
      "text/plain": [
       "[['chr1', 151198956, 'X', 'X', '-']]"
      ]
     },
     "execution_count": 707,
     "metadata": {},
     "output_type": "execute_result"
    }
   ],
   "source": [
    "changes_list"
   ]
  },
  {
   "cell_type": "code",
   "execution_count": 709,
   "metadata": {},
   "outputs": [],
   "source": [
    "i=0"
   ]
  },
  {
   "cell_type": "code",
   "execution_count": 711,
   "metadata": {},
   "outputs": [],
   "source": [
    "if changes_list[i][2] != \"-\" and \\\n",
    "            changes_list[i][4] != \"-\" and \\\n",
    "            ((len(changes_list[i][2]) == len(changes_list[i][3]) and isinstance(changes_list[i][4],float)==True) or\\\n",
    "            (len(changes_list[i][2]) == len(changes_list[i][3])) and \\\n",
    "            (len(changes_list[i][2]) == len(str(changes_list[i][4])) and isinstance(changes_list[i][4],float) == False)) :\n",
    "    print('ok')\n",
    "\n"
   ]
  },
  {
   "cell_type": "code",
   "execution_count": 708,
   "metadata": {},
   "outputs": [
    {
     "data": {
      "text/plain": [
       "'-'"
      ]
     },
     "execution_count": 708,
     "metadata": {},
     "output_type": "execute_result"
    }
   ],
   "source": [
    "changes_list[0][4]"
   ]
  },
  {
   "cell_type": "code",
   "execution_count": null,
   "metadata": {},
   "outputs": [],
   "source": []
  }
 ],
 "metadata": {
  "kernelspec": {
   "display_name": "bioinformatics",
   "language": "python",
   "name": "bioinformatics"
  },
  "language_info": {
   "codemirror_mode": {
    "name": "ipython",
    "version": 3
   },
   "file_extension": ".py",
   "mimetype": "text/x-python",
   "name": "python",
   "nbconvert_exporter": "python",
   "pygments_lexer": "ipython3",
   "version": "3.7.6"
  }
 },
 "nbformat": 4,
 "nbformat_minor": 4
}
