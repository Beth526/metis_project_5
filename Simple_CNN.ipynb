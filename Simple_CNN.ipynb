{
 "cells": [
  {
   "cell_type": "code",
   "execution_count": null,
   "metadata": {},
   "outputs": [],
   "source": []
  },
  {
   "cell_type": "code",
   "execution_count": 1,
   "metadata": {},
   "outputs": [
    {
     "name": "stderr",
     "output_type": "stream",
     "text": [
      "Using TensorFlow backend.\n",
      "/opt/anaconda3/lib/python3.7/site-packages/tensorflow/python/framework/dtypes.py:516: FutureWarning: Passing (type, 1) or '1type' as a synonym of type is deprecated; in a future version of numpy, it will be understood as (type, (1,)) / '(1,)type'.\n",
      "  _np_qint8 = np.dtype([(\"qint8\", np.int8, 1)])\n",
      "/opt/anaconda3/lib/python3.7/site-packages/tensorflow/python/framework/dtypes.py:517: FutureWarning: Passing (type, 1) or '1type' as a synonym of type is deprecated; in a future version of numpy, it will be understood as (type, (1,)) / '(1,)type'.\n",
      "  _np_quint8 = np.dtype([(\"quint8\", np.uint8, 1)])\n",
      "/opt/anaconda3/lib/python3.7/site-packages/tensorflow/python/framework/dtypes.py:518: FutureWarning: Passing (type, 1) or '1type' as a synonym of type is deprecated; in a future version of numpy, it will be understood as (type, (1,)) / '(1,)type'.\n",
      "  _np_qint16 = np.dtype([(\"qint16\", np.int16, 1)])\n",
      "/opt/anaconda3/lib/python3.7/site-packages/tensorflow/python/framework/dtypes.py:519: FutureWarning: Passing (type, 1) or '1type' as a synonym of type is deprecated; in a future version of numpy, it will be understood as (type, (1,)) / '(1,)type'.\n",
      "  _np_quint16 = np.dtype([(\"quint16\", np.uint16, 1)])\n",
      "/opt/anaconda3/lib/python3.7/site-packages/tensorflow/python/framework/dtypes.py:520: FutureWarning: Passing (type, 1) or '1type' as a synonym of type is deprecated; in a future version of numpy, it will be understood as (type, (1,)) / '(1,)type'.\n",
      "  _np_qint32 = np.dtype([(\"qint32\", np.int32, 1)])\n",
      "/opt/anaconda3/lib/python3.7/site-packages/tensorflow/python/framework/dtypes.py:525: FutureWarning: Passing (type, 1) or '1type' as a synonym of type is deprecated; in a future version of numpy, it will be understood as (type, (1,)) / '(1,)type'.\n",
      "  np_resource = np.dtype([(\"resource\", np.ubyte, 1)])\n",
      "/opt/anaconda3/lib/python3.7/site-packages/tensorboard/compat/tensorflow_stub/dtypes.py:541: FutureWarning: Passing (type, 1) or '1type' as a synonym of type is deprecated; in a future version of numpy, it will be understood as (type, (1,)) / '(1,)type'.\n",
      "  _np_qint8 = np.dtype([(\"qint8\", np.int8, 1)])\n",
      "/opt/anaconda3/lib/python3.7/site-packages/tensorboard/compat/tensorflow_stub/dtypes.py:542: FutureWarning: Passing (type, 1) or '1type' as a synonym of type is deprecated; in a future version of numpy, it will be understood as (type, (1,)) / '(1,)type'.\n",
      "  _np_quint8 = np.dtype([(\"quint8\", np.uint8, 1)])\n",
      "/opt/anaconda3/lib/python3.7/site-packages/tensorboard/compat/tensorflow_stub/dtypes.py:543: FutureWarning: Passing (type, 1) or '1type' as a synonym of type is deprecated; in a future version of numpy, it will be understood as (type, (1,)) / '(1,)type'.\n",
      "  _np_qint16 = np.dtype([(\"qint16\", np.int16, 1)])\n",
      "/opt/anaconda3/lib/python3.7/site-packages/tensorboard/compat/tensorflow_stub/dtypes.py:544: FutureWarning: Passing (type, 1) or '1type' as a synonym of type is deprecated; in a future version of numpy, it will be understood as (type, (1,)) / '(1,)type'.\n",
      "  _np_quint16 = np.dtype([(\"quint16\", np.uint16, 1)])\n",
      "/opt/anaconda3/lib/python3.7/site-packages/tensorboard/compat/tensorflow_stub/dtypes.py:545: FutureWarning: Passing (type, 1) or '1type' as a synonym of type is deprecated; in a future version of numpy, it will be understood as (type, (1,)) / '(1,)type'.\n",
      "  _np_qint32 = np.dtype([(\"qint32\", np.int32, 1)])\n",
      "/opt/anaconda3/lib/python3.7/site-packages/tensorboard/compat/tensorflow_stub/dtypes.py:550: FutureWarning: Passing (type, 1) or '1type' as a synonym of type is deprecated; in a future version of numpy, it will be understood as (type, (1,)) / '(1,)type'.\n",
      "  np_resource = np.dtype([(\"resource\", np.ubyte, 1)])\n"
     ]
    }
   ],
   "source": [
    "from keras.utils import to_categorical, np_utils\n",
    "from keras.callbacks import EarlyStopping\n",
    "from keras.models import Sequential\n",
    "from keras.layers import (Dense, Reshape, Activation,\n",
    "                          LSTM, Convolution2D, Flatten, \n",
    "                          MaxPooling1D, MaxPooling2D, Dropout, Bidirectional, BatchNormalization, GlobalAveragePooling2D)\n",
    "from keras.optimizers import Adam\n",
    "import pandas as pd\n",
    "import numpy as np\n",
    "import pickle"
   ]
  },
  {
   "cell_type": "code",
   "execution_count": 2,
   "metadata": {},
   "outputs": [],
   "source": [
    "import os"
   ]
  },
  {
   "cell_type": "code",
   "execution_count": 3,
   "metadata": {},
   "outputs": [],
   "source": [
    "def convert_format(file):\n",
    "    base_to_value = {65 : 49, 71 : 50 , 67 : 51 , 84 : 52}\n",
    "    with open(file, 'rb') as read_file:\n",
    "        seqs = pickle.load(read_file)\n",
    "    seqs = list(map(lambda x: [[int(i.upper().translate(base_to_value)) for i in x[0]],\n",
    "                                  [int(i.upper().translate(base_to_value)) for i in x[1]]], seqs ))\n",
    "    seqs = to_categorical(seqs)\n",
    "    return seqs\n",
    "    "
   ]
  },
  {
   "cell_type": "code",
   "execution_count": 4,
   "metadata": {},
   "outputs": [],
   "source": [
    "os.chdir('/Users/beth/Desktop/MetisProject5data/')"
   ]
  },
  {
   "cell_type": "code",
   "execution_count": 5,
   "metadata": {},
   "outputs": [],
   "source": [
    "normal_bladder = convert_format(\"normal_bladder.pickle\")\n",
    "normal_breast = convert_format(\"normal_breast.pickle\")\n",
    "normal_colorectal = convert_format(\"normal_colorectal.pickle\")\n",
    "normal_glioblastoma = convert_format(\"normal_glioblastoma.pickle\")\n",
    "normal_glioma = convert_format(\"normal_glioma.pickle\")\n",
    "normal_lung = convert_format(\"normal_lung.pickle\")\n",
    "normal_pancreatic = convert_format(\"normal_pancreatic.pickle\")\n",
    "normal_prostate = convert_format(\"normal_prostate.pickle\")\n",
    "normal_renal = convert_format(\"normal_renal.pickle\")\n",
    "normal_skin = convert_format(\"normal_skin.pickle\")\n",
    "normal_stomach = convert_format(\"normal_stomach.pickle\")\n",
    "normal_uterine = convert_format(\"normal_uterine.pickle\")\n",
    "normal_liver = convert_format(\"normal_liver.pickle\")"
   ]
  },
  {
   "cell_type": "code",
   "execution_count": 6,
   "metadata": {},
   "outputs": [],
   "source": [
    "tumor_bladder = convert_format(\"tumor_bladder.pickle\")\n",
    "tumor_breast = convert_format(\"tumor_breast.pickle\")\n",
    "tumor_colorectal = convert_format(\"tumor_colorectal.pickle\")\n",
    "tumor_glioblastoma = convert_format(\"tumor_glioblastoma.pickle\")\n",
    "tumor_glioma = convert_format(\"tumor_glioma.pickle\")\n",
    "tumor_lung = convert_format(\"tumor_lung.pickle\")\n",
    "tumor_pancreatic = convert_format(\"tumor_pancreatic.pickle\")\n",
    "tumor_prostate = convert_format(\"tumor_prostate.pickle\")\n",
    "tumor_renal = convert_format(\"tumor_renal.pickle\")\n",
    "tumor_skin = convert_format(\"tumor_skin.pickle\")\n",
    "tumor_stomach = convert_format(\"tumor_stomach.pickle\")\n",
    "tumor_uterine = convert_format(\"tumor_uterine.pickle\")\n",
    "tumor_liver = convert_format(\"tumor_liver.pickle\")"
   ]
  },
  {
   "cell_type": "code",
   "execution_count": 7,
   "metadata": {},
   "outputs": [],
   "source": [
    "normal_glio = np.concatenate([normal_glioma,normal_glioblastoma],axis=0)\n",
    "tumor_glio = np.concatenate([tumor_glioma,tumor_glioblastoma],axis=0)"
   ]
  },
  {
   "cell_type": "code",
   "execution_count": 8,
   "metadata": {},
   "outputs": [],
   "source": [
    "del normal_glioma,normal_glioblastoma,tumor_glioma,tumor_glioblastoma"
   ]
  },
  {
   "cell_type": "code",
   "execution_count": 9,
   "metadata": {},
   "outputs": [],
   "source": [
    "np.random.seed(11)"
   ]
  },
  {
   "cell_type": "code",
   "execution_count": 10,
   "metadata": {},
   "outputs": [],
   "source": [
    "def train_test_split(array):\n",
    "    indices=np.random.randint(array.shape[0], size=2000)\n",
    "    test = array[indices]\n",
    "    train = array[[i for i in range(array.shape[0]) if not i in indices]]\n",
    "    return test, train"
   ]
  },
  {
   "cell_type": "code",
   "execution_count": 11,
   "metadata": {},
   "outputs": [],
   "source": [
    "bladder_test, bladder_train = train_test_split(tumor_bladder)\n",
    "del tumor_bladder\n",
    "breast_test, breast_train = train_test_split(tumor_breast)\n",
    "del tumor_breast\n",
    "colorectal_test, colorectal_train = train_test_split(tumor_colorectal)\n",
    "del tumor_colorectal"
   ]
  },
  {
   "cell_type": "code",
   "execution_count": 12,
   "metadata": {},
   "outputs": [],
   "source": [
    "glio_test, glio_train = train_test_split(tumor_glio)\n",
    "del tumor_glio\n",
    "lung_test, lung_train = train_test_split(tumor_lung)\n",
    "del tumor_lung\n",
    "pancreatic_test, pancreatic_train = train_test_split(tumor_pancreatic)\n",
    "del tumor_pancreatic"
   ]
  },
  {
   "cell_type": "code",
   "execution_count": 13,
   "metadata": {},
   "outputs": [],
   "source": [
    "renal_test, renal_train = train_test_split(tumor_renal)\n",
    "del tumor_renal\n",
    "prostate_test, prostate_train = train_test_split(tumor_prostate)\n",
    "del tumor_prostate\n",
    "skin_test, skin_train = train_test_split(tumor_skin)\n",
    "del tumor_skin\n",
    "stomach_test, stomach_train = train_test_split(tumor_stomach)\n",
    "del tumor_stomach\n",
    "uterine_test, uterine_train = train_test_split(tumor_uterine)\n",
    "del tumor_uterine\n",
    "liver_test, liver_train = train_test_split(tumor_liver)\n",
    "del tumor_liver"
   ]
  },
  {
   "cell_type": "code",
   "execution_count": 14,
   "metadata": {},
   "outputs": [],
   "source": [
    "bladder_test_normal, bladder_train_normal = train_test_split(normal_bladder)\n",
    "del normal_bladder\n",
    "breast_test_normal, breast_train_normal = train_test_split(normal_breast)\n",
    "del normal_breast\n",
    "colorectal_test_normal, colorectal_train_normal = train_test_split(normal_colorectal)\n",
    "del normal_colorectal\n",
    "glio_test_normal, glio_train_normal = train_test_split(normal_glio)\n",
    "del normal_glio\n",
    "lung_test_normal, lung_train_normal = train_test_split(normal_lung)\n",
    "del normal_lung\n",
    "pancreatic_test_normal, pancreatic_train_normal = train_test_split(normal_pancreatic)\n",
    "del normal_pancreatic\n",
    "renal_test_normal, renal_train_normal = train_test_split(normal_renal)\n",
    "del normal_renal\n",
    "prostate_test_normal, prostate_train_normal = train_test_split(normal_prostate)\n",
    "del normal_prostate\n",
    "skin_test_normal, skin_train_normal = train_test_split(normal_skin)\n",
    "del normal_skin\n",
    "stomach_test_normal, stomach_train_normal = train_test_split(normal_stomach)\n",
    "del normal_stomach\n",
    "uterine_test_normal, uterine_train_normal = train_test_split(normal_uterine)\n",
    "del normal_uterine\n",
    "liver_test_normal, liver_train_normal = train_test_split(normal_liver)\n",
    "del normal_liver"
   ]
  },
  {
   "cell_type": "code",
   "execution_count": 15,
   "metadata": {},
   "outputs": [],
   "source": [
    "y_train_tumor = [1]*bladder_train.shape[0]+[2]*breast_train.shape[0]+[3]*colorectal_train.shape[0]+[4]*glio_train.shape[0]+[5]*lung_train.shape[0]\\\n",
    "+[6]*pancreatic_train.shape[0]+[7]*renal_train.shape[0]+[8]*prostate_train.shape[0]+[9]*skin_train.shape[0]+[10]*stomach_train.shape[0]\\\n",
    "+[11]*uterine_train.shape[0]+[12]*liver_train.shape[0]"
   ]
  },
  {
   "cell_type": "code",
   "execution_count": 16,
   "metadata": {},
   "outputs": [
    {
     "data": {
      "text/plain": [
       "2231490"
      ]
     },
     "execution_count": 16,
     "metadata": {},
     "output_type": "execute_result"
    }
   ],
   "source": [
    "len(y_train_tumor)"
   ]
  },
  {
   "cell_type": "code",
   "execution_count": 17,
   "metadata": {},
   "outputs": [],
   "source": [
    "tumor = np.concatenate([bladder_train,breast_train,colorectal_train],axis=0)"
   ]
  },
  {
   "cell_type": "code",
   "execution_count": 18,
   "metadata": {},
   "outputs": [],
   "source": [
    "tumor = np.concatenate([tumor,glio_train],axis=0)"
   ]
  },
  {
   "cell_type": "code",
   "execution_count": 19,
   "metadata": {},
   "outputs": [],
   "source": [
    "del bladder_train, breast_train, colorectal_train, glio_train"
   ]
  },
  {
   "cell_type": "code",
   "execution_count": 20,
   "metadata": {},
   "outputs": [],
   "source": [
    "tumor = np.concatenate([tumor,lung_train,pancreatic_train,renal_train],axis=0)"
   ]
  },
  {
   "cell_type": "code",
   "execution_count": 21,
   "metadata": {},
   "outputs": [],
   "source": [
    "del lung_train, pancreatic_train, renal_train"
   ]
  },
  {
   "cell_type": "code",
   "execution_count": 22,
   "metadata": {},
   "outputs": [],
   "source": [
    "tumor = np.concatenate([tumor,prostate_train,skin_train,stomach_train],axis=0)"
   ]
  },
  {
   "cell_type": "code",
   "execution_count": 23,
   "metadata": {},
   "outputs": [],
   "source": [
    "del prostate_train,skin_train,stomach_train"
   ]
  },
  {
   "cell_type": "code",
   "execution_count": 24,
   "metadata": {},
   "outputs": [],
   "source": [
    "tumor = np.concatenate([tumor,uterine_train],axis=0)"
   ]
  },
  {
   "cell_type": "code",
   "execution_count": 25,
   "metadata": {},
   "outputs": [],
   "source": [
    "del uterine_train"
   ]
  },
  {
   "cell_type": "code",
   "execution_count": 26,
   "metadata": {},
   "outputs": [],
   "source": [
    "tumor = np.concatenate([tumor,liver_train],axis=0)\n",
    "del liver_train"
   ]
  },
  {
   "cell_type": "code",
   "execution_count": 27,
   "metadata": {},
   "outputs": [
    {
     "data": {
      "text/plain": [
       "(2231490, 2, 100, 5)"
      ]
     },
     "execution_count": 27,
     "metadata": {},
     "output_type": "execute_result"
    }
   ],
   "source": [
    "tumor.shape"
   ]
  },
  {
   "cell_type": "code",
   "execution_count": 28,
   "metadata": {},
   "outputs": [],
   "source": [
    "from collections import defaultdict"
   ]
  },
  {
   "cell_type": "code",
   "execution_count": 29,
   "metadata": {},
   "outputs": [],
   "source": [
    "class_weights = defaultdict(int)\n",
    "for i in range(1,13):\n",
    "    class_weights[i]=y_train_tumor.count(i)"
   ]
  },
  {
   "cell_type": "code",
   "execution_count": 30,
   "metadata": {},
   "outputs": [
    {
     "data": {
      "text/plain": [
       "defaultdict(int,\n",
       "            {1: 107145,\n",
       "             2: 114558,\n",
       "             3: 207706,\n",
       "             4: 116236,\n",
       "             5: 196181,\n",
       "             6: 27982,\n",
       "             7: 24693,\n",
       "             8: 27325,\n",
       "             9: 324160,\n",
       "             10: 150133,\n",
       "             11: 883308,\n",
       "             12: 52063})"
      ]
     },
     "execution_count": 30,
     "metadata": {},
     "output_type": "execute_result"
    }
   ],
   "source": [
    "class_weights"
   ]
  },
  {
   "cell_type": "code",
   "execution_count": 45,
   "metadata": {},
   "outputs": [
    {
     "ename": "NameError",
     "evalue": "name 'bladder_train_normal' is not defined",
     "output_type": "error",
     "traceback": [
      "\u001b[0;31m---------------------------------------------------------------------------\u001b[0m",
      "\u001b[0;31mNameError\u001b[0m                                 Traceback (most recent call last)",
      "\u001b[0;32m<ipython-input-45-ca4414538ed8>\u001b[0m in \u001b[0;36m<module>\u001b[0;34m\u001b[0m\n\u001b[1;32m      1\u001b[0m y_train_normal = [0]*(bladder_train_normal.shape[0]+breast_train_normal.shape[0]+colorectal_train_normal.shape[0]+glio_train_normal.shape[0]+lung_train_normal.shape[0]\\\n\u001b[0;32m----> 2\u001b[0;31m +pancreatic_train_normal.shape[0]+renal_train_normal.shape[0]+prostate_train_normal.shape[0]+skin_train_normal.shape[0]+stomach_train_normal.shape[0]+uterine_train_normal.shape[0]+liver_train_normal.shape[0])\n\u001b[0m",
      "\u001b[0;31mNameError\u001b[0m: name 'bladder_train_normal' is not defined"
     ]
    }
   ],
   "source": [
    "y_train_normal = [0]*(bladder_train_normal.shape[0]+breast_train_normal.shape[0]+colorectal_train_normal.shape[0]+glio_train_normal.shape[0]+lung_train_normal.shape[0]\\\n",
    "+pancreatic_train_normal.shape[0]+renal_train_normal.shape[0]+prostate_train_normal.shape[0]+skin_train_normal.shape[0]+stomach_train_normal.shape[0]+uterine_train_normal.shape[0]+liver_train_normal.shape[0])\n"
   ]
  },
  {
   "cell_type": "code",
   "execution_count": 46,
   "metadata": {},
   "outputs": [
    {
     "data": {
      "text/plain": [
       "2232877"
      ]
     },
     "execution_count": 46,
     "metadata": {},
     "output_type": "execute_result"
    }
   ],
   "source": [
    "len(y_train_normal)"
   ]
  },
  {
   "cell_type": "code",
   "execution_count": 35,
   "metadata": {},
   "outputs": [],
   "source": [
    "normal = np.concatenate([bladder_train_normal,breast_train_normal,colorectal_train_normal],axis=0)"
   ]
  },
  {
   "cell_type": "code",
   "execution_count": 36,
   "metadata": {},
   "outputs": [],
   "source": [
    "normal = np.concatenate([normal,glio_train_normal],axis=0)"
   ]
  },
  {
   "cell_type": "code",
   "execution_count": 37,
   "metadata": {},
   "outputs": [],
   "source": [
    "del bladder_train_normal, breast_train_normal, colorectal_train_normal, glio_train_normal"
   ]
  },
  {
   "cell_type": "code",
   "execution_count": 38,
   "metadata": {},
   "outputs": [],
   "source": [
    "normal = np.concatenate([normal,lung_train_normal,pancreatic_train_normal,renal_train_normal],axis=0)"
   ]
  },
  {
   "cell_type": "code",
   "execution_count": 39,
   "metadata": {},
   "outputs": [],
   "source": [
    "del lung_train_normal, pancreatic_train_normal, renal_train_normal"
   ]
  },
  {
   "cell_type": "code",
   "execution_count": 40,
   "metadata": {},
   "outputs": [],
   "source": [
    "normal = np.concatenate([normal,prostate_train_normal,skin_train_normal,stomach_train_normal],axis=0)"
   ]
  },
  {
   "cell_type": "code",
   "execution_count": 41,
   "metadata": {},
   "outputs": [],
   "source": [
    "del prostate_train_normal,skin_train_normal,stomach_train_normal"
   ]
  },
  {
   "cell_type": "code",
   "execution_count": 42,
   "metadata": {},
   "outputs": [],
   "source": [
    "normal = np.concatenate([normal,uterine_train_normal, liver_train_normal],axis=0)\n",
    "del uterine_train_normal, liver_train_normal"
   ]
  },
  {
   "cell_type": "code",
   "execution_count": 43,
   "metadata": {},
   "outputs": [
    {
     "data": {
      "text/plain": [
       "2232877"
      ]
     },
     "execution_count": 43,
     "metadata": {},
     "output_type": "execute_result"
    }
   ],
   "source": [
    "normal.shape[0]"
   ]
  },
  {
   "cell_type": "code",
   "execution_count": 47,
   "metadata": {},
   "outputs": [],
   "source": [
    "class_weights[0]=normal.shape[0]"
   ]
  },
  {
   "cell_type": "code",
   "execution_count": 48,
   "metadata": {},
   "outputs": [
    {
     "data": {
      "text/plain": [
       "defaultdict(int,\n",
       "            {1: 107145,\n",
       "             2: 114558,\n",
       "             3: 207706,\n",
       "             4: 116236,\n",
       "             5: 196181,\n",
       "             6: 27982,\n",
       "             7: 24693,\n",
       "             8: 27325,\n",
       "             9: 324160,\n",
       "             10: 150133,\n",
       "             11: 883308,\n",
       "             12: 52063,\n",
       "             0: 2232877})"
      ]
     },
     "execution_count": 48,
     "metadata": {},
     "output_type": "execute_result"
    }
   ],
   "source": [
    "class_weights"
   ]
  },
  {
   "cell_type": "code",
   "execution_count": 49,
   "metadata": {},
   "outputs": [],
   "source": [
    "for key in class_weights.keys():\n",
    "    class_weights[key]=class_weights[0]/class_weights[key]"
   ]
  },
  {
   "cell_type": "code",
   "execution_count": 50,
   "metadata": {},
   "outputs": [
    {
     "data": {
      "text/plain": [
       "defaultdict(int,\n",
       "            {1: 20.839768537962573,\n",
       "             2: 19.491235880514672,\n",
       "             3: 10.750180543653048,\n",
       "             4: 19.209857531229567,\n",
       "             5: 11.381718922831467,\n",
       "             6: 79.79690515331285,\n",
       "             7: 90.42550520390394,\n",
       "             8: 81.71553522415371,\n",
       "             9: 6.888194101678184,\n",
       "             10: 14.872659575176677,\n",
       "             11: 2.5278577800721833,\n",
       "             12: 42.887981868121315,\n",
       "             0: 1.0})"
      ]
     },
     "execution_count": 50,
     "metadata": {},
     "output_type": "execute_result"
    }
   ],
   "source": [
    "class_weights"
   ]
  },
  {
   "cell_type": "code",
   "execution_count": 51,
   "metadata": {},
   "outputs": [],
   "source": [
    "y_train = y_train_tumor + y_train_normal"
   ]
  },
  {
   "cell_type": "code",
   "execution_count": 52,
   "metadata": {},
   "outputs": [
    {
     "data": {
      "text/plain": [
       "4464367"
      ]
     },
     "execution_count": 52,
     "metadata": {},
     "output_type": "execute_result"
    }
   ],
   "source": [
    "len(y_train)"
   ]
  },
  {
   "cell_type": "code",
   "execution_count": 53,
   "metadata": {},
   "outputs": [],
   "source": [
    "X_train = np.concatenate([tumor,normal],axis=0)\n",
    "del tumor,normal"
   ]
  },
  {
   "cell_type": "code",
   "execution_count": 54,
   "metadata": {},
   "outputs": [
    {
     "data": {
      "text/plain": [
       "(4464367, 2, 100, 5)"
      ]
     },
     "execution_count": 54,
     "metadata": {},
     "output_type": "execute_result"
    }
   ],
   "source": [
    "X_train.shape"
   ]
  },
  {
   "cell_type": "code",
   "execution_count": 55,
   "metadata": {},
   "outputs": [],
   "source": [
    "y_train = to_categorical(y_train)"
   ]
  },
  {
   "cell_type": "code",
   "execution_count": 56,
   "metadata": {},
   "outputs": [],
   "source": [
    "del train_test_split\n",
    "from sklearn.model_selection import train_test_split"
   ]
  },
  {
   "cell_type": "code",
   "execution_count": 57,
   "metadata": {},
   "outputs": [
    {
     "data": {
      "text/plain": [
       "(4464367, 2, 100, 5)"
      ]
     },
     "execution_count": 57,
     "metadata": {},
     "output_type": "execute_result"
    }
   ],
   "source": [
    "X_train.shape"
   ]
  },
  {
   "cell_type": "code",
   "execution_count": 58,
   "metadata": {},
   "outputs": [
    {
     "data": {
      "text/plain": [
       "(4464367, 13)"
      ]
     },
     "execution_count": 58,
     "metadata": {},
     "output_type": "execute_result"
    }
   ],
   "source": [
    "y_train.shape"
   ]
  },
  {
   "cell_type": "code",
   "execution_count": 59,
   "metadata": {},
   "outputs": [],
   "source": [
    "X_train, X_val, y_train, y_val = train_test_split(X_train, y_train, test_size=0.1, random_state=11, stratify=y_train)"
   ]
  },
  {
   "cell_type": "code",
   "execution_count": 60,
   "metadata": {},
   "outputs": [
    {
     "name": "stdout",
     "output_type": "stream",
     "text": [
      "WARNING:tensorflow:From /opt/anaconda3/lib/python3.7/site-packages/keras/backend/tensorflow_backend.py:4070: The name tf.nn.max_pool is deprecated. Please use tf.nn.max_pool2d instead.\n",
      "\n"
     ]
    }
   ],
   "source": [
    "model=Sequential()\n",
    "\n",
    "model.add(Convolution2D(input_shape=(2,100,5),\n",
    "                       filters=64,\n",
    "                       kernel_size=(2,3),\n",
    "                       padding=\"same\",\n",
    "                       activation=\"relu\"))\n",
    "model.add(BatchNormalization(axis=-1))\n",
    "model.add(MaxPooling2D(pool_size=2,\n",
    "                       padding=\"same\"))\n",
    "\n",
    "model.add(Convolution2D(filters=33,\n",
    "                       kernel_size=(2,2),\n",
    "                       padding=\"same\",\n",
    "                       activation=\"relu\"))\n",
    "model.add(MaxPooling2D(pool_size=2,\n",
    "                       padding=\"same\"))\n",
    "model.add(BatchNormalization(axis=-1))\n",
    "\n",
    "model.add(GlobalAveragePooling2D())\n",
    "\n",
    "model.add(Dense(units=13))\n",
    "model.add(Activation('softmax'))"
   ]
  },
  {
   "cell_type": "code",
   "execution_count": 61,
   "metadata": {},
   "outputs": [
    {
     "name": "stdout",
     "output_type": "stream",
     "text": [
      "Model: \"sequential_1\"\n",
      "_________________________________________________________________\n",
      "Layer (type)                 Output Shape              Param #   \n",
      "=================================================================\n",
      "conv2d_1 (Conv2D)            (None, 2, 100, 64)        1984      \n",
      "_________________________________________________________________\n",
      "batch_normalization_1 (Batch (None, 2, 100, 64)        256       \n",
      "_________________________________________________________________\n",
      "max_pooling2d_1 (MaxPooling2 (None, 1, 50, 64)         0         \n",
      "_________________________________________________________________\n",
      "conv2d_2 (Conv2D)            (None, 1, 50, 33)         8481      \n",
      "_________________________________________________________________\n",
      "max_pooling2d_2 (MaxPooling2 (None, 1, 25, 33)         0         \n",
      "_________________________________________________________________\n",
      "batch_normalization_2 (Batch (None, 1, 25, 33)         132       \n",
      "_________________________________________________________________\n",
      "global_average_pooling2d_1 ( (None, 33)                0         \n",
      "_________________________________________________________________\n",
      "dense_1 (Dense)              (None, 13)                442       \n",
      "_________________________________________________________________\n",
      "activation_1 (Activation)    (None, 13)                0         \n",
      "=================================================================\n",
      "Total params: 11,295\n",
      "Trainable params: 11,101\n",
      "Non-trainable params: 194\n",
      "_________________________________________________________________\n"
     ]
    }
   ],
   "source": [
    "model.summary()"
   ]
  },
  {
   "cell_type": "code",
   "execution_count": 62,
   "metadata": {},
   "outputs": [],
   "source": [
    "callback = EarlyStopping(monitor='val_loss', patience=4)"
   ]
  },
  {
   "cell_type": "code",
   "execution_count": 66,
   "metadata": {},
   "outputs": [],
   "source": [
    "optimizer = Adam(lr=0.1)"
   ]
  },
  {
   "cell_type": "code",
   "execution_count": 67,
   "metadata": {},
   "outputs": [],
   "source": [
    "model.compile(loss='categorical_crossentropy',\n",
    "              optimizer='adam',\n",
    "              metrics=['categorical_crossentropy','accuracy'])"
   ]
  },
  {
   "cell_type": "code",
   "execution_count": 68,
   "metadata": {},
   "outputs": [
    {
     "name": "stdout",
     "output_type": "stream",
     "text": [
      "Train on 4017930 samples, validate on 446437 samples\n",
      "Epoch 1/100\n",
      "4017930/4017930 [==============================] - 1419s 353us/step - loss: 16.0676 - categorical_crossentropy: 2.3296 - accuracy: 0.3783 - val_loss: 2.1345 - val_categorical_crossentropy: 2.1345 - val_accuracy: 0.4975\n",
      "Epoch 2/100\n",
      "4017930/4017930 [==============================] - 1314s 327us/step - loss: 15.0229 - categorical_crossentropy: 1.9377 - accuracy: 0.5295 - val_loss: 1.5833 - val_categorical_crossentropy: 1.5833 - val_accuracy: 0.5461\n",
      "Epoch 3/100\n",
      "4017930/4017930 [==============================] - 1266s 315us/step - loss: 14.7121 - categorical_crossentropy: 1.8089 - accuracy: 0.5240 - val_loss: 2.3026 - val_categorical_crossentropy: 2.3026 - val_accuracy: 0.4837\n",
      "Epoch 4/100\n",
      "4017930/4017930 [==============================] - 1306s 325us/step - loss: 14.5941 - categorical_crossentropy: 1.7521 - accuracy: 0.5204 - val_loss: 1.6340 - val_categorical_crossentropy: 1.6340 - val_accuracy: 0.5313\n",
      "Epoch 5/100\n",
      "4017930/4017930 [==============================] - 1421s 354us/step - loss: 14.5515 - categorical_crossentropy: 1.7427 - accuracy: 0.5177 - val_loss: 1.9197 - val_categorical_crossentropy: 1.9197 - val_accuracy: 0.5072\n",
      "Epoch 6/100\n",
      "4017930/4017930 [==============================] - 1431s 356us/step - loss: 14.5328 - categorical_crossentropy: 1.7392 - accuracy: 0.5172 - val_loss: 1.6590 - val_categorical_crossentropy: 1.6590 - val_accuracy: 0.5278\n"
     ]
    },
    {
     "data": {
      "text/plain": [
       "<keras.callbacks.callbacks.History at 0x7f854662ec90>"
      ]
     },
     "execution_count": 68,
     "metadata": {},
     "output_type": "execute_result"
    }
   ],
   "source": [
    "model.fit(X_train, y_train, epochs=100, batch_size=10000,\n",
    "              validation_data=(X_val, y_val),verbose=True, callbacks=[callback], class_weight=class_weights)"
   ]
  },
  {
   "cell_type": "code",
   "execution_count": 69,
   "metadata": {},
   "outputs": [],
   "source": [
    "model_json = model.to_json()\n",
    "with open(\"model_with_liver.json\", \"w\") as json_file:\n",
    "    json_file.write(model_json)\n",
    "# serialize weights to HDF5\n",
    "model.save_weights(\"model_with_liver.h5\")"
   ]
  },
  {
   "cell_type": "code",
   "execution_count": null,
   "metadata": {},
   "outputs": [],
   "source": []
  },
  {
   "cell_type": "code",
   "execution_count": 70,
   "metadata": {},
   "outputs": [],
   "source": [
    "predictions = model.predict(X_val)"
   ]
  },
  {
   "cell_type": "code",
   "execution_count": 71,
   "metadata": {},
   "outputs": [],
   "source": [
    "from sklearn.metrics import confusion_matrix"
   ]
  },
  {
   "cell_type": "code",
   "execution_count": 72,
   "metadata": {},
   "outputs": [],
   "source": [
    "predictions_01 = np.argmax(predictions,axis=1) #predvec from below"
   ]
  },
  {
   "cell_type": "code",
   "execution_count": 73,
   "metadata": {},
   "outputs": [
    {
     "data": {
      "text/plain": [
       "0     188468\n",
       "9      52843\n",
       "7      41757\n",
       "11     38027\n",
       "5      29124\n",
       "8      26480\n",
       "6      17330\n",
       "4      12418\n",
       "10     11911\n",
       "1      10831\n",
       "12     10399\n",
       "2       5999\n",
       "3        850\n",
       "dtype: int64"
      ]
     },
     "execution_count": 73,
     "metadata": {},
     "output_type": "execute_result"
    }
   ],
   "source": [
    "pd.Series(predictions_01).value_counts()"
   ]
  },
  {
   "cell_type": "code",
   "execution_count": 74,
   "metadata": {},
   "outputs": [
    {
     "data": {
      "text/plain": [
       "0     223288\n",
       "11     88331\n",
       "9      32416\n",
       "3      20771\n",
       "5      19618\n",
       "10     15013\n",
       "4      11624\n",
       "2      11456\n",
       "1      10715\n",
       "12      5206\n",
       "6       2798\n",
       "8       2732\n",
       "7       2469\n",
       "dtype: int64"
      ]
     },
     "execution_count": 74,
     "metadata": {},
     "output_type": "execute_result"
    }
   ],
   "source": [
    "pd.Series(np.argmax(y_val,axis=1)).value_counts()"
   ]
  },
  {
   "cell_type": "code",
   "execution_count": 75,
   "metadata": {},
   "outputs": [],
   "source": [
    "y_val_01= np.argmax(y_val,axis=1)"
   ]
  },
  {
   "cell_type": "code",
   "execution_count": 76,
   "metadata": {},
   "outputs": [],
   "source": [
    "confusion = confusion_matrix(y_val_01,predictions_01)"
   ]
  },
  {
   "cell_type": "code",
   "execution_count": 77,
   "metadata": {},
   "outputs": [],
   "source": [
    "import seaborn as sns"
   ]
  },
  {
   "cell_type": "code",
   "execution_count": 78,
   "metadata": {},
   "outputs": [],
   "source": [
    "confusion_sum=confusion.sum(axis=1)"
   ]
  },
  {
   "cell_type": "code",
   "execution_count": 79,
   "metadata": {},
   "outputs": [
    {
     "data": {
      "text/plain": [
       "array([223288,  10715,  11456,  20771,  11624,  19618,   2798,   2469,\n",
       "         2732,  32416,  15013,  88331,   5206])"
      ]
     },
     "execution_count": 79,
     "metadata": {},
     "output_type": "execute_result"
    }
   ],
   "source": [
    "confusion_sum"
   ]
  },
  {
   "cell_type": "code",
   "execution_count": 99,
   "metadata": {},
   "outputs": [],
   "source": [
    "confusion2=[]\n",
    "for i in range(0,13):\n",
    "    confusion2.append(confusion[i]/confusion_sum[i])"
   ]
  },
  {
   "cell_type": "code",
   "execution_count": 100,
   "metadata": {},
   "outputs": [
    {
     "data": {
      "text/plain": [
       "[array([7.95886926e-01, 6.50729103e-03, 4.43373580e-03, 3.98588370e-04,\n",
       "        1.19666081e-02, 2.05474544e-02, 1.13261796e-02, 5.07819498e-02,\n",
       "        2.74578123e-02, 3.20841245e-02, 8.97047759e-03, 1.68974598e-02,\n",
       "        1.27413923e-02]),\n",
       " array([0.04638357, 0.26010266, 0.07447503, 0.00093327, 0.02491834,\n",
       "        0.1029398 , 0.02911806, 0.1125525 , 0.03938404, 0.19934671,\n",
       "        0.01717219, 0.06140924, 0.03126458]),\n",
       " array([0.03605098, 0.14568785, 0.05857193, 0.00165852, 0.03578911,\n",
       "        0.11496159, 0.04085196, 0.16803422, 0.06808659, 0.17589036,\n",
       "        0.02950419, 0.09523394, 0.02967877]),\n",
       " array([0.05565452, 0.0145395 , 0.01410621, 0.0064513 , 0.05228444,\n",
       "        0.09022194, 0.07799336, 0.14929469, 0.14322854, 0.10957585,\n",
       "        0.08767031, 0.16556738, 0.03341197]),\n",
       " array([0.04748796, 0.02245354, 0.01746387, 0.00206469, 0.06374742,\n",
       "        0.10770819, 0.07467309, 0.17988644, 0.13618376, 0.14341019,\n",
       "        0.03226084, 0.13282863, 0.03983138]),\n",
       " array([0.03981038, 0.06626567, 0.02854521, 0.0007646 , 0.02620043,\n",
       "        0.34555001, 0.0426649 , 0.15246202, 0.03761851, 0.11627077,\n",
       "        0.0200836 , 0.06249363, 0.06127026]),\n",
       " array([0.03359543, 0.02215868, 0.0192995 , 0.0007148 , 0.07005004,\n",
       "        0.0964975 , 0.14617584, 0.11329521, 0.16082916, 0.14081487,\n",
       "        0.03538242, 0.13831308, 0.02287348]),\n",
       " array([0.05386796, 0.03726205, 0.02794654, 0.00283516, 0.03442689,\n",
       "        0.13932766, 0.04779263, 0.32118267, 0.0562981 , 0.11543135,\n",
       "        0.03321183, 0.06844876, 0.06196841]),\n",
       " array([0.04831625, 0.02196193, 0.01939971, 0.00256223, 0.06405564,\n",
       "        0.10102489, 0.09407028, 0.16947291, 0.1852123 , 0.11530015,\n",
       "        0.04538799, 0.09956076, 0.03367496]),\n",
       " array([2.93373643e-02, 3.89930898e-02, 2.29824778e-02, 4.31885489e-04,\n",
       "        2.04837117e-02, 4.79701382e-02, 3.57847976e-02, 6.39499013e-02,\n",
       "        2.15325765e-02, 6.44835884e-01, 9.56317868e-03, 4.23556269e-02,\n",
       "        2.17793682e-02]),\n",
       " array([0.06401119, 0.02031573, 0.01578632, 0.00586159, 0.05808299,\n",
       "        0.08819024, 0.07640045, 0.1706521 , 0.14813828, 0.09924732,\n",
       "        0.1065743 , 0.11077067, 0.03596883]),\n",
       " array([0.05374104, 0.01291732, 0.01402679, 0.0048907 , 0.05170325,\n",
       "        0.08440978, 0.08335692, 0.13273936, 0.107867  , 0.12848264,\n",
       "        0.04982396, 0.24913111, 0.02691014]),\n",
       " array([0.06511717, 0.02593162, 0.01671149, 0.00172877, 0.03246254,\n",
       "        0.18939685, 0.04648483, 0.22493277, 0.05877833, 0.10910488,\n",
       "        0.03457549, 0.08182866, 0.1129466 ])]"
      ]
     },
     "execution_count": 100,
     "metadata": {},
     "output_type": "execute_result"
    }
   ],
   "source": [
    "confusion2"
   ]
  },
  {
   "cell_type": "code",
   "execution_count": 82,
   "metadata": {},
   "outputs": [
    {
     "data": {
      "text/plain": [
       "0.7958869263014582"
      ]
     },
     "execution_count": 82,
     "metadata": {},
     "output_type": "execute_result"
    }
   ],
   "source": [
    "confusion[0][0]/sum(confusion[0])"
   ]
  },
  {
   "cell_type": "code",
   "execution_count": 83,
   "metadata": {},
   "outputs": [
    {
     "data": {
      "text/plain": [
       "0.2601026598226785"
      ]
     },
     "execution_count": 83,
     "metadata": {},
     "output_type": "execute_result"
    }
   ],
   "source": [
    "confusion[1][1]/sum(confusion[1])"
   ]
  },
  {
   "cell_type": "code",
   "execution_count": 84,
   "metadata": {},
   "outputs": [
    {
     "data": {
      "text/plain": [
       "0.058571927374301676"
      ]
     },
     "execution_count": 84,
     "metadata": {},
     "output_type": "execute_result"
    }
   ],
   "source": [
    "confusion[2][2]/sum(confusion[2])"
   ]
  },
  {
   "cell_type": "code",
   "execution_count": 85,
   "metadata": {},
   "outputs": [
    {
     "data": {
      "text/plain": [
       "0.006451302296471041"
      ]
     },
     "execution_count": 85,
     "metadata": {},
     "output_type": "execute_result"
    }
   ],
   "source": [
    "confusion[3][3]/sum(confusion[3])"
   ]
  },
  {
   "cell_type": "code",
   "execution_count": 86,
   "metadata": {},
   "outputs": [
    {
     "data": {
      "text/plain": [
       "0.06374741913282864"
      ]
     },
     "execution_count": 86,
     "metadata": {},
     "output_type": "execute_result"
    }
   ],
   "source": [
    "confusion[4][4]/sum(confusion[4])"
   ]
  },
  {
   "cell_type": "code",
   "execution_count": 87,
   "metadata": {},
   "outputs": [
    {
     "data": {
      "text/plain": [
       "0.34555000509735956"
      ]
     },
     "execution_count": 87,
     "metadata": {},
     "output_type": "execute_result"
    }
   ],
   "source": [
    "confusion[5][5]/sum(confusion[5])"
   ]
  },
  {
   "cell_type": "code",
   "execution_count": 88,
   "metadata": {},
   "outputs": [
    {
     "data": {
      "text/plain": [
       "0.1461758398856326"
      ]
     },
     "execution_count": 88,
     "metadata": {},
     "output_type": "execute_result"
    }
   ],
   "source": [
    "confusion[6][6]/sum(confusion[6])"
   ]
  },
  {
   "cell_type": "code",
   "execution_count": 89,
   "metadata": {},
   "outputs": [
    {
     "data": {
      "text/plain": [
       "0.32118266504657755"
      ]
     },
     "execution_count": 89,
     "metadata": {},
     "output_type": "execute_result"
    }
   ],
   "source": [
    "confusion[7][7]/sum(confusion[7])"
   ]
  },
  {
   "cell_type": "code",
   "execution_count": 90,
   "metadata": {},
   "outputs": [
    {
     "data": {
      "text/plain": [
       "0.18521229868228403"
      ]
     },
     "execution_count": 90,
     "metadata": {},
     "output_type": "execute_result"
    }
   ],
   "source": [
    "confusion[8][8]/sum(confusion[8])"
   ]
  },
  {
   "cell_type": "code",
   "execution_count": 91,
   "metadata": {},
   "outputs": [
    {
     "data": {
      "text/plain": [
       "0.6448358835143139"
      ]
     },
     "execution_count": 91,
     "metadata": {},
     "output_type": "execute_result"
    }
   ],
   "source": [
    "confusion[9][9]/sum(confusion[9])"
   ]
  },
  {
   "cell_type": "code",
   "execution_count": 92,
   "metadata": {},
   "outputs": [
    {
     "data": {
      "text/plain": [
       "0.10657430227136482"
      ]
     },
     "execution_count": 92,
     "metadata": {},
     "output_type": "execute_result"
    }
   ],
   "source": [
    "confusion[10][10]/sum(confusion[10])"
   ]
  },
  {
   "cell_type": "code",
   "execution_count": 93,
   "metadata": {},
   "outputs": [
    {
     "data": {
      "text/plain": [
       "0.24913110912363723"
      ]
     },
     "execution_count": 93,
     "metadata": {},
     "output_type": "execute_result"
    }
   ],
   "source": [
    "confusion[11][11]/sum(confusion[11])"
   ]
  },
  {
   "cell_type": "code",
   "execution_count": 94,
   "metadata": {},
   "outputs": [
    {
     "data": {
      "text/plain": [
       "0.11294660007683442"
      ]
     },
     "execution_count": 94,
     "metadata": {},
     "output_type": "execute_result"
    }
   ],
   "source": [
    "confusion[12][12]/sum(confusion[12])"
   ]
  },
  {
   "cell_type": "code",
   "execution_count": 151,
   "metadata": {},
   "outputs": [],
   "source": [
    "import matplotlib.pyplot as plt"
   ]
  },
  {
   "cell_type": "code",
   "execution_count": null,
   "metadata": {},
   "outputs": [],
   "source": [
    "y_train_tumor = [1]*bladder_train.shape[0]+[2]*breast_train.shape[0]+[3]*colorectal_train.shape[0]+[4]*glio_train.shape[0]+[5]*lung_train.shape[0]\\\n",
    "+[6]*pancreatic_train.shape[0]+[7]*renal_train.shape[0]+[8]*prostate_train.shape[0]+[9]*skin_train.shape[0]+[10]*stomach_train.shape[0]\\\n",
    "+[11]*uterine_train.shape[0]"
   ]
  },
  {
   "cell_type": "code",
   "execution_count": 97,
   "metadata": {},
   "outputs": [],
   "source": [
    "import matplotlib.pyplot as plt\n",
    "%matplotlib inline"
   ]
  },
  {
   "cell_type": "code",
   "execution_count": 103,
   "metadata": {},
   "outputs": [
    {
     "data": {
      "image/png": "[encoded data removed]",
      "text/plain": [
       "<Figure size 576x576 with 2 Axes>"
      ]
     },
     "metadata": {
      "needs_background": "light"
     },
     "output_type": "display_data"
    }
   ],
   "source": [
    "plt.figure(figsize=(8,8))\n",
    "\n",
    "sns.heatmap(confusion2,square=True,cmap=\"Blues\",annot=True,annot_kws={'size':8},xticklabels=['normal','bladder','breast','colorectal',\\\n",
    "                                               'glioma/blastoma','lung','pancreatic','renal','prostate','skin','stomach','uterine','liver'],\n",
    "           yticklabels=['normal','bladder','breast','colorectal',\\\n",
    "                                               'glioma/blastoma','lung','pancreatic','renal','prostate','skin','stomach','uterine','liver'],fmt='.2f')\n",
    "\n",
    "plt.xticks(fontsize=20)\n",
    "plt.yticks(fontsize=20)\n",
    "plt.xlabel('Predicted', fontsize=20)\n",
    "plt.ylabel('Actual', fontsize=20)\n",
    "plt.title('CNN confusion matrix', fontsize=25)\n",
    "plt.tight_layout()\n",
    "#plt.savefig('model_liver.jpg');"
   ]
  },
  {
   "cell_type": "code",
   "execution_count": null,
   "metadata": {},
   "outputs": [],
   "source": [
    "def print_stats(confusion_matrix):\n",
    "    for i, v in emumerate(['normal','bladder','breast','colorectal',\\\n",
    "                        'glioma/blastoma','lung','pancreatic','renal','prostate','skin','stomach','uterine','liver']):\n",
    "        confusion_2[i]"
   ]
  }
 ],
 "metadata": {
  "kernelspec": {
   "display_name": "Python 3",
   "language": "python",
   "name": "python3"
  },
  "language_info": {
   "codemirror_mode": {
    "name": "ipython",
    "version": 3
   },
   "file_extension": ".py",
   "mimetype": "text/x-python",
   "name": "python",
   "nbconvert_exporter": "python",
   "pygments_lexer": "ipython3",
   "version": "3.7.6"
  }
 },
 "nbformat": 4,
 "nbformat_minor": 4
}
